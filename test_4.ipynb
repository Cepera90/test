{
  "nbformat": 4,
  "nbformat_minor": 0,
  "metadata": {
    "colab": {
      "name": "test_4.ipynb",
      "provenance": [],
      "collapsed_sections": [],
      "mount_file_id": "1fb50qOvKzDDm0fFuSp3Q7MSeZEihxoqP",
      "authorship_tag": "ABX9TyNfTmREeoQJEgvHh5ntniQi",
      "include_colab_link": true
    },
    "kernelspec": {
      "name": "python3",
      "display_name": "Python 3"
    },
    "language_info": {
      "name": "python"
    }
  },
  "cells": [
    {
      "cell_type": "markdown",
      "metadata": {
        "id": "view-in-github",
        "colab_type": "text"
      },
      "source": [
        "<a href=\"https://colab.research.google.com/github/Cepera90/test/blob/main/test_4.ipynb\" target=\"_parent\"><img src=\"https://colab.research.google.com/assets/colab-badge.svg\" alt=\"Open In Colab\"/></a>"
      ]
    },
    {
      "cell_type": "code",
      "execution_count": 31,
      "metadata": {
        "id": "DYF3WTYwaZ2F"
      },
      "outputs": [],
      "source": [
        "# Import libraries\n",
        "import numpy as np\n",
        "import pandas as pd\n",
        "from sklearn.tree import DecisionTreeClassifier\n",
        "from sklearn.metrics import classification_report\n",
        "from sklearn.metrics import accuracy_score\n",
        "from sklearn.model_selection import train_test_split"
      ]
    },
    {
      "cell_type": "code",
      "source": [
        "# Open inc_points_c\n",
        "TC = pd.read_csv(\"/content/drive/MyDrive/test/inc_points_c.csv\")"
      ],
      "metadata": {
        "id": "84e9ILGnaqd0"
      },
      "execution_count": 22,
      "outputs": []
    },
    {
      "cell_type": "code",
      "source": [
        "TC.columns"
      ],
      "metadata": {
        "colab": {
          "base_uri": "https://localhost:8080/"
        },
        "id": "wnGOpFTRbGzb",
        "outputId": "d8898db1-c39d-437c-972e-880036c6b0bb"
      },
      "execution_count": 8,
      "outputs": [
        {
          "output_type": "execute_result",
          "data": {
            "text/plain": [
              "Index(['Unnamed: 0', 'IncomingTrackId', 'Speed', 'Latitude', 'Longitude',\n",
              "       'PointDate', 'Height', 'Acceleration', 'Deceleration', 'TickTimestamp',\n",
              "       'AccelerationXOriginal', 'AccelerationYOriginal',\n",
              "       'AccelerationZOriginal', 'TrackOrigin', 'os_version'],\n",
              "      dtype='object')"
            ]
          },
          "metadata": {},
          "execution_count": 8
        }
      ]
    },
    {
      "cell_type": "code",
      "source": [
        "#Leave the numeric data inc point and track origin\n",
        "TC = TC.drop(['Unnamed: 0','os_version','TickTimestamp','PointDate'], axis=1)"
      ],
      "metadata": {
        "id": "mbcXGimKb9z0"
      },
      "execution_count": 23,
      "outputs": []
    },
    {
      "cell_type": "code",
      "source": [
        "#Prepare data\n",
        "X = TC.loc[:,TC.columns != 'TrackOrigin']\n",
        "y = TC.loc[:,'TrackOrigin']\n",
        "X_train, X_test, y_train, y_test = train_test_split(X, y, test_size=0.2)"
      ],
      "metadata": {
        "id": "cT4TqXB_fLcc"
      },
      "execution_count": 29,
      "outputs": []
    },
    {
      "cell_type": "code",
      "source": [
        "# DecisionTreeClassifier model train\n",
        "model = DecisionTreeClassifier()\n",
        "model.fit(X_train, y_train)"
      ],
      "metadata": {
        "colab": {
          "base_uri": "https://localhost:8080/"
        },
        "id": "DwJqnBTieY3J",
        "outputId": "4aee0767-2aaa-4fa5-ed62-730b7d70a52f"
      },
      "execution_count": 30,
      "outputs": [
        {
          "output_type": "execute_result",
          "data": {
            "text/plain": [
              "DecisionTreeClassifier()"
            ]
          },
          "metadata": {},
          "execution_count": 30
        }
      ]
    },
    {
      "cell_type": "code",
      "source": [
        "# DecisionTreeClassifier model prediction\n",
        "DTC_pred = model.predict(X_test)"
      ],
      "metadata": {
        "id": "PVdLdHpeknV7"
      },
      "execution_count": 33,
      "outputs": []
    },
    {
      "cell_type": "code",
      "source": [
        "# Accuracy score\n",
        "print(accuracy_score(DTC_pred, y_test))"
      ],
      "metadata": {
        "colab": {
          "base_uri": "https://localhost:8080/"
        },
        "id": "itHSLLNElb9A",
        "outputId": "66040654-852c-4a93-aeb5-6fc5e7b15b14"
      },
      "execution_count": 34,
      "outputs": [
        {
          "output_type": "stream",
          "name": "stdout",
          "text": [
            "0.999933293047566\n"
          ]
        }
      ]
    },
    {
      "cell_type": "code",
      "source": [
        "# Classification_report\n",
        "print(classification_report(DTC_pred, y_test))"
      ],
      "metadata": {
        "colab": {
          "base_uri": "https://localhost:8080/"
        },
        "id": "AkVNxwaumPD1",
        "outputId": "c56bebaa-1a3f-4759-c6d9-465acacde0b7"
      },
      "execution_count": 37,
      "outputs": [
        {
          "output_type": "stream",
          "name": "stdout",
          "text": [
            "                precision    recall  f1-score   support\n",
            "\n",
            "OriginalDriver       1.00      1.00      1.00    553515\n",
            "     Passanger       1.00      1.00      1.00    184377\n",
            "          Taxi       1.00      1.00      1.00     26646\n",
            "\n",
            "      accuracy                           1.00    764538\n",
            "     macro avg       1.00      1.00      1.00    764538\n",
            "  weighted avg       1.00      1.00      1.00    764538\n",
            "\n"
          ]
        }
      ]
    }
  ]
}