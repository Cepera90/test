{
  "nbformat": 4,
  "nbformat_minor": 0,
  "metadata": {
    "colab": {
      "name": "test_3.ipynb",
      "provenance": [],
      "collapsed_sections": [],
      "mount_file_id": "https://github.com/Cepera90/test/blob/main/test_3.ipynb",
      "authorship_tag": "ABX9TyMSr75uHnyMQamdWa3IYoZi",
      "include_colab_link": true
    },
    "kernelspec": {
      "name": "python3",
      "display_name": "Python 3"
    },
    "language_info": {
      "name": "python"
    }
  },
  "cells": [
    {
      "cell_type": "markdown",
      "metadata": {
        "id": "view-in-github",
        "colab_type": "text"
      },
      "source": [
        "<a href=\"https://colab.research.google.com/github/Cepera90/test/blob/main/test_3.ipynb\" target=\"_parent\"><img src=\"https://colab.research.google.com/assets/colab-badge.svg\" alt=\"Open In Colab\"/></a>"
      ]
    },
    {
      "cell_type": "code",
      "execution_count": 1,
      "metadata": {
        "id": "DYF3WTYwaZ2F"
      },
      "outputs": [],
      "source": [
        "# Import libraries\n",
        "import numpy as np\n",
        "import pandas as pd\n",
        "from sklearn.tree import DecisionTreeClassifier\n",
        "from sklearn.ensemble import BaggingClassifier, RandomForestClassifier, ExtraTreesClassifier, AdaBoostClassifier\n",
        "from sklearn.metrics import accuracy_score\n",
        "from sklearn.model_selection import train_test_split, GridSearchCV, RandomizedSearchCV\n",
        "import matplotlib.pyplot as plt\n",
        "import seaborn as sns"
      ]
    },
    {
      "cell_type": "code",
      "source": [
        "# Open inc_points_c\n",
        "TC = pd.read_csv(\"/content/drive/MyDrive/test/inc_points_c.csv\")\n",
        "TC = TC.drop(['Unnamed: 0'], axis=1)"
      ],
      "metadata": {
        "id": "84e9ILGnaqd0"
      },
      "execution_count": 2,
      "outputs": []
    },
    {
      "cell_type": "code",
      "source": [
        "# See median values for drivers and passangers\n",
        "TC.groupby('TrackOrigin').median()"
      ],
      "metadata": {
        "colab": {
          "base_uri": "https://localhost:8080/",
          "height": 256
        },
        "id": "wnGOpFTRbGzb",
        "outputId": "4029dac8-9a6a-4287-fc43-d4d2422a8230"
      },
      "execution_count": null,
      "outputs": [
        {
          "output_type": "execute_result",
          "data": {
            "text/plain": [
              "                Unnamed: 0  IncomingTrackId      Speed   Latitude  Longitude  \\\n",
              "TrackOrigin                                                                    \n",
              "OriginalDriver   1383425.0       20681420.0   8.780098  53.214530  45.930267   \n",
              "Passanger        3310451.0       20800891.0  31.359722  51.774608  55.232452   \n",
              "Taxi             3233483.0       20713602.0  18.775861  55.717843  37.575511   \n",
              "\n",
              "                  Height  Acceleration  Deceleration  TickTimestamp  \\\n",
              "TrackOrigin                                                           \n",
              "OriginalDriver  107091.0           0.0           0.0   1.571309e+09   \n",
              "Passanger       110196.0           0.0           0.0   1.571386e+09   \n",
              "Taxi            155900.0           0.0           0.0   1.571312e+09   \n",
              "\n",
              "                AccelerationXOriginal  AccelerationYOriginal  \\\n",
              "TrackOrigin                                                    \n",
              "OriginalDriver               0.000000              -0.104874   \n",
              "Passanger                   -0.002433               0.000000   \n",
              "Taxi                         0.000000               0.000000   \n",
              "\n",
              "                AccelerationZOriginal  \n",
              "TrackOrigin                            \n",
              "OriginalDriver              -0.294083  \n",
              "Passanger                   -0.189388  \n",
              "Taxi                         0.052414  "
            ],
            "text/html": [
              "\n",
              "  <div id=\"df-61b51627-83dd-46a8-850b-1908a56b7b6d\">\n",
              "    <div class=\"colab-df-container\">\n",
              "      <div>\n",
              "<style scoped>\n",
              "    .dataframe tbody tr th:only-of-type {\n",
              "        vertical-align: middle;\n",
              "    }\n",
              "\n",
              "    .dataframe tbody tr th {\n",
              "        vertical-align: top;\n",
              "    }\n",
              "\n",
              "    .dataframe thead th {\n",
              "        text-align: right;\n",
              "    }\n",
              "</style>\n",
              "<table border=\"1\" class=\"dataframe\">\n",
              "  <thead>\n",
              "    <tr style=\"text-align: right;\">\n",
              "      <th></th>\n",
              "      <th>Unnamed: 0</th>\n",
              "      <th>IncomingTrackId</th>\n",
              "      <th>Speed</th>\n",
              "      <th>Latitude</th>\n",
              "      <th>Longitude</th>\n",
              "      <th>Height</th>\n",
              "      <th>Acceleration</th>\n",
              "      <th>Deceleration</th>\n",
              "      <th>TickTimestamp</th>\n",
              "      <th>AccelerationXOriginal</th>\n",
              "      <th>AccelerationYOriginal</th>\n",
              "      <th>AccelerationZOriginal</th>\n",
              "    </tr>\n",
              "    <tr>\n",
              "      <th>TrackOrigin</th>\n",
              "      <th></th>\n",
              "      <th></th>\n",
              "      <th></th>\n",
              "      <th></th>\n",
              "      <th></th>\n",
              "      <th></th>\n",
              "      <th></th>\n",
              "      <th></th>\n",
              "      <th></th>\n",
              "      <th></th>\n",
              "      <th></th>\n",
              "      <th></th>\n",
              "    </tr>\n",
              "  </thead>\n",
              "  <tbody>\n",
              "    <tr>\n",
              "      <th>OriginalDriver</th>\n",
              "      <td>1383425.0</td>\n",
              "      <td>20681420.0</td>\n",
              "      <td>8.780098</td>\n",
              "      <td>53.214530</td>\n",
              "      <td>45.930267</td>\n",
              "      <td>107091.0</td>\n",
              "      <td>0.0</td>\n",
              "      <td>0.0</td>\n",
              "      <td>1.571309e+09</td>\n",
              "      <td>0.000000</td>\n",
              "      <td>-0.104874</td>\n",
              "      <td>-0.294083</td>\n",
              "    </tr>\n",
              "    <tr>\n",
              "      <th>Passanger</th>\n",
              "      <td>3310451.0</td>\n",
              "      <td>20800891.0</td>\n",
              "      <td>31.359722</td>\n",
              "      <td>51.774608</td>\n",
              "      <td>55.232452</td>\n",
              "      <td>110196.0</td>\n",
              "      <td>0.0</td>\n",
              "      <td>0.0</td>\n",
              "      <td>1.571386e+09</td>\n",
              "      <td>-0.002433</td>\n",
              "      <td>0.000000</td>\n",
              "      <td>-0.189388</td>\n",
              "    </tr>\n",
              "    <tr>\n",
              "      <th>Taxi</th>\n",
              "      <td>3233483.0</td>\n",
              "      <td>20713602.0</td>\n",
              "      <td>18.775861</td>\n",
              "      <td>55.717843</td>\n",
              "      <td>37.575511</td>\n",
              "      <td>155900.0</td>\n",
              "      <td>0.0</td>\n",
              "      <td>0.0</td>\n",
              "      <td>1.571312e+09</td>\n",
              "      <td>0.000000</td>\n",
              "      <td>0.000000</td>\n",
              "      <td>0.052414</td>\n",
              "    </tr>\n",
              "  </tbody>\n",
              "</table>\n",
              "</div>\n",
              "      <button class=\"colab-df-convert\" onclick=\"convertToInteractive('df-61b51627-83dd-46a8-850b-1908a56b7b6d')\"\n",
              "              title=\"Convert this dataframe to an interactive table.\"\n",
              "              style=\"display:none;\">\n",
              "        \n",
              "  <svg xmlns=\"http://www.w3.org/2000/svg\" height=\"24px\"viewBox=\"0 0 24 24\"\n",
              "       width=\"24px\">\n",
              "    <path d=\"M0 0h24v24H0V0z\" fill=\"none\"/>\n",
              "    <path d=\"M18.56 5.44l.94 2.06.94-2.06 2.06-.94-2.06-.94-.94-2.06-.94 2.06-2.06.94zm-11 1L8.5 8.5l.94-2.06 2.06-.94-2.06-.94L8.5 2.5l-.94 2.06-2.06.94zm10 10l.94 2.06.94-2.06 2.06-.94-2.06-.94-.94-2.06-.94 2.06-2.06.94z\"/><path d=\"M17.41 7.96l-1.37-1.37c-.4-.4-.92-.59-1.43-.59-.52 0-1.04.2-1.43.59L10.3 9.45l-7.72 7.72c-.78.78-.78 2.05 0 2.83L4 21.41c.39.39.9.59 1.41.59.51 0 1.02-.2 1.41-.59l7.78-7.78 2.81-2.81c.8-.78.8-2.07 0-2.86zM5.41 20L4 18.59l7.72-7.72 1.47 1.35L5.41 20z\"/>\n",
              "  </svg>\n",
              "      </button>\n",
              "      \n",
              "  <style>\n",
              "    .colab-df-container {\n",
              "      display:flex;\n",
              "      flex-wrap:wrap;\n",
              "      gap: 12px;\n",
              "    }\n",
              "\n",
              "    .colab-df-convert {\n",
              "      background-color: #E8F0FE;\n",
              "      border: none;\n",
              "      border-radius: 50%;\n",
              "      cursor: pointer;\n",
              "      display: none;\n",
              "      fill: #1967D2;\n",
              "      height: 32px;\n",
              "      padding: 0 0 0 0;\n",
              "      width: 32px;\n",
              "    }\n",
              "\n",
              "    .colab-df-convert:hover {\n",
              "      background-color: #E2EBFA;\n",
              "      box-shadow: 0px 1px 2px rgba(60, 64, 67, 0.3), 0px 1px 3px 1px rgba(60, 64, 67, 0.15);\n",
              "      fill: #174EA6;\n",
              "    }\n",
              "\n",
              "    [theme=dark] .colab-df-convert {\n",
              "      background-color: #3B4455;\n",
              "      fill: #D2E3FC;\n",
              "    }\n",
              "\n",
              "    [theme=dark] .colab-df-convert:hover {\n",
              "      background-color: #434B5C;\n",
              "      box-shadow: 0px 1px 3px 1px rgba(0, 0, 0, 0.15);\n",
              "      filter: drop-shadow(0px 1px 2px rgba(0, 0, 0, 0.3));\n",
              "      fill: #FFFFFF;\n",
              "    }\n",
              "  </style>\n",
              "\n",
              "      <script>\n",
              "        const buttonEl =\n",
              "          document.querySelector('#df-61b51627-83dd-46a8-850b-1908a56b7b6d button.colab-df-convert');\n",
              "        buttonEl.style.display =\n",
              "          google.colab.kernel.accessAllowed ? 'block' : 'none';\n",
              "\n",
              "        async function convertToInteractive(key) {\n",
              "          const element = document.querySelector('#df-61b51627-83dd-46a8-850b-1908a56b7b6d');\n",
              "          const dataTable =\n",
              "            await google.colab.kernel.invokeFunction('convertToInteractive',\n",
              "                                                     [key], {});\n",
              "          if (!dataTable) return;\n",
              "\n",
              "          const docLinkHtml = 'Like what you see? Visit the ' +\n",
              "            '<a target=\"_blank\" href=https://colab.research.google.com/notebooks/data_table.ipynb>data table notebook</a>'\n",
              "            + ' to learn more about interactive tables.';\n",
              "          element.innerHTML = '';\n",
              "          dataTable['output_type'] = 'display_data';\n",
              "          await google.colab.output.renderOutput(dataTable, element);\n",
              "          const docLink = document.createElement('div');\n",
              "          docLink.innerHTML = docLinkHtml;\n",
              "          element.appendChild(docLink);\n",
              "        }\n",
              "      </script>\n",
              "    </div>\n",
              "  </div>\n",
              "  "
            ]
          },
          "metadata": {},
          "execution_count": 3
        }
      ]
    },
    {
      "cell_type": "markdown",
      "source": [
        "We see what median passanger user speed more when drivers speed (I think because professional drivers have strict speed limit)"
      ],
      "metadata": {
        "id": "rTK7AdbgBRXQ"
      }
    },
    {
      "cell_type": "code",
      "source": [
        "# See mean values for drivers and passangers\n",
        "TC.groupby('TrackOrigin').mean()"
      ],
      "metadata": {
        "colab": {
          "base_uri": "https://localhost:8080/",
          "height": 238
        },
        "id": "-Wd872kb8t1K",
        "outputId": "7b948255-c906-42d0-e0af-79a29b561d49"
      },
      "execution_count": null,
      "outputs": [
        {
          "output_type": "execute_result",
          "data": {
            "text/plain": [
              "                  Unnamed: 0  IncomingTrackId      Speed   Latitude  \\\n",
              "TrackOrigin                                                           \n",
              "OriginalDriver  1.383425e+06     2.070059e+07  24.503922  34.726617   \n",
              "Passanger       3.303812e+06     2.069142e+07  37.948386  21.225763   \n",
              "Taxi            3.231599e+06     2.065376e+07  33.141940  51.783496   \n",
              "\n",
              "                Longitude         Height  Acceleration  Deceleration  \\\n",
              "TrackOrigin                                                            \n",
              "OriginalDriver  67.394502  127853.709936      0.045015      0.078361   \n",
              "Passanger       84.263927  115249.570732      0.069823      0.182956   \n",
              "Taxi            34.897831  155451.098302      0.264315      0.392949   \n",
              "\n",
              "                TickTimestamp  AccelerationXOriginal  AccelerationYOriginal  \\\n",
              "TrackOrigin                                                                   \n",
              "OriginalDriver   1.571310e+09               -0.01030              -0.146879   \n",
              "Passanger        1.571297e+09                0.01037               0.028603   \n",
              "Taxi             1.571291e+09                0.03827              -0.044998   \n",
              "\n",
              "                AccelerationZOriginal  MidOverSpeed  HiOverSpeed  \n",
              "TrackOrigin                                                       \n",
              "OriginalDriver              -0.248071      4.768319     0.460334  \n",
              "Passanger                   -0.154312     10.552048     1.185344  \n",
              "Taxi                         0.102176      8.952944     1.044906  "
            ],
            "text/html": [
              "\n",
              "  <div id=\"df-78ef0ca5-bf33-4d09-9f83-430c604d63c4\">\n",
              "    <div class=\"colab-df-container\">\n",
              "      <div>\n",
              "<style scoped>\n",
              "    .dataframe tbody tr th:only-of-type {\n",
              "        vertical-align: middle;\n",
              "    }\n",
              "\n",
              "    .dataframe tbody tr th {\n",
              "        vertical-align: top;\n",
              "    }\n",
              "\n",
              "    .dataframe thead th {\n",
              "        text-align: right;\n",
              "    }\n",
              "</style>\n",
              "<table border=\"1\" class=\"dataframe\">\n",
              "  <thead>\n",
              "    <tr style=\"text-align: right;\">\n",
              "      <th></th>\n",
              "      <th>Unnamed: 0</th>\n",
              "      <th>IncomingTrackId</th>\n",
              "      <th>Speed</th>\n",
              "      <th>Latitude</th>\n",
              "      <th>Longitude</th>\n",
              "      <th>Height</th>\n",
              "      <th>Acceleration</th>\n",
              "      <th>Deceleration</th>\n",
              "      <th>TickTimestamp</th>\n",
              "      <th>AccelerationXOriginal</th>\n",
              "      <th>AccelerationYOriginal</th>\n",
              "      <th>AccelerationZOriginal</th>\n",
              "      <th>MidOverSpeed</th>\n",
              "      <th>HiOverSpeed</th>\n",
              "    </tr>\n",
              "    <tr>\n",
              "      <th>TrackOrigin</th>\n",
              "      <th></th>\n",
              "      <th></th>\n",
              "      <th></th>\n",
              "      <th></th>\n",
              "      <th></th>\n",
              "      <th></th>\n",
              "      <th></th>\n",
              "      <th></th>\n",
              "      <th></th>\n",
              "      <th></th>\n",
              "      <th></th>\n",
              "      <th></th>\n",
              "      <th></th>\n",
              "      <th></th>\n",
              "    </tr>\n",
              "  </thead>\n",
              "  <tbody>\n",
              "    <tr>\n",
              "      <th>OriginalDriver</th>\n",
              "      <td>1.383425e+06</td>\n",
              "      <td>2.070059e+07</td>\n",
              "      <td>24.503922</td>\n",
              "      <td>34.726617</td>\n",
              "      <td>67.394502</td>\n",
              "      <td>127853.709936</td>\n",
              "      <td>0.045015</td>\n",
              "      <td>0.078361</td>\n",
              "      <td>1.571310e+09</td>\n",
              "      <td>-0.01030</td>\n",
              "      <td>-0.146879</td>\n",
              "      <td>-0.248071</td>\n",
              "      <td>4.768319</td>\n",
              "      <td>0.460334</td>\n",
              "    </tr>\n",
              "    <tr>\n",
              "      <th>Passanger</th>\n",
              "      <td>3.303812e+06</td>\n",
              "      <td>2.069142e+07</td>\n",
              "      <td>37.948386</td>\n",
              "      <td>21.225763</td>\n",
              "      <td>84.263927</td>\n",
              "      <td>115249.570732</td>\n",
              "      <td>0.069823</td>\n",
              "      <td>0.182956</td>\n",
              "      <td>1.571297e+09</td>\n",
              "      <td>0.01037</td>\n",
              "      <td>0.028603</td>\n",
              "      <td>-0.154312</td>\n",
              "      <td>10.552048</td>\n",
              "      <td>1.185344</td>\n",
              "    </tr>\n",
              "    <tr>\n",
              "      <th>Taxi</th>\n",
              "      <td>3.231599e+06</td>\n",
              "      <td>2.065376e+07</td>\n",
              "      <td>33.141940</td>\n",
              "      <td>51.783496</td>\n",
              "      <td>34.897831</td>\n",
              "      <td>155451.098302</td>\n",
              "      <td>0.264315</td>\n",
              "      <td>0.392949</td>\n",
              "      <td>1.571291e+09</td>\n",
              "      <td>0.03827</td>\n",
              "      <td>-0.044998</td>\n",
              "      <td>0.102176</td>\n",
              "      <td>8.952944</td>\n",
              "      <td>1.044906</td>\n",
              "    </tr>\n",
              "  </tbody>\n",
              "</table>\n",
              "</div>\n",
              "      <button class=\"colab-df-convert\" onclick=\"convertToInteractive('df-78ef0ca5-bf33-4d09-9f83-430c604d63c4')\"\n",
              "              title=\"Convert this dataframe to an interactive table.\"\n",
              "              style=\"display:none;\">\n",
              "        \n",
              "  <svg xmlns=\"http://www.w3.org/2000/svg\" height=\"24px\"viewBox=\"0 0 24 24\"\n",
              "       width=\"24px\">\n",
              "    <path d=\"M0 0h24v24H0V0z\" fill=\"none\"/>\n",
              "    <path d=\"M18.56 5.44l.94 2.06.94-2.06 2.06-.94-2.06-.94-.94-2.06-.94 2.06-2.06.94zm-11 1L8.5 8.5l.94-2.06 2.06-.94-2.06-.94L8.5 2.5l-.94 2.06-2.06.94zm10 10l.94 2.06.94-2.06 2.06-.94-2.06-.94-.94-2.06-.94 2.06-2.06.94z\"/><path d=\"M17.41 7.96l-1.37-1.37c-.4-.4-.92-.59-1.43-.59-.52 0-1.04.2-1.43.59L10.3 9.45l-7.72 7.72c-.78.78-.78 2.05 0 2.83L4 21.41c.39.39.9.59 1.41.59.51 0 1.02-.2 1.41-.59l7.78-7.78 2.81-2.81c.8-.78.8-2.07 0-2.86zM5.41 20L4 18.59l7.72-7.72 1.47 1.35L5.41 20z\"/>\n",
              "  </svg>\n",
              "      </button>\n",
              "      \n",
              "  <style>\n",
              "    .colab-df-container {\n",
              "      display:flex;\n",
              "      flex-wrap:wrap;\n",
              "      gap: 12px;\n",
              "    }\n",
              "\n",
              "    .colab-df-convert {\n",
              "      background-color: #E8F0FE;\n",
              "      border: none;\n",
              "      border-radius: 50%;\n",
              "      cursor: pointer;\n",
              "      display: none;\n",
              "      fill: #1967D2;\n",
              "      height: 32px;\n",
              "      padding: 0 0 0 0;\n",
              "      width: 32px;\n",
              "    }\n",
              "\n",
              "    .colab-df-convert:hover {\n",
              "      background-color: #E2EBFA;\n",
              "      box-shadow: 0px 1px 2px rgba(60, 64, 67, 0.3), 0px 1px 3px 1px rgba(60, 64, 67, 0.15);\n",
              "      fill: #174EA6;\n",
              "    }\n",
              "\n",
              "    [theme=dark] .colab-df-convert {\n",
              "      background-color: #3B4455;\n",
              "      fill: #D2E3FC;\n",
              "    }\n",
              "\n",
              "    [theme=dark] .colab-df-convert:hover {\n",
              "      background-color: #434B5C;\n",
              "      box-shadow: 0px 1px 3px 1px rgba(0, 0, 0, 0.15);\n",
              "      filter: drop-shadow(0px 1px 2px rgba(0, 0, 0, 0.3));\n",
              "      fill: #FFFFFF;\n",
              "    }\n",
              "  </style>\n",
              "\n",
              "      <script>\n",
              "        const buttonEl =\n",
              "          document.querySelector('#df-78ef0ca5-bf33-4d09-9f83-430c604d63c4 button.colab-df-convert');\n",
              "        buttonEl.style.display =\n",
              "          google.colab.kernel.accessAllowed ? 'block' : 'none';\n",
              "\n",
              "        async function convertToInteractive(key) {\n",
              "          const element = document.querySelector('#df-78ef0ca5-bf33-4d09-9f83-430c604d63c4');\n",
              "          const dataTable =\n",
              "            await google.colab.kernel.invokeFunction('convertToInteractive',\n",
              "                                                     [key], {});\n",
              "          if (!dataTable) return;\n",
              "\n",
              "          const docLinkHtml = 'Like what you see? Visit the ' +\n",
              "            '<a target=\"_blank\" href=https://colab.research.google.com/notebooks/data_table.ipynb>data table notebook</a>'\n",
              "            + ' to learn more about interactive tables.';\n",
              "          element.innerHTML = '';\n",
              "          dataTable['output_type'] = 'display_data';\n",
              "          await google.colab.output.renderOutput(dataTable, element);\n",
              "          const docLink = document.createElement('div');\n",
              "          docLink.innerHTML = docLinkHtml;\n",
              "          element.appendChild(docLink);\n",
              "        }\n",
              "      </script>\n",
              "    </div>\n",
              "  </div>\n",
              "  "
            ]
          },
          "metadata": {},
          "execution_count": 5
        }
      ]
    },
    {
      "cell_type": "markdown",
      "source": [
        "We see what mean passanger user speed more when drivers speed. Taxi mean acceleration and deceleration more then OriginalDriver and Taxi."
      ],
      "metadata": {
        "id": "sF5fACHH99S8"
      }
    },
    {
      "cell_type": "code",
      "source": [
        "# Open rich_tracks_2\n",
        "RT = pd.read_csv(\"/content/drive/MyDrive/test/rich_tracks_2.csv\")"
      ],
      "metadata": {
        "id": "JjUGZ8TgFWPk"
      },
      "execution_count": 3,
      "outputs": []
    },
    {
      "cell_type": "code",
      "source": [
        "# See standart deviation values for drivers and passangers\n",
        "RT.groupby('TrackOrigin').std()"
      ],
      "metadata": {
        "id": "QMB8KxQvFbt3",
        "outputId": "84eafc9a-1970-4380-c62a-c83bc59de7b9",
        "colab": {
          "base_uri": "https://localhost:8080/",
          "height": 206
        }
      },
      "execution_count": null,
      "outputs": [
        {
          "output_type": "execute_result",
          "data": {
            "text/plain": [
              "                           Id  IncomingTrackId    Distance   Duration  \\\n",
              "TrackOrigin                                                             \n",
              "OriginalDriver    4801.492524     7.024230e+04  400.357699  28.220975   \n",
              "Passanger       259711.240231     1.585408e+06  375.529387  38.344564   \n",
              "Taxi            270605.859722     1.623501e+06  224.925853  29.744323   \n",
              "\n",
              "                AccelerationCount  DecelerationCount    Rating  PhoneUsage  \\\n",
              "TrackOrigin                                                                  \n",
              "OriginalDriver           2.439093           3.154929  1.139604    2.468450   \n",
              "Passanger                2.741259           3.029253  1.110365    7.581252   \n",
              "Taxi                     1.398211           2.161288  1.166092    2.183238   \n",
              "\n",
              "                OriginChanged  DistanceGPS  ...  CorneringDuration  \\\n",
              "TrackOrigin                                 ...                      \n",
              "OriginalDriver            0.0    20.389829  ...           1.515978   \n",
              "Passanger                 0.0    38.122624  ...           9.396443   \n",
              "Taxi                      0.0    33.480420  ...           1.296748   \n",
              "\n",
              "                AccelerationICount  DecelerationICount  AccelerationIDuration  \\\n",
              "TrackOrigin                                                                     \n",
              "OriginalDriver          115.376788          220.519050             184.963118   \n",
              "Passanger               205.534600          339.757433             561.066446   \n",
              "Taxi                    261.604315          195.238016             540.821350   \n",
              "\n",
              "                DecelerationIDuration  RatingCornering  VehicleId  BeaconId  \\\n",
              "TrackOrigin                                                                   \n",
              "OriginalDriver             297.982948         0.701323        NaN       NaN   \n",
              "Passanger                  435.932303         1.097489        NaN       NaN   \n",
              "Taxi                       295.079220              NaN        NaN       NaN   \n",
              "\n",
              "                DeviationRatio  DeviationMeters  \n",
              "TrackOrigin                                      \n",
              "OriginalDriver        0.000675        21.208906  \n",
              "Passanger             0.000609        27.464519  \n",
              "Taxi                  0.000000        26.437740  \n",
              "\n",
              "[3 rows x 51 columns]"
            ],
            "text/html": [
              "\n",
              "  <div id=\"df-1387f741-81b9-44a6-94d4-3b6c21cd4c80\">\n",
              "    <div class=\"colab-df-container\">\n",
              "      <div>\n",
              "<style scoped>\n",
              "    .dataframe tbody tr th:only-of-type {\n",
              "        vertical-align: middle;\n",
              "    }\n",
              "\n",
              "    .dataframe tbody tr th {\n",
              "        vertical-align: top;\n",
              "    }\n",
              "\n",
              "    .dataframe thead th {\n",
              "        text-align: right;\n",
              "    }\n",
              "</style>\n",
              "<table border=\"1\" class=\"dataframe\">\n",
              "  <thead>\n",
              "    <tr style=\"text-align: right;\">\n",
              "      <th></th>\n",
              "      <th>Id</th>\n",
              "      <th>IncomingTrackId</th>\n",
              "      <th>Distance</th>\n",
              "      <th>Duration</th>\n",
              "      <th>AccelerationCount</th>\n",
              "      <th>DecelerationCount</th>\n",
              "      <th>Rating</th>\n",
              "      <th>PhoneUsage</th>\n",
              "      <th>OriginChanged</th>\n",
              "      <th>DistanceGPS</th>\n",
              "      <th>...</th>\n",
              "      <th>CorneringDuration</th>\n",
              "      <th>AccelerationICount</th>\n",
              "      <th>DecelerationICount</th>\n",
              "      <th>AccelerationIDuration</th>\n",
              "      <th>DecelerationIDuration</th>\n",
              "      <th>RatingCornering</th>\n",
              "      <th>VehicleId</th>\n",
              "      <th>BeaconId</th>\n",
              "      <th>DeviationRatio</th>\n",
              "      <th>DeviationMeters</th>\n",
              "    </tr>\n",
              "    <tr>\n",
              "      <th>TrackOrigin</th>\n",
              "      <th></th>\n",
              "      <th></th>\n",
              "      <th></th>\n",
              "      <th></th>\n",
              "      <th></th>\n",
              "      <th></th>\n",
              "      <th></th>\n",
              "      <th></th>\n",
              "      <th></th>\n",
              "      <th></th>\n",
              "      <th></th>\n",
              "      <th></th>\n",
              "      <th></th>\n",
              "      <th></th>\n",
              "      <th></th>\n",
              "      <th></th>\n",
              "      <th></th>\n",
              "      <th></th>\n",
              "      <th></th>\n",
              "      <th></th>\n",
              "      <th></th>\n",
              "    </tr>\n",
              "  </thead>\n",
              "  <tbody>\n",
              "    <tr>\n",
              "      <th>OriginalDriver</th>\n",
              "      <td>4801.492524</td>\n",
              "      <td>7.024230e+04</td>\n",
              "      <td>400.357699</td>\n",
              "      <td>28.220975</td>\n",
              "      <td>2.439093</td>\n",
              "      <td>3.154929</td>\n",
              "      <td>1.139604</td>\n",
              "      <td>2.468450</td>\n",
              "      <td>0.0</td>\n",
              "      <td>20.389829</td>\n",
              "      <td>...</td>\n",
              "      <td>1.515978</td>\n",
              "      <td>115.376788</td>\n",
              "      <td>220.519050</td>\n",
              "      <td>184.963118</td>\n",
              "      <td>297.982948</td>\n",
              "      <td>0.701323</td>\n",
              "      <td>NaN</td>\n",
              "      <td>NaN</td>\n",
              "      <td>0.000675</td>\n",
              "      <td>21.208906</td>\n",
              "    </tr>\n",
              "    <tr>\n",
              "      <th>Passanger</th>\n",
              "      <td>259711.240231</td>\n",
              "      <td>1.585408e+06</td>\n",
              "      <td>375.529387</td>\n",
              "      <td>38.344564</td>\n",
              "      <td>2.741259</td>\n",
              "      <td>3.029253</td>\n",
              "      <td>1.110365</td>\n",
              "      <td>7.581252</td>\n",
              "      <td>0.0</td>\n",
              "      <td>38.122624</td>\n",
              "      <td>...</td>\n",
              "      <td>9.396443</td>\n",
              "      <td>205.534600</td>\n",
              "      <td>339.757433</td>\n",
              "      <td>561.066446</td>\n",
              "      <td>435.932303</td>\n",
              "      <td>1.097489</td>\n",
              "      <td>NaN</td>\n",
              "      <td>NaN</td>\n",
              "      <td>0.000609</td>\n",
              "      <td>27.464519</td>\n",
              "    </tr>\n",
              "    <tr>\n",
              "      <th>Taxi</th>\n",
              "      <td>270605.859722</td>\n",
              "      <td>1.623501e+06</td>\n",
              "      <td>224.925853</td>\n",
              "      <td>29.744323</td>\n",
              "      <td>1.398211</td>\n",
              "      <td>2.161288</td>\n",
              "      <td>1.166092</td>\n",
              "      <td>2.183238</td>\n",
              "      <td>0.0</td>\n",
              "      <td>33.480420</td>\n",
              "      <td>...</td>\n",
              "      <td>1.296748</td>\n",
              "      <td>261.604315</td>\n",
              "      <td>195.238016</td>\n",
              "      <td>540.821350</td>\n",
              "      <td>295.079220</td>\n",
              "      <td>NaN</td>\n",
              "      <td>NaN</td>\n",
              "      <td>NaN</td>\n",
              "      <td>0.000000</td>\n",
              "      <td>26.437740</td>\n",
              "    </tr>\n",
              "  </tbody>\n",
              "</table>\n",
              "<p>3 rows × 51 columns</p>\n",
              "</div>\n",
              "      <button class=\"colab-df-convert\" onclick=\"convertToInteractive('df-1387f741-81b9-44a6-94d4-3b6c21cd4c80')\"\n",
              "              title=\"Convert this dataframe to an interactive table.\"\n",
              "              style=\"display:none;\">\n",
              "        \n",
              "  <svg xmlns=\"http://www.w3.org/2000/svg\" height=\"24px\"viewBox=\"0 0 24 24\"\n",
              "       width=\"24px\">\n",
              "    <path d=\"M0 0h24v24H0V0z\" fill=\"none\"/>\n",
              "    <path d=\"M18.56 5.44l.94 2.06.94-2.06 2.06-.94-2.06-.94-.94-2.06-.94 2.06-2.06.94zm-11 1L8.5 8.5l.94-2.06 2.06-.94-2.06-.94L8.5 2.5l-.94 2.06-2.06.94zm10 10l.94 2.06.94-2.06 2.06-.94-2.06-.94-.94-2.06-.94 2.06-2.06.94z\"/><path d=\"M17.41 7.96l-1.37-1.37c-.4-.4-.92-.59-1.43-.59-.52 0-1.04.2-1.43.59L10.3 9.45l-7.72 7.72c-.78.78-.78 2.05 0 2.83L4 21.41c.39.39.9.59 1.41.59.51 0 1.02-.2 1.41-.59l7.78-7.78 2.81-2.81c.8-.78.8-2.07 0-2.86zM5.41 20L4 18.59l7.72-7.72 1.47 1.35L5.41 20z\"/>\n",
              "  </svg>\n",
              "      </button>\n",
              "      \n",
              "  <style>\n",
              "    .colab-df-container {\n",
              "      display:flex;\n",
              "      flex-wrap:wrap;\n",
              "      gap: 12px;\n",
              "    }\n",
              "\n",
              "    .colab-df-convert {\n",
              "      background-color: #E8F0FE;\n",
              "      border: none;\n",
              "      border-radius: 50%;\n",
              "      cursor: pointer;\n",
              "      display: none;\n",
              "      fill: #1967D2;\n",
              "      height: 32px;\n",
              "      padding: 0 0 0 0;\n",
              "      width: 32px;\n",
              "    }\n",
              "\n",
              "    .colab-df-convert:hover {\n",
              "      background-color: #E2EBFA;\n",
              "      box-shadow: 0px 1px 2px rgba(60, 64, 67, 0.3), 0px 1px 3px 1px rgba(60, 64, 67, 0.15);\n",
              "      fill: #174EA6;\n",
              "    }\n",
              "\n",
              "    [theme=dark] .colab-df-convert {\n",
              "      background-color: #3B4455;\n",
              "      fill: #D2E3FC;\n",
              "    }\n",
              "\n",
              "    [theme=dark] .colab-df-convert:hover {\n",
              "      background-color: #434B5C;\n",
              "      box-shadow: 0px 1px 3px 1px rgba(0, 0, 0, 0.15);\n",
              "      filter: drop-shadow(0px 1px 2px rgba(0, 0, 0, 0.3));\n",
              "      fill: #FFFFFF;\n",
              "    }\n",
              "  </style>\n",
              "\n",
              "      <script>\n",
              "        const buttonEl =\n",
              "          document.querySelector('#df-1387f741-81b9-44a6-94d4-3b6c21cd4c80 button.colab-df-convert');\n",
              "        buttonEl.style.display =\n",
              "          google.colab.kernel.accessAllowed ? 'block' : 'none';\n",
              "\n",
              "        async function convertToInteractive(key) {\n",
              "          const element = document.querySelector('#df-1387f741-81b9-44a6-94d4-3b6c21cd4c80');\n",
              "          const dataTable =\n",
              "            await google.colab.kernel.invokeFunction('convertToInteractive',\n",
              "                                                     [key], {});\n",
              "          if (!dataTable) return;\n",
              "\n",
              "          const docLinkHtml = 'Like what you see? Visit the ' +\n",
              "            '<a target=\"_blank\" href=https://colab.research.google.com/notebooks/data_table.ipynb>data table notebook</a>'\n",
              "            + ' to learn more about interactive tables.';\n",
              "          element.innerHTML = '';\n",
              "          dataTable['output_type'] = 'display_data';\n",
              "          await google.colab.output.renderOutput(dataTable, element);\n",
              "          const docLink = document.createElement('div');\n",
              "          docLink.innerHTML = docLinkHtml;\n",
              "          element.appendChild(docLink);\n",
              "        }\n",
              "      </script>\n",
              "    </div>\n",
              "  </div>\n",
              "  "
            ]
          },
          "metadata": {},
          "execution_count": 13
        },
        {
          "output_type": "stream",
          "name": "stdout",
          "text": [
            "Warning: Total number of columns (51) exceeds max_columns (20) limiting to first (20) columns.\n"
          ]
        }
      ]
    },
    {
      "cell_type": "markdown",
      "source": [
        "We see what standart deviation of Duration and PhoneUsage in passanger track data more whan in drivers track data, so we can add duration to inc_point dataframe."
      ],
      "metadata": {
        "id": "jGC6g3ScF-Aa"
      }
    },
    {
      "cell_type": "code",
      "source": [
        "# Create DF with rich_tracks_2 data\n",
        "ID_t = pd.DataFrame({'IncomingTrackId':RT['IncomingTrackId'],'TrackOrigin':RT['TrackOrigin'],'PhoneUsage':RT['PhoneUsage'],'Duration':RT['Duration']})"
      ],
      "metadata": {
        "id": "inVVy3D9Vq6D"
      },
      "execution_count": 4,
      "outputs": []
    },
    {
      "cell_type": "code",
      "source": [
        "# Create DB with track summary\n",
        "TrackDB = TC.groupby('IncomingTrackId')['Speed','Acceleration','Deceleration','AccelerationXOriginal','AccelerationYOriginal','AccelerationZOriginal'].describe()"
      ],
      "metadata": {
        "id": "4GOJLro6hYYh",
        "outputId": "5ebf72dd-fbb7-45f8-e702-d3c08403ee3c",
        "colab": {
          "base_uri": "https://localhost:8080/"
        }
      },
      "execution_count": 8,
      "outputs": [
        {
          "output_type": "stream",
          "name": "stderr",
          "text": [
            "/usr/local/lib/python3.7/dist-packages/ipykernel_launcher.py:2: FutureWarning: Indexing with multiple keys (implicitly converted to a tuple of keys) will be deprecated, use a list instead.\n",
            "  \n"
          ]
        }
      ]
    },
    {
      "cell_type": "code",
      "source": [
        "# Merge ID_t with TrackDB\n",
        "TrackDB = pd.merge(TrackDB, ID_t, on='IncomingTrackId')"
      ],
      "metadata": {
        "id": "0gnlPDYUaytr",
        "outputId": "dfdd841b-d076-4dc8-d6f2-962bafc05d98",
        "colab": {
          "base_uri": "https://localhost:8080/"
        }
      },
      "execution_count": 9,
      "outputs": [
        {
          "output_type": "stream",
          "name": "stderr",
          "text": [
            "/usr/local/lib/python3.7/dist-packages/ipykernel_launcher.py:2: FutureWarning: merging between different levels is deprecated and will be removed in a future version. (2 levels on the left,1 on the right)\n",
            "  \n"
          ]
        }
      ]
    },
    {
      "cell_type": "code",
      "source": [
        "TrackDB\n"
      ],
      "metadata": {
        "id": "wkCCpFfybaOl",
        "outputId": "b0df4aa0-2430-4592-981f-bb855c7c6251",
        "colab": {
          "base_uri": "https://localhost:8080/",
          "height": 505
        }
      },
      "execution_count": 10,
      "outputs": [
        {
          "output_type": "execute_result",
          "data": {
            "text/plain": [
              "      IncomingTrackId  (Speed, count)  (Speed, mean)  (Speed, std)  \\\n",
              "0            19888387           404.0       9.988912     17.173265   \n",
              "1            19889292          1502.0      37.824928     33.879293   \n",
              "2            19890131          1766.0      17.821795     19.685117   \n",
              "3            19891937          2456.0      23.292324     24.969436   \n",
              "4            19892757          1002.0      10.610393     17.529287   \n",
              "...               ...             ...            ...           ...   \n",
              "2582         21497153          2941.0      73.502072     44.532907   \n",
              "2583         21499241           578.0       7.670491     12.283241   \n",
              "2584         21503950           470.0      17.323939     19.249464   \n",
              "2585         21512169           642.0      24.370539     22.877973   \n",
              "2586         21514828           271.0      10.515108     12.937097   \n",
              "\n",
              "      (Speed, min)  (Speed, 25%)  (Speed, 50%)  (Speed, 75%)  (Speed, max)  \\\n",
              "0              0.0  1.767537e-01      0.580703     11.222992     57.046222   \n",
              "1              0.0  7.518020e-01     36.978529     68.882420    104.835564   \n",
              "2              0.0  0.000000e+00     11.213999     30.627001     76.032001   \n",
              "3              0.0  3.137974e-01     11.291015     43.008295     93.615628   \n",
              "4              0.0  2.422920e-01      2.182516      7.507858     61.451141   \n",
              "...            ...           ...           ...           ...           ...   \n",
              "2582           0.0  3.891600e+01    101.267994    112.320000    119.951996   \n",
              "2583           0.0  0.000000e+00      1.800000      6.660000     48.023999   \n",
              "2584           0.0  1.238751e-17      4.421113     37.332002     49.064402   \n",
              "2585           0.0  1.809056e+00     16.207653     48.652443     63.071336   \n",
              "2586           0.0  5.530547e-05      1.047318     18.786633     45.280134   \n",
              "\n",
              "      (Acceleration, count)  ...  (AccelerationZOriginal, mean)  \\\n",
              "0                     404.0  ...                      -0.217251   \n",
              "1                    1502.0  ...                      -0.262711   \n",
              "2                    1766.0  ...                       0.101735   \n",
              "3                    2456.0  ...                       0.843765   \n",
              "4                    1002.0  ...                       0.548682   \n",
              "...                     ...  ...                            ...   \n",
              "2582                 2941.0  ...                      -0.826014   \n",
              "2583                  578.0  ...                       0.452728   \n",
              "2584                  470.0  ...                       0.297953   \n",
              "2585                  642.0  ...                      -0.669810   \n",
              "2586                  271.0  ...                      -0.813008   \n",
              "\n",
              "      (AccelerationZOriginal, std)  (AccelerationZOriginal, min)  \\\n",
              "0                         0.618218                     -1.132523   \n",
              "1                         0.311313                     -2.006805   \n",
              "2                         0.506204                     -1.124496   \n",
              "3                         0.336049                     -3.033236   \n",
              "4                         0.552176                     -2.066656   \n",
              "...                            ...                           ...   \n",
              "2582                      0.383807                     -1.746429   \n",
              "2583                      0.408855                     -0.525238   \n",
              "2584                      0.415508                     -0.961371   \n",
              "2585                      0.498427                     -1.556109   \n",
              "2586                      0.219739                     -1.511203   \n",
              "\n",
              "      (AccelerationZOriginal, 25%)  (AccelerationZOriginal, 50%)  \\\n",
              "0                        -0.852989                     -0.198387   \n",
              "1                        -0.229412                     -0.151039   \n",
              "2                        -0.336147                     -0.000282   \n",
              "3                         0.886382                      0.935622   \n",
              "4                         0.021239                      0.958108   \n",
              "...                            ...                           ...   \n",
              "2582                     -1.019714                     -0.948837   \n",
              "2583                      0.122715                      0.289803   \n",
              "2584                      0.017634                      0.170113   \n",
              "2585                     -0.990872                     -0.927418   \n",
              "2586                     -0.899107                     -0.818080   \n",
              "\n",
              "      (AccelerationZOriginal, 75%)  (AccelerationZOriginal, max)  \\\n",
              "0                         0.315338                      1.080780   \n",
              "1                        -0.119457                      0.523392   \n",
              "2                         0.603374                      1.103058   \n",
              "3                         0.970889                      2.257599   \n",
              "4                         0.970702                      1.786602   \n",
              "...                            ...                           ...   \n",
              "2582                     -0.850861                      1.290100   \n",
              "2583                      0.972473                      1.342361   \n",
              "2584                      0.380009                      1.353339   \n",
              "2585                     -0.585249                      1.401865   \n",
              "2586                     -0.777566                      1.093377   \n",
              "\n",
              "         TrackOrigin  PhoneUsage   Duration  \n",
              "0          Passanger    0.000000   1.683333  \n",
              "1          Passanger    0.000000  18.183333  \n",
              "2          Passanger    1.166667  24.050000  \n",
              "3          Passanger    0.333333  81.783333  \n",
              "4          Passanger    0.316667  24.383333  \n",
              "...              ...         ...        ...  \n",
              "2582  OriginalDriver    0.000000  44.950000  \n",
              "2583       Passanger    0.000000   2.250000  \n",
              "2584       Passanger    0.000000   8.066667  \n",
              "2585       Passanger    0.550000  16.166667  \n",
              "2586       Passanger    0.000000  -0.333333  \n",
              "\n",
              "[2587 rows x 52 columns]"
            ],
            "text/html": [
              "\n",
              "  <div id=\"df-73b8e6c8-c9f7-4cd2-aadc-7ea733b354f8\">\n",
              "    <div class=\"colab-df-container\">\n",
              "      <div>\n",
              "<style scoped>\n",
              "    .dataframe tbody tr th:only-of-type {\n",
              "        vertical-align: middle;\n",
              "    }\n",
              "\n",
              "    .dataframe tbody tr th {\n",
              "        vertical-align: top;\n",
              "    }\n",
              "\n",
              "    .dataframe thead th {\n",
              "        text-align: right;\n",
              "    }\n",
              "</style>\n",
              "<table border=\"1\" class=\"dataframe\">\n",
              "  <thead>\n",
              "    <tr style=\"text-align: right;\">\n",
              "      <th></th>\n",
              "      <th>IncomingTrackId</th>\n",
              "      <th>(Speed, count)</th>\n",
              "      <th>(Speed, mean)</th>\n",
              "      <th>(Speed, std)</th>\n",
              "      <th>(Speed, min)</th>\n",
              "      <th>(Speed, 25%)</th>\n",
              "      <th>(Speed, 50%)</th>\n",
              "      <th>(Speed, 75%)</th>\n",
              "      <th>(Speed, max)</th>\n",
              "      <th>(Acceleration, count)</th>\n",
              "      <th>...</th>\n",
              "      <th>(AccelerationZOriginal, mean)</th>\n",
              "      <th>(AccelerationZOriginal, std)</th>\n",
              "      <th>(AccelerationZOriginal, min)</th>\n",
              "      <th>(AccelerationZOriginal, 25%)</th>\n",
              "      <th>(AccelerationZOriginal, 50%)</th>\n",
              "      <th>(AccelerationZOriginal, 75%)</th>\n",
              "      <th>(AccelerationZOriginal, max)</th>\n",
              "      <th>TrackOrigin</th>\n",
              "      <th>PhoneUsage</th>\n",
              "      <th>Duration</th>\n",
              "    </tr>\n",
              "  </thead>\n",
              "  <tbody>\n",
              "    <tr>\n",
              "      <th>0</th>\n",
              "      <td>19888387</td>\n",
              "      <td>404.0</td>\n",
              "      <td>9.988912</td>\n",
              "      <td>17.173265</td>\n",
              "      <td>0.0</td>\n",
              "      <td>1.767537e-01</td>\n",
              "      <td>0.580703</td>\n",
              "      <td>11.222992</td>\n",
              "      <td>57.046222</td>\n",
              "      <td>404.0</td>\n",
              "      <td>...</td>\n",
              "      <td>-0.217251</td>\n",
              "      <td>0.618218</td>\n",
              "      <td>-1.132523</td>\n",
              "      <td>-0.852989</td>\n",
              "      <td>-0.198387</td>\n",
              "      <td>0.315338</td>\n",
              "      <td>1.080780</td>\n",
              "      <td>Passanger</td>\n",
              "      <td>0.000000</td>\n",
              "      <td>1.683333</td>\n",
              "    </tr>\n",
              "    <tr>\n",
              "      <th>1</th>\n",
              "      <td>19889292</td>\n",
              "      <td>1502.0</td>\n",
              "      <td>37.824928</td>\n",
              "      <td>33.879293</td>\n",
              "      <td>0.0</td>\n",
              "      <td>7.518020e-01</td>\n",
              "      <td>36.978529</td>\n",
              "      <td>68.882420</td>\n",
              "      <td>104.835564</td>\n",
              "      <td>1502.0</td>\n",
              "      <td>...</td>\n",
              "      <td>-0.262711</td>\n",
              "      <td>0.311313</td>\n",
              "      <td>-2.006805</td>\n",
              "      <td>-0.229412</td>\n",
              "      <td>-0.151039</td>\n",
              "      <td>-0.119457</td>\n",
              "      <td>0.523392</td>\n",
              "      <td>Passanger</td>\n",
              "      <td>0.000000</td>\n",
              "      <td>18.183333</td>\n",
              "    </tr>\n",
              "    <tr>\n",
              "      <th>2</th>\n",
              "      <td>19890131</td>\n",
              "      <td>1766.0</td>\n",
              "      <td>17.821795</td>\n",
              "      <td>19.685117</td>\n",
              "      <td>0.0</td>\n",
              "      <td>0.000000e+00</td>\n",
              "      <td>11.213999</td>\n",
              "      <td>30.627001</td>\n",
              "      <td>76.032001</td>\n",
              "      <td>1766.0</td>\n",
              "      <td>...</td>\n",
              "      <td>0.101735</td>\n",
              "      <td>0.506204</td>\n",
              "      <td>-1.124496</td>\n",
              "      <td>-0.336147</td>\n",
              "      <td>-0.000282</td>\n",
              "      <td>0.603374</td>\n",
              "      <td>1.103058</td>\n",
              "      <td>Passanger</td>\n",
              "      <td>1.166667</td>\n",
              "      <td>24.050000</td>\n",
              "    </tr>\n",
              "    <tr>\n",
              "      <th>3</th>\n",
              "      <td>19891937</td>\n",
              "      <td>2456.0</td>\n",
              "      <td>23.292324</td>\n",
              "      <td>24.969436</td>\n",
              "      <td>0.0</td>\n",
              "      <td>3.137974e-01</td>\n",
              "      <td>11.291015</td>\n",
              "      <td>43.008295</td>\n",
              "      <td>93.615628</td>\n",
              "      <td>2456.0</td>\n",
              "      <td>...</td>\n",
              "      <td>0.843765</td>\n",
              "      <td>0.336049</td>\n",
              "      <td>-3.033236</td>\n",
              "      <td>0.886382</td>\n",
              "      <td>0.935622</td>\n",
              "      <td>0.970889</td>\n",
              "      <td>2.257599</td>\n",
              "      <td>Passanger</td>\n",
              "      <td>0.333333</td>\n",
              "      <td>81.783333</td>\n",
              "    </tr>\n",
              "    <tr>\n",
              "      <th>4</th>\n",
              "      <td>19892757</td>\n",
              "      <td>1002.0</td>\n",
              "      <td>10.610393</td>\n",
              "      <td>17.529287</td>\n",
              "      <td>0.0</td>\n",
              "      <td>2.422920e-01</td>\n",
              "      <td>2.182516</td>\n",
              "      <td>7.507858</td>\n",
              "      <td>61.451141</td>\n",
              "      <td>1002.0</td>\n",
              "      <td>...</td>\n",
              "      <td>0.548682</td>\n",
              "      <td>0.552176</td>\n",
              "      <td>-2.066656</td>\n",
              "      <td>0.021239</td>\n",
              "      <td>0.958108</td>\n",
              "      <td>0.970702</td>\n",
              "      <td>1.786602</td>\n",
              "      <td>Passanger</td>\n",
              "      <td>0.316667</td>\n",
              "      <td>24.383333</td>\n",
              "    </tr>\n",
              "    <tr>\n",
              "      <th>...</th>\n",
              "      <td>...</td>\n",
              "      <td>...</td>\n",
              "      <td>...</td>\n",
              "      <td>...</td>\n",
              "      <td>...</td>\n",
              "      <td>...</td>\n",
              "      <td>...</td>\n",
              "      <td>...</td>\n",
              "      <td>...</td>\n",
              "      <td>...</td>\n",
              "      <td>...</td>\n",
              "      <td>...</td>\n",
              "      <td>...</td>\n",
              "      <td>...</td>\n",
              "      <td>...</td>\n",
              "      <td>...</td>\n",
              "      <td>...</td>\n",
              "      <td>...</td>\n",
              "      <td>...</td>\n",
              "      <td>...</td>\n",
              "      <td>...</td>\n",
              "    </tr>\n",
              "    <tr>\n",
              "      <th>2582</th>\n",
              "      <td>21497153</td>\n",
              "      <td>2941.0</td>\n",
              "      <td>73.502072</td>\n",
              "      <td>44.532907</td>\n",
              "      <td>0.0</td>\n",
              "      <td>3.891600e+01</td>\n",
              "      <td>101.267994</td>\n",
              "      <td>112.320000</td>\n",
              "      <td>119.951996</td>\n",
              "      <td>2941.0</td>\n",
              "      <td>...</td>\n",
              "      <td>-0.826014</td>\n",
              "      <td>0.383807</td>\n",
              "      <td>-1.746429</td>\n",
              "      <td>-1.019714</td>\n",
              "      <td>-0.948837</td>\n",
              "      <td>-0.850861</td>\n",
              "      <td>1.290100</td>\n",
              "      <td>OriginalDriver</td>\n",
              "      <td>0.000000</td>\n",
              "      <td>44.950000</td>\n",
              "    </tr>\n",
              "    <tr>\n",
              "      <th>2583</th>\n",
              "      <td>21499241</td>\n",
              "      <td>578.0</td>\n",
              "      <td>7.670491</td>\n",
              "      <td>12.283241</td>\n",
              "      <td>0.0</td>\n",
              "      <td>0.000000e+00</td>\n",
              "      <td>1.800000</td>\n",
              "      <td>6.660000</td>\n",
              "      <td>48.023999</td>\n",
              "      <td>578.0</td>\n",
              "      <td>...</td>\n",
              "      <td>0.452728</td>\n",
              "      <td>0.408855</td>\n",
              "      <td>-0.525238</td>\n",
              "      <td>0.122715</td>\n",
              "      <td>0.289803</td>\n",
              "      <td>0.972473</td>\n",
              "      <td>1.342361</td>\n",
              "      <td>Passanger</td>\n",
              "      <td>0.000000</td>\n",
              "      <td>2.250000</td>\n",
              "    </tr>\n",
              "    <tr>\n",
              "      <th>2584</th>\n",
              "      <td>21503950</td>\n",
              "      <td>470.0</td>\n",
              "      <td>17.323939</td>\n",
              "      <td>19.249464</td>\n",
              "      <td>0.0</td>\n",
              "      <td>1.238751e-17</td>\n",
              "      <td>4.421113</td>\n",
              "      <td>37.332002</td>\n",
              "      <td>49.064402</td>\n",
              "      <td>470.0</td>\n",
              "      <td>...</td>\n",
              "      <td>0.297953</td>\n",
              "      <td>0.415508</td>\n",
              "      <td>-0.961371</td>\n",
              "      <td>0.017634</td>\n",
              "      <td>0.170113</td>\n",
              "      <td>0.380009</td>\n",
              "      <td>1.353339</td>\n",
              "      <td>Passanger</td>\n",
              "      <td>0.000000</td>\n",
              "      <td>8.066667</td>\n",
              "    </tr>\n",
              "    <tr>\n",
              "      <th>2585</th>\n",
              "      <td>21512169</td>\n",
              "      <td>642.0</td>\n",
              "      <td>24.370539</td>\n",
              "      <td>22.877973</td>\n",
              "      <td>0.0</td>\n",
              "      <td>1.809056e+00</td>\n",
              "      <td>16.207653</td>\n",
              "      <td>48.652443</td>\n",
              "      <td>63.071336</td>\n",
              "      <td>642.0</td>\n",
              "      <td>...</td>\n",
              "      <td>-0.669810</td>\n",
              "      <td>0.498427</td>\n",
              "      <td>-1.556109</td>\n",
              "      <td>-0.990872</td>\n",
              "      <td>-0.927418</td>\n",
              "      <td>-0.585249</td>\n",
              "      <td>1.401865</td>\n",
              "      <td>Passanger</td>\n",
              "      <td>0.550000</td>\n",
              "      <td>16.166667</td>\n",
              "    </tr>\n",
              "    <tr>\n",
              "      <th>2586</th>\n",
              "      <td>21514828</td>\n",
              "      <td>271.0</td>\n",
              "      <td>10.515108</td>\n",
              "      <td>12.937097</td>\n",
              "      <td>0.0</td>\n",
              "      <td>5.530547e-05</td>\n",
              "      <td>1.047318</td>\n",
              "      <td>18.786633</td>\n",
              "      <td>45.280134</td>\n",
              "      <td>271.0</td>\n",
              "      <td>...</td>\n",
              "      <td>-0.813008</td>\n",
              "      <td>0.219739</td>\n",
              "      <td>-1.511203</td>\n",
              "      <td>-0.899107</td>\n",
              "      <td>-0.818080</td>\n",
              "      <td>-0.777566</td>\n",
              "      <td>1.093377</td>\n",
              "      <td>Passanger</td>\n",
              "      <td>0.000000</td>\n",
              "      <td>-0.333333</td>\n",
              "    </tr>\n",
              "  </tbody>\n",
              "</table>\n",
              "<p>2587 rows × 52 columns</p>\n",
              "</div>\n",
              "      <button class=\"colab-df-convert\" onclick=\"convertToInteractive('df-73b8e6c8-c9f7-4cd2-aadc-7ea733b354f8')\"\n",
              "              title=\"Convert this dataframe to an interactive table.\"\n",
              "              style=\"display:none;\">\n",
              "        \n",
              "  <svg xmlns=\"http://www.w3.org/2000/svg\" height=\"24px\"viewBox=\"0 0 24 24\"\n",
              "       width=\"24px\">\n",
              "    <path d=\"M0 0h24v24H0V0z\" fill=\"none\"/>\n",
              "    <path d=\"M18.56 5.44l.94 2.06.94-2.06 2.06-.94-2.06-.94-.94-2.06-.94 2.06-2.06.94zm-11 1L8.5 8.5l.94-2.06 2.06-.94-2.06-.94L8.5 2.5l-.94 2.06-2.06.94zm10 10l.94 2.06.94-2.06 2.06-.94-2.06-.94-.94-2.06-.94 2.06-2.06.94z\"/><path d=\"M17.41 7.96l-1.37-1.37c-.4-.4-.92-.59-1.43-.59-.52 0-1.04.2-1.43.59L10.3 9.45l-7.72 7.72c-.78.78-.78 2.05 0 2.83L4 21.41c.39.39.9.59 1.41.59.51 0 1.02-.2 1.41-.59l7.78-7.78 2.81-2.81c.8-.78.8-2.07 0-2.86zM5.41 20L4 18.59l7.72-7.72 1.47 1.35L5.41 20z\"/>\n",
              "  </svg>\n",
              "      </button>\n",
              "      \n",
              "  <style>\n",
              "    .colab-df-container {\n",
              "      display:flex;\n",
              "      flex-wrap:wrap;\n",
              "      gap: 12px;\n",
              "    }\n",
              "\n",
              "    .colab-df-convert {\n",
              "      background-color: #E8F0FE;\n",
              "      border: none;\n",
              "      border-radius: 50%;\n",
              "      cursor: pointer;\n",
              "      display: none;\n",
              "      fill: #1967D2;\n",
              "      height: 32px;\n",
              "      padding: 0 0 0 0;\n",
              "      width: 32px;\n",
              "    }\n",
              "\n",
              "    .colab-df-convert:hover {\n",
              "      background-color: #E2EBFA;\n",
              "      box-shadow: 0px 1px 2px rgba(60, 64, 67, 0.3), 0px 1px 3px 1px rgba(60, 64, 67, 0.15);\n",
              "      fill: #174EA6;\n",
              "    }\n",
              "\n",
              "    [theme=dark] .colab-df-convert {\n",
              "      background-color: #3B4455;\n",
              "      fill: #D2E3FC;\n",
              "    }\n",
              "\n",
              "    [theme=dark] .colab-df-convert:hover {\n",
              "      background-color: #434B5C;\n",
              "      box-shadow: 0px 1px 3px 1px rgba(0, 0, 0, 0.15);\n",
              "      filter: drop-shadow(0px 1px 2px rgba(0, 0, 0, 0.3));\n",
              "      fill: #FFFFFF;\n",
              "    }\n",
              "  </style>\n",
              "\n",
              "      <script>\n",
              "        const buttonEl =\n",
              "          document.querySelector('#df-73b8e6c8-c9f7-4cd2-aadc-7ea733b354f8 button.colab-df-convert');\n",
              "        buttonEl.style.display =\n",
              "          google.colab.kernel.accessAllowed ? 'block' : 'none';\n",
              "\n",
              "        async function convertToInteractive(key) {\n",
              "          const element = document.querySelector('#df-73b8e6c8-c9f7-4cd2-aadc-7ea733b354f8');\n",
              "          const dataTable =\n",
              "            await google.colab.kernel.invokeFunction('convertToInteractive',\n",
              "                                                     [key], {});\n",
              "          if (!dataTable) return;\n",
              "\n",
              "          const docLinkHtml = 'Like what you see? Visit the ' +\n",
              "            '<a target=\"_blank\" href=https://colab.research.google.com/notebooks/data_table.ipynb>data table notebook</a>'\n",
              "            + ' to learn more about interactive tables.';\n",
              "          element.innerHTML = '';\n",
              "          dataTable['output_type'] = 'display_data';\n",
              "          await google.colab.output.renderOutput(dataTable, element);\n",
              "          const docLink = document.createElement('div');\n",
              "          docLink.innerHTML = docLinkHtml;\n",
              "          element.appendChild(docLink);\n",
              "        }\n",
              "      </script>\n",
              "    </div>\n",
              "  </div>\n",
              "  "
            ]
          },
          "metadata": {},
          "execution_count": 10
        }
      ]
    },
    {
      "cell_type": "code",
      "source": [
        "#Delete IncomingTrackId column\n",
        "TrackDB = TrackDB.drop(['IncomingTrackId'], axis=1)"
      ],
      "metadata": {
        "id": "mbcXGimKb9z0"
      },
      "execution_count": 11,
      "outputs": []
    },
    {
      "cell_type": "code",
      "source": [
        "# 'OriginalDriver' and 'Taxi' - 'Driver'\n",
        "TrackDB = TrackDB.replace({'TrackOrigin':{'OriginalDriver':'Driver', 'Taxi':'Driver'}})"
      ],
      "metadata": {
        "id": "yshiIfwUl_Vv"
      },
      "execution_count": 12,
      "outputs": []
    },
    {
      "cell_type": "code",
      "source": [
        "TrackDB.loc[:,'TrackOrigin'].unique()"
      ],
      "metadata": {
        "colab": {
          "base_uri": "https://localhost:8080/"
        },
        "id": "sAWvirF4nCDx",
        "outputId": "5e3492c0-27ad-4dbd-9a66-796bd72b0cc7"
      },
      "execution_count": 13,
      "outputs": [
        {
          "output_type": "execute_result",
          "data": {
            "text/plain": [
              "array(['Passanger', 'Driver'], dtype=object)"
            ]
          },
          "metadata": {},
          "execution_count": 13
        }
      ]
    },
    {
      "cell_type": "code",
      "source": [
        "#Prepare data\n",
        "X = TrackDB.loc[:,TrackDB.columns != 'TrackOrigin']\n",
        "y = TrackDB.loc[:,'TrackOrigin']\n",
        "X_train, X_test, y_train, y_test = train_test_split(X, y, test_size=0.2, random_state=1)"
      ],
      "metadata": {
        "id": "cT4TqXB_fLcc"
      },
      "execution_count": 14,
      "outputs": []
    },
    {
      "cell_type": "code",
      "source": [
        "# DecisionTreeClassifier model\n",
        "tree = DecisionTreeClassifier(criterion='entropy', max_depth=26, min_samples_leaf=4, splitter=\"random\", random_state=1)"
      ],
      "metadata": {
        "id": "DwJqnBTieY3J"
      },
      "execution_count": 15,
      "outputs": []
    },
    {
      "cell_type": "code",
      "source": [
        "# DecisionTreeClassifier model train\n",
        "tree.fit(X_train, y_train)"
      ],
      "metadata": {
        "id": "x0vj2vSnECIv",
        "outputId": "a7377f95-79f6-48da-a89f-dcdb2dbe8cf5",
        "colab": {
          "base_uri": "https://localhost:8080/"
        }
      },
      "execution_count": 16,
      "outputs": [
        {
          "output_type": "stream",
          "name": "stderr",
          "text": [
            "/usr/local/lib/python3.7/dist-packages/sklearn/utils/validation.py:1692: FutureWarning: Feature names only support names that are all strings. Got feature names with dtypes: ['str', 'tuple']. An error will be raised in 1.2.\n",
            "  FutureWarning,\n"
          ]
        },
        {
          "output_type": "execute_result",
          "data": {
            "text/plain": [
              "DecisionTreeClassifier(criterion='entropy', max_depth=26, min_samples_leaf=4,\n",
              "                       random_state=1, splitter='random')"
            ]
          },
          "metadata": {},
          "execution_count": 16
        }
      ]
    },
    {
      "cell_type": "code",
      "source": [
        "# DecisionTreeClassifier model prediction\n",
        "DTC_pred = tree.predict(X_test)"
      ],
      "metadata": {
        "id": "PVdLdHpeknV7",
        "outputId": "949daae5-a13b-4eaf-cc6f-7a7b02e1bdfc",
        "colab": {
          "base_uri": "https://localhost:8080/"
        }
      },
      "execution_count": 17,
      "outputs": [
        {
          "output_type": "stream",
          "name": "stderr",
          "text": [
            "/usr/local/lib/python3.7/dist-packages/sklearn/utils/validation.py:1692: FutureWarning: Feature names only support names that are all strings. Got feature names with dtypes: ['str', 'tuple']. An error will be raised in 1.2.\n",
            "  FutureWarning,\n"
          ]
        }
      ]
    },
    {
      "cell_type": "code",
      "source": [
        "# Accuracy score DecisionTreeClassifier\n",
        "print(accuracy_score(DTC_pred, y_test))"
      ],
      "metadata": {
        "colab": {
          "base_uri": "https://localhost:8080/"
        },
        "id": "itHSLLNElb9A",
        "outputId": "b0ff4e7b-dc33-4549-d189-688e79c558b3"
      },
      "execution_count": 18,
      "outputs": [
        {
          "output_type": "stream",
          "name": "stdout",
          "text": [
            "0.7895752895752896\n"
          ]
        }
      ]
    },
    {
      "cell_type": "markdown",
      "source": [
        "Accuracy 0.7895752895752896"
      ],
      "metadata": {
        "id": "0FGILWmwQ0Fq"
      }
    },
    {
      "cell_type": "code",
      "source": [
        "# get importance\n",
        "fi = pd.DataFrame({'feature': list(X.columns),\n",
        "                   'importance': tree.feature_importances_}).\\\n",
        "                    sort_values('importance', ascending = False)\n",
        "\n",
        "fi"
      ],
      "metadata": {
        "colab": {
          "base_uri": "https://localhost:8080/",
          "height": 1000
        },
        "id": "6iWuNcZ0lK_4",
        "outputId": "78f1013b-32a9-46f8-aa4a-573d76a4ecbf"
      },
      "execution_count": 19,
      "outputs": [
        {
          "output_type": "execute_result",
          "data": {
            "text/plain": [
              "                           feature  importance\n",
              "1                    (Speed, mean)    0.102759\n",
              "6                     (Speed, 75%)    0.060776\n",
              "5                     (Speed, 50%)    0.050700\n",
              "37    (AccelerationYOriginal, 50%)    0.045585\n",
              "44    (AccelerationZOriginal, 25%)    0.036927\n",
              "42    (AccelerationZOriginal, std)    0.032597\n",
              "49                        Duration    0.031531\n",
              "27    (AccelerationXOriginal, min)    0.030601\n",
              "46    (AccelerationZOriginal, 75%)    0.029387\n",
              "41   (AccelerationZOriginal, mean)    0.029286\n",
              "2                     (Speed, std)    0.028925\n",
              "29    (AccelerationXOriginal, 50%)    0.028307\n",
              "47    (AccelerationZOriginal, max)    0.027136\n",
              "43    (AccelerationZOriginal, min)    0.026219\n",
              "38    (AccelerationYOriginal, 75%)    0.024298\n",
              "19             (Deceleration, min)    0.022783\n",
              "36    (AccelerationYOriginal, 25%)    0.021940\n",
              "26    (AccelerationXOriginal, std)    0.021023\n",
              "39    (AccelerationYOriginal, max)    0.019633\n",
              "30    (AccelerationXOriginal, 75%)    0.019486\n",
              "34    (AccelerationYOriginal, std)    0.019102\n",
              "0                   (Speed, count)    0.016315\n",
              "18             (Deceleration, std)    0.016216\n",
              "24  (AccelerationXOriginal, count)    0.015869\n",
              "25   (AccelerationXOriginal, mean)    0.015727\n",
              "10             (Acceleration, std)    0.015672\n",
              "23             (Deceleration, max)    0.015438\n",
              "40  (AccelerationZOriginal, count)    0.015062\n",
              "7                     (Speed, max)    0.014955\n",
              "35    (AccelerationYOriginal, min)    0.014950\n",
              "15             (Acceleration, max)    0.014896\n",
              "17            (Deceleration, mean)    0.013541\n",
              "4                     (Speed, 25%)    0.013224\n",
              "32  (AccelerationYOriginal, count)    0.012357\n",
              "28    (AccelerationXOriginal, 25%)    0.011536\n",
              "48                      PhoneUsage    0.010391\n",
              "20             (Deceleration, 25%)    0.009911\n",
              "16           (Deceleration, count)    0.009064\n",
              "33   (AccelerationYOriginal, mean)    0.009052\n",
              "45    (AccelerationZOriginal, 50%)    0.008511\n",
              "11             (Acceleration, min)    0.007933\n",
              "31    (AccelerationXOriginal, max)    0.007824\n",
              "9             (Acceleration, mean)    0.006584\n",
              "21             (Deceleration, 50%)    0.006331\n",
              "14             (Acceleration, 75%)    0.005787\n",
              "22             (Deceleration, 75%)    0.003857\n",
              "8            (Acceleration, count)    0.000000\n",
              "12             (Acceleration, 25%)    0.000000\n",
              "3                     (Speed, min)    0.000000\n",
              "13             (Acceleration, 50%)    0.000000"
            ],
            "text/html": [
              "\n",
              "  <div id=\"df-72184ed7-36cc-469b-b48d-84c7dae50604\">\n",
              "    <div class=\"colab-df-container\">\n",
              "      <div>\n",
              "<style scoped>\n",
              "    .dataframe tbody tr th:only-of-type {\n",
              "        vertical-align: middle;\n",
              "    }\n",
              "\n",
              "    .dataframe tbody tr th {\n",
              "        vertical-align: top;\n",
              "    }\n",
              "\n",
              "    .dataframe thead th {\n",
              "        text-align: right;\n",
              "    }\n",
              "</style>\n",
              "<table border=\"1\" class=\"dataframe\">\n",
              "  <thead>\n",
              "    <tr style=\"text-align: right;\">\n",
              "      <th></th>\n",
              "      <th>feature</th>\n",
              "      <th>importance</th>\n",
              "    </tr>\n",
              "  </thead>\n",
              "  <tbody>\n",
              "    <tr>\n",
              "      <th>1</th>\n",
              "      <td>(Speed, mean)</td>\n",
              "      <td>0.102759</td>\n",
              "    </tr>\n",
              "    <tr>\n",
              "      <th>6</th>\n",
              "      <td>(Speed, 75%)</td>\n",
              "      <td>0.060776</td>\n",
              "    </tr>\n",
              "    <tr>\n",
              "      <th>5</th>\n",
              "      <td>(Speed, 50%)</td>\n",
              "      <td>0.050700</td>\n",
              "    </tr>\n",
              "    <tr>\n",
              "      <th>37</th>\n",
              "      <td>(AccelerationYOriginal, 50%)</td>\n",
              "      <td>0.045585</td>\n",
              "    </tr>\n",
              "    <tr>\n",
              "      <th>44</th>\n",
              "      <td>(AccelerationZOriginal, 25%)</td>\n",
              "      <td>0.036927</td>\n",
              "    </tr>\n",
              "    <tr>\n",
              "      <th>42</th>\n",
              "      <td>(AccelerationZOriginal, std)</td>\n",
              "      <td>0.032597</td>\n",
              "    </tr>\n",
              "    <tr>\n",
              "      <th>49</th>\n",
              "      <td>Duration</td>\n",
              "      <td>0.031531</td>\n",
              "    </tr>\n",
              "    <tr>\n",
              "      <th>27</th>\n",
              "      <td>(AccelerationXOriginal, min)</td>\n",
              "      <td>0.030601</td>\n",
              "    </tr>\n",
              "    <tr>\n",
              "      <th>46</th>\n",
              "      <td>(AccelerationZOriginal, 75%)</td>\n",
              "      <td>0.029387</td>\n",
              "    </tr>\n",
              "    <tr>\n",
              "      <th>41</th>\n",
              "      <td>(AccelerationZOriginal, mean)</td>\n",
              "      <td>0.029286</td>\n",
              "    </tr>\n",
              "    <tr>\n",
              "      <th>2</th>\n",
              "      <td>(Speed, std)</td>\n",
              "      <td>0.028925</td>\n",
              "    </tr>\n",
              "    <tr>\n",
              "      <th>29</th>\n",
              "      <td>(AccelerationXOriginal, 50%)</td>\n",
              "      <td>0.028307</td>\n",
              "    </tr>\n",
              "    <tr>\n",
              "      <th>47</th>\n",
              "      <td>(AccelerationZOriginal, max)</td>\n",
              "      <td>0.027136</td>\n",
              "    </tr>\n",
              "    <tr>\n",
              "      <th>43</th>\n",
              "      <td>(AccelerationZOriginal, min)</td>\n",
              "      <td>0.026219</td>\n",
              "    </tr>\n",
              "    <tr>\n",
              "      <th>38</th>\n",
              "      <td>(AccelerationYOriginal, 75%)</td>\n",
              "      <td>0.024298</td>\n",
              "    </tr>\n",
              "    <tr>\n",
              "      <th>19</th>\n",
              "      <td>(Deceleration, min)</td>\n",
              "      <td>0.022783</td>\n",
              "    </tr>\n",
              "    <tr>\n",
              "      <th>36</th>\n",
              "      <td>(AccelerationYOriginal, 25%)</td>\n",
              "      <td>0.021940</td>\n",
              "    </tr>\n",
              "    <tr>\n",
              "      <th>26</th>\n",
              "      <td>(AccelerationXOriginal, std)</td>\n",
              "      <td>0.021023</td>\n",
              "    </tr>\n",
              "    <tr>\n",
              "      <th>39</th>\n",
              "      <td>(AccelerationYOriginal, max)</td>\n",
              "      <td>0.019633</td>\n",
              "    </tr>\n",
              "    <tr>\n",
              "      <th>30</th>\n",
              "      <td>(AccelerationXOriginal, 75%)</td>\n",
              "      <td>0.019486</td>\n",
              "    </tr>\n",
              "    <tr>\n",
              "      <th>34</th>\n",
              "      <td>(AccelerationYOriginal, std)</td>\n",
              "      <td>0.019102</td>\n",
              "    </tr>\n",
              "    <tr>\n",
              "      <th>0</th>\n",
              "      <td>(Speed, count)</td>\n",
              "      <td>0.016315</td>\n",
              "    </tr>\n",
              "    <tr>\n",
              "      <th>18</th>\n",
              "      <td>(Deceleration, std)</td>\n",
              "      <td>0.016216</td>\n",
              "    </tr>\n",
              "    <tr>\n",
              "      <th>24</th>\n",
              "      <td>(AccelerationXOriginal, count)</td>\n",
              "      <td>0.015869</td>\n",
              "    </tr>\n",
              "    <tr>\n",
              "      <th>25</th>\n",
              "      <td>(AccelerationXOriginal, mean)</td>\n",
              "      <td>0.015727</td>\n",
              "    </tr>\n",
              "    <tr>\n",
              "      <th>10</th>\n",
              "      <td>(Acceleration, std)</td>\n",
              "      <td>0.015672</td>\n",
              "    </tr>\n",
              "    <tr>\n",
              "      <th>23</th>\n",
              "      <td>(Deceleration, max)</td>\n",
              "      <td>0.015438</td>\n",
              "    </tr>\n",
              "    <tr>\n",
              "      <th>40</th>\n",
              "      <td>(AccelerationZOriginal, count)</td>\n",
              "      <td>0.015062</td>\n",
              "    </tr>\n",
              "    <tr>\n",
              "      <th>7</th>\n",
              "      <td>(Speed, max)</td>\n",
              "      <td>0.014955</td>\n",
              "    </tr>\n",
              "    <tr>\n",
              "      <th>35</th>\n",
              "      <td>(AccelerationYOriginal, min)</td>\n",
              "      <td>0.014950</td>\n",
              "    </tr>\n",
              "    <tr>\n",
              "      <th>15</th>\n",
              "      <td>(Acceleration, max)</td>\n",
              "      <td>0.014896</td>\n",
              "    </tr>\n",
              "    <tr>\n",
              "      <th>17</th>\n",
              "      <td>(Deceleration, mean)</td>\n",
              "      <td>0.013541</td>\n",
              "    </tr>\n",
              "    <tr>\n",
              "      <th>4</th>\n",
              "      <td>(Speed, 25%)</td>\n",
              "      <td>0.013224</td>\n",
              "    </tr>\n",
              "    <tr>\n",
              "      <th>32</th>\n",
              "      <td>(AccelerationYOriginal, count)</td>\n",
              "      <td>0.012357</td>\n",
              "    </tr>\n",
              "    <tr>\n",
              "      <th>28</th>\n",
              "      <td>(AccelerationXOriginal, 25%)</td>\n",
              "      <td>0.011536</td>\n",
              "    </tr>\n",
              "    <tr>\n",
              "      <th>48</th>\n",
              "      <td>PhoneUsage</td>\n",
              "      <td>0.010391</td>\n",
              "    </tr>\n",
              "    <tr>\n",
              "      <th>20</th>\n",
              "      <td>(Deceleration, 25%)</td>\n",
              "      <td>0.009911</td>\n",
              "    </tr>\n",
              "    <tr>\n",
              "      <th>16</th>\n",
              "      <td>(Deceleration, count)</td>\n",
              "      <td>0.009064</td>\n",
              "    </tr>\n",
              "    <tr>\n",
              "      <th>33</th>\n",
              "      <td>(AccelerationYOriginal, mean)</td>\n",
              "      <td>0.009052</td>\n",
              "    </tr>\n",
              "    <tr>\n",
              "      <th>45</th>\n",
              "      <td>(AccelerationZOriginal, 50%)</td>\n",
              "      <td>0.008511</td>\n",
              "    </tr>\n",
              "    <tr>\n",
              "      <th>11</th>\n",
              "      <td>(Acceleration, min)</td>\n",
              "      <td>0.007933</td>\n",
              "    </tr>\n",
              "    <tr>\n",
              "      <th>31</th>\n",
              "      <td>(AccelerationXOriginal, max)</td>\n",
              "      <td>0.007824</td>\n",
              "    </tr>\n",
              "    <tr>\n",
              "      <th>9</th>\n",
              "      <td>(Acceleration, mean)</td>\n",
              "      <td>0.006584</td>\n",
              "    </tr>\n",
              "    <tr>\n",
              "      <th>21</th>\n",
              "      <td>(Deceleration, 50%)</td>\n",
              "      <td>0.006331</td>\n",
              "    </tr>\n",
              "    <tr>\n",
              "      <th>14</th>\n",
              "      <td>(Acceleration, 75%)</td>\n",
              "      <td>0.005787</td>\n",
              "    </tr>\n",
              "    <tr>\n",
              "      <th>22</th>\n",
              "      <td>(Deceleration, 75%)</td>\n",
              "      <td>0.003857</td>\n",
              "    </tr>\n",
              "    <tr>\n",
              "      <th>8</th>\n",
              "      <td>(Acceleration, count)</td>\n",
              "      <td>0.000000</td>\n",
              "    </tr>\n",
              "    <tr>\n",
              "      <th>12</th>\n",
              "      <td>(Acceleration, 25%)</td>\n",
              "      <td>0.000000</td>\n",
              "    </tr>\n",
              "    <tr>\n",
              "      <th>3</th>\n",
              "      <td>(Speed, min)</td>\n",
              "      <td>0.000000</td>\n",
              "    </tr>\n",
              "    <tr>\n",
              "      <th>13</th>\n",
              "      <td>(Acceleration, 50%)</td>\n",
              "      <td>0.000000</td>\n",
              "    </tr>\n",
              "  </tbody>\n",
              "</table>\n",
              "</div>\n",
              "      <button class=\"colab-df-convert\" onclick=\"convertToInteractive('df-72184ed7-36cc-469b-b48d-84c7dae50604')\"\n",
              "              title=\"Convert this dataframe to an interactive table.\"\n",
              "              style=\"display:none;\">\n",
              "        \n",
              "  <svg xmlns=\"http://www.w3.org/2000/svg\" height=\"24px\"viewBox=\"0 0 24 24\"\n",
              "       width=\"24px\">\n",
              "    <path d=\"M0 0h24v24H0V0z\" fill=\"none\"/>\n",
              "    <path d=\"M18.56 5.44l.94 2.06.94-2.06 2.06-.94-2.06-.94-.94-2.06-.94 2.06-2.06.94zm-11 1L8.5 8.5l.94-2.06 2.06-.94-2.06-.94L8.5 2.5l-.94 2.06-2.06.94zm10 10l.94 2.06.94-2.06 2.06-.94-2.06-.94-.94-2.06-.94 2.06-2.06.94z\"/><path d=\"M17.41 7.96l-1.37-1.37c-.4-.4-.92-.59-1.43-.59-.52 0-1.04.2-1.43.59L10.3 9.45l-7.72 7.72c-.78.78-.78 2.05 0 2.83L4 21.41c.39.39.9.59 1.41.59.51 0 1.02-.2 1.41-.59l7.78-7.78 2.81-2.81c.8-.78.8-2.07 0-2.86zM5.41 20L4 18.59l7.72-7.72 1.47 1.35L5.41 20z\"/>\n",
              "  </svg>\n",
              "      </button>\n",
              "      \n",
              "  <style>\n",
              "    .colab-df-container {\n",
              "      display:flex;\n",
              "      flex-wrap:wrap;\n",
              "      gap: 12px;\n",
              "    }\n",
              "\n",
              "    .colab-df-convert {\n",
              "      background-color: #E8F0FE;\n",
              "      border: none;\n",
              "      border-radius: 50%;\n",
              "      cursor: pointer;\n",
              "      display: none;\n",
              "      fill: #1967D2;\n",
              "      height: 32px;\n",
              "      padding: 0 0 0 0;\n",
              "      width: 32px;\n",
              "    }\n",
              "\n",
              "    .colab-df-convert:hover {\n",
              "      background-color: #E2EBFA;\n",
              "      box-shadow: 0px 1px 2px rgba(60, 64, 67, 0.3), 0px 1px 3px 1px rgba(60, 64, 67, 0.15);\n",
              "      fill: #174EA6;\n",
              "    }\n",
              "\n",
              "    [theme=dark] .colab-df-convert {\n",
              "      background-color: #3B4455;\n",
              "      fill: #D2E3FC;\n",
              "    }\n",
              "\n",
              "    [theme=dark] .colab-df-convert:hover {\n",
              "      background-color: #434B5C;\n",
              "      box-shadow: 0px 1px 3px 1px rgba(0, 0, 0, 0.15);\n",
              "      filter: drop-shadow(0px 1px 2px rgba(0, 0, 0, 0.3));\n",
              "      fill: #FFFFFF;\n",
              "    }\n",
              "  </style>\n",
              "\n",
              "      <script>\n",
              "        const buttonEl =\n",
              "          document.querySelector('#df-72184ed7-36cc-469b-b48d-84c7dae50604 button.colab-df-convert');\n",
              "        buttonEl.style.display =\n",
              "          google.colab.kernel.accessAllowed ? 'block' : 'none';\n",
              "\n",
              "        async function convertToInteractive(key) {\n",
              "          const element = document.querySelector('#df-72184ed7-36cc-469b-b48d-84c7dae50604');\n",
              "          const dataTable =\n",
              "            await google.colab.kernel.invokeFunction('convertToInteractive',\n",
              "                                                     [key], {});\n",
              "          if (!dataTable) return;\n",
              "\n",
              "          const docLinkHtml = 'Like what you see? Visit the ' +\n",
              "            '<a target=\"_blank\" href=https://colab.research.google.com/notebooks/data_table.ipynb>data table notebook</a>'\n",
              "            + ' to learn more about interactive tables.';\n",
              "          element.innerHTML = '';\n",
              "          dataTable['output_type'] = 'display_data';\n",
              "          await google.colab.output.renderOutput(dataTable, element);\n",
              "          const docLink = document.createElement('div');\n",
              "          docLink.innerHTML = docLinkHtml;\n",
              "          element.appendChild(docLink);\n",
              "        }\n",
              "      </script>\n",
              "    </div>\n",
              "  </div>\n",
              "  "
            ]
          },
          "metadata": {},
          "execution_count": 19
        }
      ]
    },
    {
      "cell_type": "code",
      "source": [
        "# BaggingClassifier with tree model train\n",
        "model = BaggingClassifier(DecisionTreeClassifier(splitter='random'), n_estimators=56, random_state=1)\n",
        "model.fit(X_train, y_train)"
      ],
      "metadata": {
        "colab": {
          "base_uri": "https://localhost:8080/"
        },
        "id": "7pHJjEAQD-u9",
        "outputId": "d610e2fc-d2c9-48fa-d4d1-f41a375bb3cb"
      },
      "execution_count": 20,
      "outputs": [
        {
          "output_type": "stream",
          "name": "stderr",
          "text": [
            "/usr/local/lib/python3.7/dist-packages/sklearn/utils/validation.py:1692: FutureWarning: Feature names only support names that are all strings. Got feature names with dtypes: ['str', 'tuple']. An error will be raised in 1.2.\n",
            "  FutureWarning,\n"
          ]
        },
        {
          "output_type": "execute_result",
          "data": {
            "text/plain": [
              "BaggingClassifier(base_estimator=DecisionTreeClassifier(splitter='random'),\n",
              "                  n_estimators=56, random_state=1)"
            ]
          },
          "metadata": {},
          "execution_count": 20
        }
      ]
    },
    {
      "cell_type": "code",
      "source": [
        "# BaggingClassifier with tree model prediction\n",
        "BC_pred = model.predict(X_test)"
      ],
      "metadata": {
        "id": "hKDGevLvR1tO",
        "outputId": "b5febc11-fe6b-4211-9f27-295b426f0bb7",
        "colab": {
          "base_uri": "https://localhost:8080/"
        }
      },
      "execution_count": 21,
      "outputs": [
        {
          "output_type": "stream",
          "name": "stderr",
          "text": [
            "/usr/local/lib/python3.7/dist-packages/sklearn/utils/validation.py:1692: FutureWarning: Feature names only support names that are all strings. Got feature names with dtypes: ['str', 'tuple']. An error will be raised in 1.2.\n",
            "  FutureWarning,\n"
          ]
        }
      ]
    },
    {
      "cell_type": "code",
      "source": [
        "# Accuracy score BaggingClassifier with tree\n",
        "print(accuracy_score(BC_pred, y_test))"
      ],
      "metadata": {
        "colab": {
          "base_uri": "https://localhost:8080/"
        },
        "id": "F_6HOzYnSA_7",
        "outputId": "263c8f06-9737-45ec-a49d-1d8f02257441"
      },
      "execution_count": 22,
      "outputs": [
        {
          "output_type": "stream",
          "name": "stdout",
          "text": [
            "0.833976833976834\n"
          ]
        }
      ]
    },
    {
      "cell_type": "markdown",
      "source": [
        "Accuracy 0.833976833976834 (n_estimators=56)"
      ],
      "metadata": {
        "id": "X3vA48BxRNbi"
      }
    },
    {
      "cell_type": "code",
      "source": [
        "# Search parametrs RandomForestClassifier with RandomizedSearchCV\n",
        "n_estimators = [int(x) for x in np.linspace(start = 100, stop = 1000, num = 10)]\n",
        "max_features = ['log2', 'sqrt']\n",
        "max_depth = [int(x) for x in np.linspace(start = 1, stop = 15, num = 15)]\n",
        "min_samples_split = [int(x) for x in np.linspace(start = 2, stop = 50, num = 10)]\n",
        "min_samples_leaf = [int(x) for x in np.linspace(start = 2, stop = 50, num = 10)]\n",
        "bootstrap = [True, False]\n",
        "param_dist = {'n_estimators': n_estimators,\n",
        "               'max_features': max_features,\n",
        "               'max_depth': max_depth,\n",
        "               'min_samples_split': min_samples_split,\n",
        "               'min_samples_leaf': min_samples_leaf,\n",
        "               'bootstrap': bootstrap}\n",
        "rs = RandomizedSearchCV(RandomForestClassifier(), \n",
        "                        param_dist, \n",
        "                        n_iter = 100, \n",
        "                        cv = 3, \n",
        "                        verbose = 1, \n",
        "                        n_jobs=-1, \n",
        "                        random_state=0)\n",
        "rs.fit(X_train, y_train)\n",
        "rs.best_params_"
      ],
      "metadata": {
        "id": "yX4wKKMjl0LT",
        "outputId": "1c4ec0a6-8fc8-47db-b1bf-b7fbad19481d",
        "colab": {
          "base_uri": "https://localhost:8080/"
        }
      },
      "execution_count": 23,
      "outputs": [
        {
          "output_type": "stream",
          "name": "stdout",
          "text": [
            "Fitting 3 folds for each of 100 candidates, totalling 300 fits\n"
          ]
        },
        {
          "output_type": "stream",
          "name": "stderr",
          "text": [
            "/usr/local/lib/python3.7/dist-packages/sklearn/utils/validation.py:1692: FutureWarning: Feature names only support names that are all strings. Got feature names with dtypes: ['str', 'tuple']. An error will be raised in 1.2.\n",
            "  FutureWarning,\n"
          ]
        },
        {
          "output_type": "execute_result",
          "data": {
            "text/plain": [
              "{'bootstrap': False,\n",
              " 'max_depth': 13,\n",
              " 'max_features': 'sqrt',\n",
              " 'min_samples_leaf': 2,\n",
              " 'min_samples_split': 12,\n",
              " 'n_estimators': 700}"
            ]
          },
          "metadata": {},
          "execution_count": 23
        }
      ]
    },
    {
      "cell_type": "code",
      "source": [
        "# RandomForestClassifier model prediction\n",
        "RFCs_pred = rs.predict(X_test)"
      ],
      "metadata": {
        "id": "c1EJ6Ii_xFgt",
        "outputId": "be3c26c7-e2d8-403d-9c0c-20dd486e12ec",
        "colab": {
          "base_uri": "https://localhost:8080/"
        }
      },
      "execution_count": 24,
      "outputs": [
        {
          "output_type": "stream",
          "name": "stderr",
          "text": [
            "/usr/local/lib/python3.7/dist-packages/sklearn/utils/validation.py:1692: FutureWarning: Feature names only support names that are all strings. Got feature names with dtypes: ['str', 'tuple']. An error will be raised in 1.2.\n",
            "  FutureWarning,\n"
          ]
        }
      ]
    },
    {
      "cell_type": "code",
      "source": [
        "# Accuracy score RandomForestClassifier\n",
        "print(accuracy_score(RFCs_pred, y_test))"
      ],
      "metadata": {
        "id": "2aSCypeFxfLt",
        "outputId": "ec46b746-acc1-4d40-bfc4-9757efb2078d",
        "colab": {
          "base_uri": "https://localhost:8080/"
        }
      },
      "execution_count": 25,
      "outputs": [
        {
          "output_type": "stream",
          "name": "stdout",
          "text": [
            "0.832046332046332\n"
          ]
        }
      ]
    },
    {
      "cell_type": "markdown",
      "source": [
        "Accuracy 0.832046332046332"
      ],
      "metadata": {
        "id": "pgbZ_TpC-4qC"
      }
    },
    {
      "cell_type": "code",
      "source": [
        "# Search parametrs RandomForestClassifier with GridSearchCV\n",
        "n_estimators = [500,700,900]\n",
        "max_features = ['sqrt']\n",
        "max_depth = [11,13,15]\n",
        "min_samples_split = [10,12,14]\n",
        "min_samples_leaf = [2,3,4,5,6,7]\n",
        "bootstrap = [False]\n",
        "param_grid = {'n_estimators': n_estimators,\n",
        "               'max_features': max_features,\n",
        "               'max_depth': max_depth,\n",
        "               'min_samples_split': min_samples_split,\n",
        "               'min_samples_leaf': min_samples_leaf,\n",
        "               'bootstrap': bootstrap}\n",
        "gs = GridSearchCV(RandomForestClassifier(), param_grid, cv = 3, verbose = 1, n_jobs=-1)\n",
        "gs.fit(X_train, y_train)\n",
        "rfc_3 = gs.best_estimator_\n",
        "gs.best_params_"
      ],
      "metadata": {
        "id": "K_KPFMbOjL3W",
        "outputId": "b75ada50-2ccb-4d0a-dde4-d526e57c3171",
        "colab": {
          "base_uri": "https://localhost:8080/"
        }
      },
      "execution_count": 26,
      "outputs": [
        {
          "output_type": "stream",
          "name": "stdout",
          "text": [
            "Fitting 3 folds for each of 162 candidates, totalling 486 fits\n"
          ]
        },
        {
          "output_type": "stream",
          "name": "stderr",
          "text": [
            "/usr/local/lib/python3.7/dist-packages/sklearn/utils/validation.py:1692: FutureWarning: Feature names only support names that are all strings. Got feature names with dtypes: ['str', 'tuple']. An error will be raised in 1.2.\n",
            "  FutureWarning,\n"
          ]
        },
        {
          "output_type": "execute_result",
          "data": {
            "text/plain": [
              "{'bootstrap': False,\n",
              " 'max_depth': 15,\n",
              " 'max_features': 'sqrt',\n",
              " 'min_samples_leaf': 4,\n",
              " 'min_samples_split': 12,\n",
              " 'n_estimators': 900}"
            ]
          },
          "metadata": {},
          "execution_count": 26
        }
      ]
    },
    {
      "cell_type": "code",
      "source": [
        "# RandomForestClassifier model prediction\n",
        "RFCg_pred = gs.predict(X_test)"
      ],
      "metadata": {
        "id": "dqDuY-mMoGdT",
        "outputId": "1a823c66-c39b-44b1-d82f-19b05a8d87d3",
        "colab": {
          "base_uri": "https://localhost:8080/"
        }
      },
      "execution_count": 27,
      "outputs": [
        {
          "output_type": "stream",
          "name": "stderr",
          "text": [
            "/usr/local/lib/python3.7/dist-packages/sklearn/utils/validation.py:1692: FutureWarning: Feature names only support names that are all strings. Got feature names with dtypes: ['str', 'tuple']. An error will be raised in 1.2.\n",
            "  FutureWarning,\n"
          ]
        }
      ]
    },
    {
      "cell_type": "code",
      "source": [
        "# Accuracy score RandomForestClassifier\n",
        "print(accuracy_score(RFCg_pred, y_test))"
      ],
      "metadata": {
        "id": "VrNThtQtoNUS",
        "outputId": "1a4345b2-334e-4488-f2ce-5cc7af44b886",
        "colab": {
          "base_uri": "https://localhost:8080/"
        }
      },
      "execution_count": 28,
      "outputs": [
        {
          "output_type": "stream",
          "name": "stdout",
          "text": [
            "0.8243243243243243\n"
          ]
        }
      ]
    },
    {
      "cell_type": "markdown",
      "source": [
        "Accuracy 0.8243243243243243"
      ],
      "metadata": {
        "id": "jKJW0TZmoeP5"
      }
    },
    {
      "cell_type": "code",
      "source": [
        "# ExtraTreesClassifier model train\n",
        "Eforest = ExtraTreesClassifier(n_estimators=700, n_jobs=-1, random_state=1)\n",
        "Eforest.fit(X_train, y_train)"
      ],
      "metadata": {
        "id": "E5drTZ5qZgQ1",
        "colab": {
          "base_uri": "https://localhost:8080/"
        },
        "outputId": "74d49ca4-8822-4956-9925-935d0cf57760"
      },
      "execution_count": 29,
      "outputs": [
        {
          "output_type": "stream",
          "name": "stderr",
          "text": [
            "/usr/local/lib/python3.7/dist-packages/sklearn/utils/validation.py:1692: FutureWarning: Feature names only support names that are all strings. Got feature names with dtypes: ['str', 'tuple']. An error will be raised in 1.2.\n",
            "  FutureWarning,\n"
          ]
        },
        {
          "output_type": "execute_result",
          "data": {
            "text/plain": [
              "ExtraTreesClassifier(n_estimators=700, n_jobs=-1, random_state=1)"
            ]
          },
          "metadata": {},
          "execution_count": 29
        }
      ]
    },
    {
      "cell_type": "code",
      "source": [
        "# ExtraTreesClassifier model prediction\n",
        "EFC_pred = Eforest.predict(X_test)"
      ],
      "metadata": {
        "id": "BLRnAHOEb6lN",
        "outputId": "10261dea-5f1c-4d86-ae4e-05b8d3dcaa77",
        "colab": {
          "base_uri": "https://localhost:8080/"
        }
      },
      "execution_count": 30,
      "outputs": [
        {
          "output_type": "stream",
          "name": "stderr",
          "text": [
            "/usr/local/lib/python3.7/dist-packages/sklearn/utils/validation.py:1692: FutureWarning: Feature names only support names that are all strings. Got feature names with dtypes: ['str', 'tuple']. An error will be raised in 1.2.\n",
            "  FutureWarning,\n"
          ]
        }
      ]
    },
    {
      "cell_type": "code",
      "source": [
        "# Accuracy score ExtraTreesClassifier\n",
        "print(accuracy_score(EFC_pred, y_test))"
      ],
      "metadata": {
        "id": "uYoQ8-X6cQ03",
        "outputId": "3f566900-4d95-4b7f-f9a2-2dbb07237306",
        "colab": {
          "base_uri": "https://localhost:8080/"
        }
      },
      "execution_count": 31,
      "outputs": [
        {
          "output_type": "stream",
          "name": "stdout",
          "text": [
            "0.859073359073359\n"
          ]
        }
      ]
    },
    {
      "cell_type": "markdown",
      "source": [
        "Accuracy 0.859073359073359"
      ],
      "metadata": {
        "id": "Kjg_ivBXqx3M"
      }
    },
    {
      "cell_type": "code",
      "source": [
        "# AdaBoostClassifier model train\n",
        "AB = AdaBoostClassifier(n_estimators=700, random_state=1)\n",
        "AB.fit(X_train, y_train)"
      ],
      "metadata": {
        "id": "CNf7XhP9B32b",
        "outputId": "e37b65b4-bef5-4ce5-dda9-217f25bd4812",
        "colab": {
          "base_uri": "https://localhost:8080/"
        }
      },
      "execution_count": 35,
      "outputs": [
        {
          "output_type": "stream",
          "name": "stderr",
          "text": [
            "/usr/local/lib/python3.7/dist-packages/sklearn/utils/validation.py:1692: FutureWarning: Feature names only support names that are all strings. Got feature names with dtypes: ['str', 'tuple']. An error will be raised in 1.2.\n",
            "  FutureWarning,\n"
          ]
        },
        {
          "output_type": "execute_result",
          "data": {
            "text/plain": [
              "AdaBoostClassifier(n_estimators=700, random_state=1)"
            ]
          },
          "metadata": {},
          "execution_count": 35
        }
      ]
    },
    {
      "cell_type": "code",
      "source": [
        "# AdaBoostClassifier model prediction\n",
        "AB_pred = AB.predict(X_test)"
      ],
      "metadata": {
        "id": "R-TGaoZUD8VC",
        "outputId": "2b8d95c1-03f7-4b33-81f3-4f6b70c3285a",
        "colab": {
          "base_uri": "https://localhost:8080/"
        }
      },
      "execution_count": 36,
      "outputs": [
        {
          "output_type": "stream",
          "name": "stderr",
          "text": [
            "/usr/local/lib/python3.7/dist-packages/sklearn/utils/validation.py:1692: FutureWarning: Feature names only support names that are all strings. Got feature names with dtypes: ['str', 'tuple']. An error will be raised in 1.2.\n",
            "  FutureWarning,\n"
          ]
        }
      ]
    },
    {
      "cell_type": "code",
      "source": [
        "# Accuracy score AdaBoostClassifier\n",
        "print(accuracy_score(AB_pred, y_test))"
      ],
      "metadata": {
        "id": "f05f-j4sFNh7",
        "outputId": "009b8daa-04c0-47f2-c7f6-f95ad636c7c3",
        "colab": {
          "base_uri": "https://localhost:8080/"
        }
      },
      "execution_count": 37,
      "outputs": [
        {
          "output_type": "stream",
          "name": "stdout",
          "text": [
            "0.7895752895752896\n"
          ]
        }
      ]
    },
    {
      "cell_type": "markdown",
      "source": [
        "Accuracy 0.7895752895752896"
      ],
      "metadata": {
        "id": "mLIIpC-xiuAP"
      }
    }
  ]
}