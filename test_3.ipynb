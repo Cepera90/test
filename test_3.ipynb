{
  "nbformat": 4,
  "nbformat_minor": 0,
  "metadata": {
    "colab": {
      "name": "test_3.ipynb",
      "provenance": [],
      "collapsed_sections": [],
      "mount_file_id": "https://github.com/Cepera90/test/blob/main/test_3.ipynb",
      "authorship_tag": "ABX9TyOuMY34kZPk698Z48xx5YHg",
      "include_colab_link": true
    },
    "kernelspec": {
      "name": "python3",
      "display_name": "Python 3"
    },
    "language_info": {
      "name": "python"
    }
  },
  "cells": [
    {
      "cell_type": "markdown",
      "metadata": {
        "id": "view-in-github",
        "colab_type": "text"
      },
      "source": [
        "<a href=\"https://colab.research.google.com/github/Cepera90/test/blob/main/test_3.ipynb\" target=\"_parent\"><img src=\"https://colab.research.google.com/assets/colab-badge.svg\" alt=\"Open In Colab\"/></a>"
      ]
    },
    {
      "cell_type": "code",
      "execution_count": 1,
      "metadata": {
        "id": "DYF3WTYwaZ2F"
      },
      "outputs": [],
      "source": [
        "# Import libraries\n",
        "import numpy as np\n",
        "import pandas as pd\n",
        "from sklearn.tree import DecisionTreeClassifier\n",
        "from sklearn.ensemble import BaggingClassifier, RandomForestClassifier, ExtraTreesClassifier\n",
        "from sklearn.metrics import accuracy_score\n",
        "from sklearn.model_selection import train_test_split, GridSearchCV, RandomizedSearchCV\n",
        "import matplotlib.pyplot as plt\n",
        "import seaborn as sns"
      ]
    },
    {
      "cell_type": "code",
      "source": [
        "# Open inc_points_c\n",
        "TC = pd.read_csv(\"/content/drive/MyDrive/test/inc_points_c.csv\")"
      ],
      "metadata": {
        "id": "84e9ILGnaqd0"
      },
      "execution_count": 2,
      "outputs": []
    },
    {
      "cell_type": "code",
      "source": [
        "TC.columns"
      ],
      "metadata": {
        "colab": {
          "base_uri": "https://localhost:8080/"
        },
        "id": "wnGOpFTRbGzb",
        "outputId": "e5cea02e-b762-4987-8fea-727e38bcfd6b"
      },
      "execution_count": null,
      "outputs": [
        {
          "output_type": "execute_result",
          "data": {
            "text/plain": [
              "Index(['Unnamed: 0', 'IncomingTrackId', 'Speed', 'Latitude', 'Longitude',\n",
              "       'PointDate', 'Height', 'Acceleration', 'Deceleration', 'TickTimestamp',\n",
              "       'AccelerationXOriginal', 'AccelerationYOriginal',\n",
              "       'AccelerationZOriginal', 'TrackOrigin', 'os_version'],\n",
              "      dtype='object')"
            ]
          },
          "metadata": {},
          "execution_count": 3
        }
      ]
    },
    {
      "cell_type": "code",
      "source": [
        "#Delete the numeric data inc point, IncomingTrackId and track origin\n",
        "TC = TC.drop(['Unnamed: 0','os_version','TickTimestamp','PointDate', 'IncomingTrackId'], axis=1)"
      ],
      "metadata": {
        "id": "mbcXGimKb9z0"
      },
      "execution_count": 3,
      "outputs": []
    },
    {
      "cell_type": "code",
      "source": [
        "#Delete the Latitude, Longitude and Height columns for anonimized data\n",
        "TC = TC.drop(['Latitude','Longitude','Height'], axis=1)"
      ],
      "metadata": {
        "id": "wv85LcSZ17hh"
      },
      "execution_count": 4,
      "outputs": []
    },
    {
      "cell_type": "code",
      "source": [
        "# 'OriginalDriver' and 'Taxi' - 'Driver'\n",
        "TC = TC.replace({'TrackOrigin':{'OriginalDriver':'Driver', 'Taxi':'Driver'}})"
      ],
      "metadata": {
        "id": "yshiIfwUl_Vv"
      },
      "execution_count": 7,
      "outputs": []
    },
    {
      "cell_type": "code",
      "source": [
        "TC.loc[:,'TrackOrigin'].unique()"
      ],
      "metadata": {
        "colab": {
          "base_uri": "https://localhost:8080/"
        },
        "id": "sAWvirF4nCDx",
        "outputId": "b748c7e8-d5af-4b2b-f9f9-22e8943127ea"
      },
      "execution_count": 8,
      "outputs": [
        {
          "output_type": "execute_result",
          "data": {
            "text/plain": [
              "array(['Driver', 'Passanger'], dtype=object)"
            ]
          },
          "metadata": {},
          "execution_count": 8
        }
      ]
    },
    {
      "cell_type": "code",
      "source": [
        "#Prepare data\n",
        "X = TC.loc[:,TC.columns != 'TrackOrigin']\n",
        "y = TC.loc[:,'TrackOrigin']\n",
        "X_train, X_test, y_train, y_test = train_test_split(X, y, test_size=0.2, random_state=1)"
      ],
      "metadata": {
        "id": "cT4TqXB_fLcc"
      },
      "execution_count": 9,
      "outputs": []
    },
    {
      "cell_type": "code",
      "source": [
        "# DecisionTreeClassifier model\n",
        "tree = DecisionTreeClassifier(criterion='entropy', max_depth=26, min_samples_leaf=4, splitter=\"random\", random_state=1)"
      ],
      "metadata": {
        "id": "DwJqnBTieY3J"
      },
      "execution_count": 10,
      "outputs": []
    },
    {
      "cell_type": "code",
      "source": [
        "# DecisionTreeClassifier model train\n",
        "tree.fit(X_train, y_train)"
      ],
      "metadata": {
        "id": "x0vj2vSnECIv",
        "outputId": "98c2c9bd-3327-4706-990b-5cddbeaaf2b0",
        "colab": {
          "base_uri": "https://localhost:8080/"
        }
      },
      "execution_count": 11,
      "outputs": [
        {
          "output_type": "execute_result",
          "data": {
            "text/plain": [
              "DecisionTreeClassifier(criterion='entropy', max_depth=26, min_samples_leaf=4,\n",
              "                       random_state=1, splitter='random')"
            ]
          },
          "metadata": {},
          "execution_count": 11
        }
      ]
    },
    {
      "cell_type": "markdown",
      "source": [
        "Execution time 14s"
      ],
      "metadata": {
        "id": "EuVjuwpnO-Lj"
      }
    },
    {
      "cell_type": "code",
      "source": [
        "# DecisionTreeClassifier model prediction\n",
        "DTC_pred = tree.predict(X_test)"
      ],
      "metadata": {
        "id": "PVdLdHpeknV7"
      },
      "execution_count": 12,
      "outputs": []
    },
    {
      "cell_type": "code",
      "source": [
        "# Accuracy score DecisionTreeClassifier\n",
        "print(accuracy_score(DTC_pred, y_test))"
      ],
      "metadata": {
        "colab": {
          "base_uri": "https://localhost:8080/"
        },
        "id": "itHSLLNElb9A",
        "outputId": "dd315c7c-6f07-4ff9-895f-191373fe47d1"
      },
      "execution_count": 13,
      "outputs": [
        {
          "output_type": "stream",
          "name": "stdout",
          "text": [
            "0.8015703601390644\n"
          ]
        }
      ]
    },
    {
      "cell_type": "markdown",
      "source": [
        "Accuracy 0.8015703601390644"
      ],
      "metadata": {
        "id": "0FGILWmwQ0Fq"
      }
    },
    {
      "cell_type": "code",
      "source": [
        "# BaggingClassifier with tree model train\n",
        "model = BaggingClassifier(DecisionTreeClassifier(splitter='random'), n_estimators=40, random_state=1)\n",
        "model.fit(X_train, y_train)"
      ],
      "metadata": {
        "colab": {
          "base_uri": "https://localhost:8080/"
        },
        "id": "7pHJjEAQD-u9",
        "outputId": "db94b0c6-431d-4bbb-f0a7-7bb5cf829021"
      },
      "execution_count": 14,
      "outputs": [
        {
          "output_type": "execute_result",
          "data": {
            "text/plain": [
              "BaggingClassifier(base_estimator=DecisionTreeClassifier(splitter='random'),\n",
              "                  n_estimators=40, random_state=1)"
            ]
          },
          "metadata": {},
          "execution_count": 14
        }
      ]
    },
    {
      "cell_type": "markdown",
      "source": [
        "Execution time 5m (n_estimators=40)"
      ],
      "metadata": {
        "id": "r2gVxsj2QrIq"
      }
    },
    {
      "cell_type": "code",
      "source": [
        "# BaggingClassifier with tree model prediction\n",
        "BC_pred = model.predict(X_test)"
      ],
      "metadata": {
        "id": "hKDGevLvR1tO"
      },
      "execution_count": 15,
      "outputs": []
    },
    {
      "cell_type": "code",
      "source": [
        "# Accuracy score BaggingClassifier with tree\n",
        "print(accuracy_score(BC_pred, y_test))"
      ],
      "metadata": {
        "colab": {
          "base_uri": "https://localhost:8080/"
        },
        "id": "F_6HOzYnSA_7",
        "outputId": "ed4f73e8-b0ac-4941-95fd-9eeb80e358dd"
      },
      "execution_count": 16,
      "outputs": [
        {
          "output_type": "stream",
          "name": "stdout",
          "text": [
            "0.8475680737909692\n"
          ]
        }
      ]
    },
    {
      "cell_type": "markdown",
      "source": [
        "Accuracy 0.8475680737909692(n_estimators=40)"
      ],
      "metadata": {
        "id": "X3vA48BxRNbi"
      }
    },
    {
      "cell_type": "code",
      "source": [
        "# Search parametrs RandomForestClassifier with RandomizedSearchCV\n",
        "n_estimators = [int(x) for x in np.linspace(start = 30, stop = 50, num = 10)]\n",
        "min_samples_split = [int(x) for x in np.linspace(start = 30, stop = 50, num = 10)]\n",
        "min_samples_leaf = [int(x) for x in np.linspace(start = 10, stop = 30, num = 10)]\n",
        "\n",
        "param_dist = {'n_estimators': n_estimators,\n",
        "               'min_samples_split': min_samples_split,\n",
        "               'min_samples_leaf': min_samples_leaf}\n",
        "\n",
        "rs = RandomizedSearchCV(RandomForestClassifier(), \n",
        "                        param_dist, \n",
        "                        n_iter = 4, \n",
        "                        cv = 2, \n",
        "                        verbose = 1, \n",
        "                        n_jobs=-1, \n",
        "                        random_state=0)\n",
        "rs.fit(X_train, y_train)\n",
        "rs.best_params_"
      ],
      "metadata": {
        "id": "yX4wKKMjl0LT",
        "outputId": "d951be38-bc2f-4850-818e-cf0928dd678b",
        "colab": {
          "base_uri": "https://localhost:8080/"
        }
      },
      "execution_count": 17,
      "outputs": [
        {
          "output_type": "stream",
          "name": "stdout",
          "text": [
            "Fitting 2 folds for each of 4 candidates, totalling 8 fits\n"
          ]
        },
        {
          "output_type": "execute_result",
          "data": {
            "text/plain": [
              "{'min_samples_leaf': 12, 'min_samples_split': 50, 'n_estimators': 34}"
            ]
          },
          "metadata": {},
          "execution_count": 17
        }
      ]
    },
    {
      "cell_type": "code",
      "source": [
        "# RandomForestClassifier model prediction\n",
        "RFCs_pred = rs.predict(X_test)"
      ],
      "metadata": {
        "id": "c1EJ6Ii_xFgt"
      },
      "execution_count": 18,
      "outputs": []
    },
    {
      "cell_type": "code",
      "source": [
        "# Accuracy score RandomForestClassifier\n",
        "print(accuracy_score(RFCs_pred, y_test))"
      ],
      "metadata": {
        "id": "2aSCypeFxfLt",
        "outputId": "5309ede2-4307-44bf-9cc5-5fdf1ceea76c",
        "colab": {
          "base_uri": "https://localhost:8080/"
        }
      },
      "execution_count": 19,
      "outputs": [
        {
          "output_type": "stream",
          "name": "stdout",
          "text": [
            "0.8376392017139763\n"
          ]
        }
      ]
    },
    {
      "cell_type": "code",
      "source": [
        "# RandomForestClassifier model train\n",
        "forest = RandomForestClassifier(n_estimators=20, n_jobs=-1, random_state=1)\n",
        "forest.fit(X_train, y_train)"
      ],
      "metadata": {
        "id": "ihw-ZJfkWLk2",
        "outputId": "99206dbe-f577-43da-94a9-fd22351451f7",
        "colab": {
          "base_uri": "https://localhost:8080/"
        }
      },
      "execution_count": null,
      "outputs": [
        {
          "output_type": "execute_result",
          "data": {
            "text/plain": [
              "RandomForestClassifier(n_estimators=40, n_jobs=-1, random_state=1)"
            ]
          },
          "metadata": {},
          "execution_count": 6
        }
      ]
    },
    {
      "cell_type": "markdown",
      "source": [
        "Execution time 7m"
      ],
      "metadata": {
        "id": "wiP_wwkDWXov"
      }
    },
    {
      "cell_type": "code",
      "source": [
        "# RandomForestClassifier model prediction\n",
        "RFC_pred = forest.predict(X_test)"
      ],
      "metadata": {
        "id": "ceDq16HbW7OF"
      },
      "execution_count": null,
      "outputs": []
    },
    {
      "cell_type": "code",
      "source": [
        "# Accuracy score RandomForestClassifier\n",
        "print(accuracy_score(RFC_pred, y_test))"
      ],
      "metadata": {
        "colab": {
          "base_uri": "https://localhost:8080/"
        },
        "id": "Jef8o2_DXHwp",
        "outputId": "52592ad4-8e4f-405b-e527-3fa5c2321e9e"
      },
      "execution_count": null,
      "outputs": [
        {
          "output_type": "stream",
          "name": "stdout",
          "text": [
            "0.8254841485969304\n"
          ]
        }
      ]
    },
    {
      "cell_type": "markdown",
      "source": [
        "Accuracy 0.8254841485969304"
      ],
      "metadata": {
        "id": "iQmpTtwJWgi6"
      }
    },
    {
      "cell_type": "code",
      "source": [
        "# ExtraTreesClassifier model train\n",
        "Eforest = ExtraTreesClassifier(n_estimators=40, n_jobs=-1, random_state=1)\n",
        "Eforest.fit(X_train, y_train)"
      ],
      "metadata": {
        "id": "E5drTZ5qZgQ1",
        "outputId": "cd43fe7b-f8d6-4318-d931-73515974ab5b",
        "colab": {
          "base_uri": "https://localhost:8080/"
        }
      },
      "execution_count": null,
      "outputs": [
        {
          "output_type": "execute_result",
          "data": {
            "text/plain": [
              "ExtraTreesClassifier(n_estimators=40, n_jobs=-1, random_state=1)"
            ]
          },
          "metadata": {},
          "execution_count": 6
        }
      ]
    },
    {
      "cell_type": "markdown",
      "source": [
        "Execution time 3m"
      ],
      "metadata": {
        "id": "Zre_7aWkbxhJ"
      }
    },
    {
      "cell_type": "code",
      "source": [
        "# ExtraTreesClassifier model prediction\n",
        "EFC_pred = Eforest.predict(X_test)"
      ],
      "metadata": {
        "id": "BLRnAHOEb6lN"
      },
      "execution_count": null,
      "outputs": []
    },
    {
      "cell_type": "code",
      "source": [
        "# Accuracy score ExtraTreesClassifier\n",
        "print(accuracy_score(EFC_pred, y_test))"
      ],
      "metadata": {
        "id": "uYoQ8-X6cQ03",
        "outputId": "c217391e-0edd-4670-b13a-97d93e3da8a0",
        "colab": {
          "base_uri": "https://localhost:8080/"
        }
      },
      "execution_count": null,
      "outputs": [
        {
          "output_type": "stream",
          "name": "stdout",
          "text": [
            "0.824581642769882\n"
          ]
        }
      ]
    }
  ]
}