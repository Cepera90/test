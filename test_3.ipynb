{
  "nbformat": 4,
  "nbformat_minor": 0,
  "metadata": {
    "colab": {
      "name": "test_3.ipynb",
      "provenance": [],
      "collapsed_sections": [],
      "mount_file_id": "https://github.com/Cepera90/test/blob/main/test_3.ipynb",
      "authorship_tag": "ABX9TyPAO/TKLNAVMG27R6JW9PXk",
      "include_colab_link": true
    },
    "kernelspec": {
      "name": "python3",
      "display_name": "Python 3"
    },
    "language_info": {
      "name": "python"
    }
  },
  "cells": [
    {
      "cell_type": "markdown",
      "metadata": {
        "id": "view-in-github",
        "colab_type": "text"
      },
      "source": [
        "<a href=\"https://colab.research.google.com/github/Cepera90/test/blob/main/test_3.ipynb\" target=\"_parent\"><img src=\"https://colab.research.google.com/assets/colab-badge.svg\" alt=\"Open In Colab\"/></a>"
      ]
    },
    {
      "cell_type": "code",
      "execution_count": 1,
      "metadata": {
        "id": "DYF3WTYwaZ2F"
      },
      "outputs": [],
      "source": [
        "# Import libraries\n",
        "import numpy as np\n",
        "import pandas as pd\n",
        "from sklearn.tree import DecisionTreeClassifier\n",
        "from sklearn.ensemble import BaggingClassifier, RandomForestClassifier, ExtraTreesClassifier, AdaBoostClassifier\n",
        "from sklearn.metrics import accuracy_score\n",
        "from sklearn.model_selection import train_test_split, GridSearchCV, RandomizedSearchCV\n",
        "import matplotlib.pyplot as plt\n",
        "import seaborn as sns"
      ]
    },
    {
      "cell_type": "code",
      "source": [
        "# Open inc_points_c\n",
        "TC = pd.read_csv(\"/content/drive/MyDrive/test/inc_points_c.csv\")\n",
        "TC = TC.drop(['Unnamed: 0'], axis=1)"
      ],
      "metadata": {
        "id": "84e9ILGnaqd0"
      },
      "execution_count": 2,
      "outputs": []
    },
    {
      "cell_type": "code",
      "source": [
        "# See median values for drivers and passangers\n",
        "TC.groupby('TrackOrigin').median()"
      ],
      "metadata": {
        "colab": {
          "base_uri": "https://localhost:8080/",
          "height": 256
        },
        "id": "wnGOpFTRbGzb",
        "outputId": "4029dac8-9a6a-4287-fc43-d4d2422a8230"
      },
      "execution_count": null,
      "outputs": [
        {
          "output_type": "execute_result",
          "data": {
            "text/plain": [
              "                Unnamed: 0  IncomingTrackId      Speed   Latitude  Longitude  \\\n",
              "TrackOrigin                                                                    \n",
              "OriginalDriver   1383425.0       20681420.0   8.780098  53.214530  45.930267   \n",
              "Passanger        3310451.0       20800891.0  31.359722  51.774608  55.232452   \n",
              "Taxi             3233483.0       20713602.0  18.775861  55.717843  37.575511   \n",
              "\n",
              "                  Height  Acceleration  Deceleration  TickTimestamp  \\\n",
              "TrackOrigin                                                           \n",
              "OriginalDriver  107091.0           0.0           0.0   1.571309e+09   \n",
              "Passanger       110196.0           0.0           0.0   1.571386e+09   \n",
              "Taxi            155900.0           0.0           0.0   1.571312e+09   \n",
              "\n",
              "                AccelerationXOriginal  AccelerationYOriginal  \\\n",
              "TrackOrigin                                                    \n",
              "OriginalDriver               0.000000              -0.104874   \n",
              "Passanger                   -0.002433               0.000000   \n",
              "Taxi                         0.000000               0.000000   \n",
              "\n",
              "                AccelerationZOriginal  \n",
              "TrackOrigin                            \n",
              "OriginalDriver              -0.294083  \n",
              "Passanger                   -0.189388  \n",
              "Taxi                         0.052414  "
            ],
            "text/html": [
              "\n",
              "  <div id=\"df-61b51627-83dd-46a8-850b-1908a56b7b6d\">\n",
              "    <div class=\"colab-df-container\">\n",
              "      <div>\n",
              "<style scoped>\n",
              "    .dataframe tbody tr th:only-of-type {\n",
              "        vertical-align: middle;\n",
              "    }\n",
              "\n",
              "    .dataframe tbody tr th {\n",
              "        vertical-align: top;\n",
              "    }\n",
              "\n",
              "    .dataframe thead th {\n",
              "        text-align: right;\n",
              "    }\n",
              "</style>\n",
              "<table border=\"1\" class=\"dataframe\">\n",
              "  <thead>\n",
              "    <tr style=\"text-align: right;\">\n",
              "      <th></th>\n",
              "      <th>Unnamed: 0</th>\n",
              "      <th>IncomingTrackId</th>\n",
              "      <th>Speed</th>\n",
              "      <th>Latitude</th>\n",
              "      <th>Longitude</th>\n",
              "      <th>Height</th>\n",
              "      <th>Acceleration</th>\n",
              "      <th>Deceleration</th>\n",
              "      <th>TickTimestamp</th>\n",
              "      <th>AccelerationXOriginal</th>\n",
              "      <th>AccelerationYOriginal</th>\n",
              "      <th>AccelerationZOriginal</th>\n",
              "    </tr>\n",
              "    <tr>\n",
              "      <th>TrackOrigin</th>\n",
              "      <th></th>\n",
              "      <th></th>\n",
              "      <th></th>\n",
              "      <th></th>\n",
              "      <th></th>\n",
              "      <th></th>\n",
              "      <th></th>\n",
              "      <th></th>\n",
              "      <th></th>\n",
              "      <th></th>\n",
              "      <th></th>\n",
              "      <th></th>\n",
              "    </tr>\n",
              "  </thead>\n",
              "  <tbody>\n",
              "    <tr>\n",
              "      <th>OriginalDriver</th>\n",
              "      <td>1383425.0</td>\n",
              "      <td>20681420.0</td>\n",
              "      <td>8.780098</td>\n",
              "      <td>53.214530</td>\n",
              "      <td>45.930267</td>\n",
              "      <td>107091.0</td>\n",
              "      <td>0.0</td>\n",
              "      <td>0.0</td>\n",
              "      <td>1.571309e+09</td>\n",
              "      <td>0.000000</td>\n",
              "      <td>-0.104874</td>\n",
              "      <td>-0.294083</td>\n",
              "    </tr>\n",
              "    <tr>\n",
              "      <th>Passanger</th>\n",
              "      <td>3310451.0</td>\n",
              "      <td>20800891.0</td>\n",
              "      <td>31.359722</td>\n",
              "      <td>51.774608</td>\n",
              "      <td>55.232452</td>\n",
              "      <td>110196.0</td>\n",
              "      <td>0.0</td>\n",
              "      <td>0.0</td>\n",
              "      <td>1.571386e+09</td>\n",
              "      <td>-0.002433</td>\n",
              "      <td>0.000000</td>\n",
              "      <td>-0.189388</td>\n",
              "    </tr>\n",
              "    <tr>\n",
              "      <th>Taxi</th>\n",
              "      <td>3233483.0</td>\n",
              "      <td>20713602.0</td>\n",
              "      <td>18.775861</td>\n",
              "      <td>55.717843</td>\n",
              "      <td>37.575511</td>\n",
              "      <td>155900.0</td>\n",
              "      <td>0.0</td>\n",
              "      <td>0.0</td>\n",
              "      <td>1.571312e+09</td>\n",
              "      <td>0.000000</td>\n",
              "      <td>0.000000</td>\n",
              "      <td>0.052414</td>\n",
              "    </tr>\n",
              "  </tbody>\n",
              "</table>\n",
              "</div>\n",
              "      <button class=\"colab-df-convert\" onclick=\"convertToInteractive('df-61b51627-83dd-46a8-850b-1908a56b7b6d')\"\n",
              "              title=\"Convert this dataframe to an interactive table.\"\n",
              "              style=\"display:none;\">\n",
              "        \n",
              "  <svg xmlns=\"http://www.w3.org/2000/svg\" height=\"24px\"viewBox=\"0 0 24 24\"\n",
              "       width=\"24px\">\n",
              "    <path d=\"M0 0h24v24H0V0z\" fill=\"none\"/>\n",
              "    <path d=\"M18.56 5.44l.94 2.06.94-2.06 2.06-.94-2.06-.94-.94-2.06-.94 2.06-2.06.94zm-11 1L8.5 8.5l.94-2.06 2.06-.94-2.06-.94L8.5 2.5l-.94 2.06-2.06.94zm10 10l.94 2.06.94-2.06 2.06-.94-2.06-.94-.94-2.06-.94 2.06-2.06.94z\"/><path d=\"M17.41 7.96l-1.37-1.37c-.4-.4-.92-.59-1.43-.59-.52 0-1.04.2-1.43.59L10.3 9.45l-7.72 7.72c-.78.78-.78 2.05 0 2.83L4 21.41c.39.39.9.59 1.41.59.51 0 1.02-.2 1.41-.59l7.78-7.78 2.81-2.81c.8-.78.8-2.07 0-2.86zM5.41 20L4 18.59l7.72-7.72 1.47 1.35L5.41 20z\"/>\n",
              "  </svg>\n",
              "      </button>\n",
              "      \n",
              "  <style>\n",
              "    .colab-df-container {\n",
              "      display:flex;\n",
              "      flex-wrap:wrap;\n",
              "      gap: 12px;\n",
              "    }\n",
              "\n",
              "    .colab-df-convert {\n",
              "      background-color: #E8F0FE;\n",
              "      border: none;\n",
              "      border-radius: 50%;\n",
              "      cursor: pointer;\n",
              "      display: none;\n",
              "      fill: #1967D2;\n",
              "      height: 32px;\n",
              "      padding: 0 0 0 0;\n",
              "      width: 32px;\n",
              "    }\n",
              "\n",
              "    .colab-df-convert:hover {\n",
              "      background-color: #E2EBFA;\n",
              "      box-shadow: 0px 1px 2px rgba(60, 64, 67, 0.3), 0px 1px 3px 1px rgba(60, 64, 67, 0.15);\n",
              "      fill: #174EA6;\n",
              "    }\n",
              "\n",
              "    [theme=dark] .colab-df-convert {\n",
              "      background-color: #3B4455;\n",
              "      fill: #D2E3FC;\n",
              "    }\n",
              "\n",
              "    [theme=dark] .colab-df-convert:hover {\n",
              "      background-color: #434B5C;\n",
              "      box-shadow: 0px 1px 3px 1px rgba(0, 0, 0, 0.15);\n",
              "      filter: drop-shadow(0px 1px 2px rgba(0, 0, 0, 0.3));\n",
              "      fill: #FFFFFF;\n",
              "    }\n",
              "  </style>\n",
              "\n",
              "      <script>\n",
              "        const buttonEl =\n",
              "          document.querySelector('#df-61b51627-83dd-46a8-850b-1908a56b7b6d button.colab-df-convert');\n",
              "        buttonEl.style.display =\n",
              "          google.colab.kernel.accessAllowed ? 'block' : 'none';\n",
              "\n",
              "        async function convertToInteractive(key) {\n",
              "          const element = document.querySelector('#df-61b51627-83dd-46a8-850b-1908a56b7b6d');\n",
              "          const dataTable =\n",
              "            await google.colab.kernel.invokeFunction('convertToInteractive',\n",
              "                                                     [key], {});\n",
              "          if (!dataTable) return;\n",
              "\n",
              "          const docLinkHtml = 'Like what you see? Visit the ' +\n",
              "            '<a target=\"_blank\" href=https://colab.research.google.com/notebooks/data_table.ipynb>data table notebook</a>'\n",
              "            + ' to learn more about interactive tables.';\n",
              "          element.innerHTML = '';\n",
              "          dataTable['output_type'] = 'display_data';\n",
              "          await google.colab.output.renderOutput(dataTable, element);\n",
              "          const docLink = document.createElement('div');\n",
              "          docLink.innerHTML = docLinkHtml;\n",
              "          element.appendChild(docLink);\n",
              "        }\n",
              "      </script>\n",
              "    </div>\n",
              "  </div>\n",
              "  "
            ]
          },
          "metadata": {},
          "execution_count": 3
        }
      ]
    },
    {
      "cell_type": "markdown",
      "source": [
        "We see what median passanger user speed more when drivers speed (I think because professional drivers have strict speed limit)"
      ],
      "metadata": {
        "id": "rTK7AdbgBRXQ"
      }
    },
    {
      "cell_type": "code",
      "source": [
        "# See mean values for drivers and passangers\n",
        "TC.groupby('TrackOrigin').mean()"
      ],
      "metadata": {
        "colab": {
          "base_uri": "https://localhost:8080/",
          "height": 238
        },
        "id": "-Wd872kb8t1K",
        "outputId": "7b948255-c906-42d0-e0af-79a29b561d49"
      },
      "execution_count": null,
      "outputs": [
        {
          "output_type": "execute_result",
          "data": {
            "text/plain": [
              "                  Unnamed: 0  IncomingTrackId      Speed   Latitude  \\\n",
              "TrackOrigin                                                           \n",
              "OriginalDriver  1.383425e+06     2.070059e+07  24.503922  34.726617   \n",
              "Passanger       3.303812e+06     2.069142e+07  37.948386  21.225763   \n",
              "Taxi            3.231599e+06     2.065376e+07  33.141940  51.783496   \n",
              "\n",
              "                Longitude         Height  Acceleration  Deceleration  \\\n",
              "TrackOrigin                                                            \n",
              "OriginalDriver  67.394502  127853.709936      0.045015      0.078361   \n",
              "Passanger       84.263927  115249.570732      0.069823      0.182956   \n",
              "Taxi            34.897831  155451.098302      0.264315      0.392949   \n",
              "\n",
              "                TickTimestamp  AccelerationXOriginal  AccelerationYOriginal  \\\n",
              "TrackOrigin                                                                   \n",
              "OriginalDriver   1.571310e+09               -0.01030              -0.146879   \n",
              "Passanger        1.571297e+09                0.01037               0.028603   \n",
              "Taxi             1.571291e+09                0.03827              -0.044998   \n",
              "\n",
              "                AccelerationZOriginal  MidOverSpeed  HiOverSpeed  \n",
              "TrackOrigin                                                       \n",
              "OriginalDriver              -0.248071      4.768319     0.460334  \n",
              "Passanger                   -0.154312     10.552048     1.185344  \n",
              "Taxi                         0.102176      8.952944     1.044906  "
            ],
            "text/html": [
              "\n",
              "  <div id=\"df-78ef0ca5-bf33-4d09-9f83-430c604d63c4\">\n",
              "    <div class=\"colab-df-container\">\n",
              "      <div>\n",
              "<style scoped>\n",
              "    .dataframe tbody tr th:only-of-type {\n",
              "        vertical-align: middle;\n",
              "    }\n",
              "\n",
              "    .dataframe tbody tr th {\n",
              "        vertical-align: top;\n",
              "    }\n",
              "\n",
              "    .dataframe thead th {\n",
              "        text-align: right;\n",
              "    }\n",
              "</style>\n",
              "<table border=\"1\" class=\"dataframe\">\n",
              "  <thead>\n",
              "    <tr style=\"text-align: right;\">\n",
              "      <th></th>\n",
              "      <th>Unnamed: 0</th>\n",
              "      <th>IncomingTrackId</th>\n",
              "      <th>Speed</th>\n",
              "      <th>Latitude</th>\n",
              "      <th>Longitude</th>\n",
              "      <th>Height</th>\n",
              "      <th>Acceleration</th>\n",
              "      <th>Deceleration</th>\n",
              "      <th>TickTimestamp</th>\n",
              "      <th>AccelerationXOriginal</th>\n",
              "      <th>AccelerationYOriginal</th>\n",
              "      <th>AccelerationZOriginal</th>\n",
              "      <th>MidOverSpeed</th>\n",
              "      <th>HiOverSpeed</th>\n",
              "    </tr>\n",
              "    <tr>\n",
              "      <th>TrackOrigin</th>\n",
              "      <th></th>\n",
              "      <th></th>\n",
              "      <th></th>\n",
              "      <th></th>\n",
              "      <th></th>\n",
              "      <th></th>\n",
              "      <th></th>\n",
              "      <th></th>\n",
              "      <th></th>\n",
              "      <th></th>\n",
              "      <th></th>\n",
              "      <th></th>\n",
              "      <th></th>\n",
              "      <th></th>\n",
              "    </tr>\n",
              "  </thead>\n",
              "  <tbody>\n",
              "    <tr>\n",
              "      <th>OriginalDriver</th>\n",
              "      <td>1.383425e+06</td>\n",
              "      <td>2.070059e+07</td>\n",
              "      <td>24.503922</td>\n",
              "      <td>34.726617</td>\n",
              "      <td>67.394502</td>\n",
              "      <td>127853.709936</td>\n",
              "      <td>0.045015</td>\n",
              "      <td>0.078361</td>\n",
              "      <td>1.571310e+09</td>\n",
              "      <td>-0.01030</td>\n",
              "      <td>-0.146879</td>\n",
              "      <td>-0.248071</td>\n",
              "      <td>4.768319</td>\n",
              "      <td>0.460334</td>\n",
              "    </tr>\n",
              "    <tr>\n",
              "      <th>Passanger</th>\n",
              "      <td>3.303812e+06</td>\n",
              "      <td>2.069142e+07</td>\n",
              "      <td>37.948386</td>\n",
              "      <td>21.225763</td>\n",
              "      <td>84.263927</td>\n",
              "      <td>115249.570732</td>\n",
              "      <td>0.069823</td>\n",
              "      <td>0.182956</td>\n",
              "      <td>1.571297e+09</td>\n",
              "      <td>0.01037</td>\n",
              "      <td>0.028603</td>\n",
              "      <td>-0.154312</td>\n",
              "      <td>10.552048</td>\n",
              "      <td>1.185344</td>\n",
              "    </tr>\n",
              "    <tr>\n",
              "      <th>Taxi</th>\n",
              "      <td>3.231599e+06</td>\n",
              "      <td>2.065376e+07</td>\n",
              "      <td>33.141940</td>\n",
              "      <td>51.783496</td>\n",
              "      <td>34.897831</td>\n",
              "      <td>155451.098302</td>\n",
              "      <td>0.264315</td>\n",
              "      <td>0.392949</td>\n",
              "      <td>1.571291e+09</td>\n",
              "      <td>0.03827</td>\n",
              "      <td>-0.044998</td>\n",
              "      <td>0.102176</td>\n",
              "      <td>8.952944</td>\n",
              "      <td>1.044906</td>\n",
              "    </tr>\n",
              "  </tbody>\n",
              "</table>\n",
              "</div>\n",
              "      <button class=\"colab-df-convert\" onclick=\"convertToInteractive('df-78ef0ca5-bf33-4d09-9f83-430c604d63c4')\"\n",
              "              title=\"Convert this dataframe to an interactive table.\"\n",
              "              style=\"display:none;\">\n",
              "        \n",
              "  <svg xmlns=\"http://www.w3.org/2000/svg\" height=\"24px\"viewBox=\"0 0 24 24\"\n",
              "       width=\"24px\">\n",
              "    <path d=\"M0 0h24v24H0V0z\" fill=\"none\"/>\n",
              "    <path d=\"M18.56 5.44l.94 2.06.94-2.06 2.06-.94-2.06-.94-.94-2.06-.94 2.06-2.06.94zm-11 1L8.5 8.5l.94-2.06 2.06-.94-2.06-.94L8.5 2.5l-.94 2.06-2.06.94zm10 10l.94 2.06.94-2.06 2.06-.94-2.06-.94-.94-2.06-.94 2.06-2.06.94z\"/><path d=\"M17.41 7.96l-1.37-1.37c-.4-.4-.92-.59-1.43-.59-.52 0-1.04.2-1.43.59L10.3 9.45l-7.72 7.72c-.78.78-.78 2.05 0 2.83L4 21.41c.39.39.9.59 1.41.59.51 0 1.02-.2 1.41-.59l7.78-7.78 2.81-2.81c.8-.78.8-2.07 0-2.86zM5.41 20L4 18.59l7.72-7.72 1.47 1.35L5.41 20z\"/>\n",
              "  </svg>\n",
              "      </button>\n",
              "      \n",
              "  <style>\n",
              "    .colab-df-container {\n",
              "      display:flex;\n",
              "      flex-wrap:wrap;\n",
              "      gap: 12px;\n",
              "    }\n",
              "\n",
              "    .colab-df-convert {\n",
              "      background-color: #E8F0FE;\n",
              "      border: none;\n",
              "      border-radius: 50%;\n",
              "      cursor: pointer;\n",
              "      display: none;\n",
              "      fill: #1967D2;\n",
              "      height: 32px;\n",
              "      padding: 0 0 0 0;\n",
              "      width: 32px;\n",
              "    }\n",
              "\n",
              "    .colab-df-convert:hover {\n",
              "      background-color: #E2EBFA;\n",
              "      box-shadow: 0px 1px 2px rgba(60, 64, 67, 0.3), 0px 1px 3px 1px rgba(60, 64, 67, 0.15);\n",
              "      fill: #174EA6;\n",
              "    }\n",
              "\n",
              "    [theme=dark] .colab-df-convert {\n",
              "      background-color: #3B4455;\n",
              "      fill: #D2E3FC;\n",
              "    }\n",
              "\n",
              "    [theme=dark] .colab-df-convert:hover {\n",
              "      background-color: #434B5C;\n",
              "      box-shadow: 0px 1px 3px 1px rgba(0, 0, 0, 0.15);\n",
              "      filter: drop-shadow(0px 1px 2px rgba(0, 0, 0, 0.3));\n",
              "      fill: #FFFFFF;\n",
              "    }\n",
              "  </style>\n",
              "\n",
              "      <script>\n",
              "        const buttonEl =\n",
              "          document.querySelector('#df-78ef0ca5-bf33-4d09-9f83-430c604d63c4 button.colab-df-convert');\n",
              "        buttonEl.style.display =\n",
              "          google.colab.kernel.accessAllowed ? 'block' : 'none';\n",
              "\n",
              "        async function convertToInteractive(key) {\n",
              "          const element = document.querySelector('#df-78ef0ca5-bf33-4d09-9f83-430c604d63c4');\n",
              "          const dataTable =\n",
              "            await google.colab.kernel.invokeFunction('convertToInteractive',\n",
              "                                                     [key], {});\n",
              "          if (!dataTable) return;\n",
              "\n",
              "          const docLinkHtml = 'Like what you see? Visit the ' +\n",
              "            '<a target=\"_blank\" href=https://colab.research.google.com/notebooks/data_table.ipynb>data table notebook</a>'\n",
              "            + ' to learn more about interactive tables.';\n",
              "          element.innerHTML = '';\n",
              "          dataTable['output_type'] = 'display_data';\n",
              "          await google.colab.output.renderOutput(dataTable, element);\n",
              "          const docLink = document.createElement('div');\n",
              "          docLink.innerHTML = docLinkHtml;\n",
              "          element.appendChild(docLink);\n",
              "        }\n",
              "      </script>\n",
              "    </div>\n",
              "  </div>\n",
              "  "
            ]
          },
          "metadata": {},
          "execution_count": 5
        }
      ]
    },
    {
      "cell_type": "markdown",
      "source": [
        "We see what mean passanger user speed more when drivers speed. Taxi mean acceleration and deceleration more then OriginalDriver and Taxi."
      ],
      "metadata": {
        "id": "sF5fACHH99S8"
      }
    },
    {
      "cell_type": "code",
      "source": [
        "# Open rich_tracks_2\n",
        "RT = pd.read_csv(\"/content/drive/MyDrive/test/rich_tracks_2.csv\")"
      ],
      "metadata": {
        "id": "JjUGZ8TgFWPk"
      },
      "execution_count": 6,
      "outputs": []
    },
    {
      "cell_type": "code",
      "source": [
        "# See standart deviation values for drivers and passangers\n",
        "RT.groupby('TrackOrigin').std()"
      ],
      "metadata": {
        "id": "QMB8KxQvFbt3",
        "outputId": "84eafc9a-1970-4380-c62a-c83bc59de7b9",
        "colab": {
          "base_uri": "https://localhost:8080/",
          "height": 206
        }
      },
      "execution_count": 13,
      "outputs": [
        {
          "output_type": "execute_result",
          "data": {
            "text/plain": [
              "                           Id  IncomingTrackId    Distance   Duration  \\\n",
              "TrackOrigin                                                             \n",
              "OriginalDriver    4801.492524     7.024230e+04  400.357699  28.220975   \n",
              "Passanger       259711.240231     1.585408e+06  375.529387  38.344564   \n",
              "Taxi            270605.859722     1.623501e+06  224.925853  29.744323   \n",
              "\n",
              "                AccelerationCount  DecelerationCount    Rating  PhoneUsage  \\\n",
              "TrackOrigin                                                                  \n",
              "OriginalDriver           2.439093           3.154929  1.139604    2.468450   \n",
              "Passanger                2.741259           3.029253  1.110365    7.581252   \n",
              "Taxi                     1.398211           2.161288  1.166092    2.183238   \n",
              "\n",
              "                OriginChanged  DistanceGPS  ...  CorneringDuration  \\\n",
              "TrackOrigin                                 ...                      \n",
              "OriginalDriver            0.0    20.389829  ...           1.515978   \n",
              "Passanger                 0.0    38.122624  ...           9.396443   \n",
              "Taxi                      0.0    33.480420  ...           1.296748   \n",
              "\n",
              "                AccelerationICount  DecelerationICount  AccelerationIDuration  \\\n",
              "TrackOrigin                                                                     \n",
              "OriginalDriver          115.376788          220.519050             184.963118   \n",
              "Passanger               205.534600          339.757433             561.066446   \n",
              "Taxi                    261.604315          195.238016             540.821350   \n",
              "\n",
              "                DecelerationIDuration  RatingCornering  VehicleId  BeaconId  \\\n",
              "TrackOrigin                                                                   \n",
              "OriginalDriver             297.982948         0.701323        NaN       NaN   \n",
              "Passanger                  435.932303         1.097489        NaN       NaN   \n",
              "Taxi                       295.079220              NaN        NaN       NaN   \n",
              "\n",
              "                DeviationRatio  DeviationMeters  \n",
              "TrackOrigin                                      \n",
              "OriginalDriver        0.000675        21.208906  \n",
              "Passanger             0.000609        27.464519  \n",
              "Taxi                  0.000000        26.437740  \n",
              "\n",
              "[3 rows x 51 columns]"
            ],
            "text/html": [
              "\n",
              "  <div id=\"df-1387f741-81b9-44a6-94d4-3b6c21cd4c80\">\n",
              "    <div class=\"colab-df-container\">\n",
              "      <div>\n",
              "<style scoped>\n",
              "    .dataframe tbody tr th:only-of-type {\n",
              "        vertical-align: middle;\n",
              "    }\n",
              "\n",
              "    .dataframe tbody tr th {\n",
              "        vertical-align: top;\n",
              "    }\n",
              "\n",
              "    .dataframe thead th {\n",
              "        text-align: right;\n",
              "    }\n",
              "</style>\n",
              "<table border=\"1\" class=\"dataframe\">\n",
              "  <thead>\n",
              "    <tr style=\"text-align: right;\">\n",
              "      <th></th>\n",
              "      <th>Id</th>\n",
              "      <th>IncomingTrackId</th>\n",
              "      <th>Distance</th>\n",
              "      <th>Duration</th>\n",
              "      <th>AccelerationCount</th>\n",
              "      <th>DecelerationCount</th>\n",
              "      <th>Rating</th>\n",
              "      <th>PhoneUsage</th>\n",
              "      <th>OriginChanged</th>\n",
              "      <th>DistanceGPS</th>\n",
              "      <th>...</th>\n",
              "      <th>CorneringDuration</th>\n",
              "      <th>AccelerationICount</th>\n",
              "      <th>DecelerationICount</th>\n",
              "      <th>AccelerationIDuration</th>\n",
              "      <th>DecelerationIDuration</th>\n",
              "      <th>RatingCornering</th>\n",
              "      <th>VehicleId</th>\n",
              "      <th>BeaconId</th>\n",
              "      <th>DeviationRatio</th>\n",
              "      <th>DeviationMeters</th>\n",
              "    </tr>\n",
              "    <tr>\n",
              "      <th>TrackOrigin</th>\n",
              "      <th></th>\n",
              "      <th></th>\n",
              "      <th></th>\n",
              "      <th></th>\n",
              "      <th></th>\n",
              "      <th></th>\n",
              "      <th></th>\n",
              "      <th></th>\n",
              "      <th></th>\n",
              "      <th></th>\n",
              "      <th></th>\n",
              "      <th></th>\n",
              "      <th></th>\n",
              "      <th></th>\n",
              "      <th></th>\n",
              "      <th></th>\n",
              "      <th></th>\n",
              "      <th></th>\n",
              "      <th></th>\n",
              "      <th></th>\n",
              "      <th></th>\n",
              "    </tr>\n",
              "  </thead>\n",
              "  <tbody>\n",
              "    <tr>\n",
              "      <th>OriginalDriver</th>\n",
              "      <td>4801.492524</td>\n",
              "      <td>7.024230e+04</td>\n",
              "      <td>400.357699</td>\n",
              "      <td>28.220975</td>\n",
              "      <td>2.439093</td>\n",
              "      <td>3.154929</td>\n",
              "      <td>1.139604</td>\n",
              "      <td>2.468450</td>\n",
              "      <td>0.0</td>\n",
              "      <td>20.389829</td>\n",
              "      <td>...</td>\n",
              "      <td>1.515978</td>\n",
              "      <td>115.376788</td>\n",
              "      <td>220.519050</td>\n",
              "      <td>184.963118</td>\n",
              "      <td>297.982948</td>\n",
              "      <td>0.701323</td>\n",
              "      <td>NaN</td>\n",
              "      <td>NaN</td>\n",
              "      <td>0.000675</td>\n",
              "      <td>21.208906</td>\n",
              "    </tr>\n",
              "    <tr>\n",
              "      <th>Passanger</th>\n",
              "      <td>259711.240231</td>\n",
              "      <td>1.585408e+06</td>\n",
              "      <td>375.529387</td>\n",
              "      <td>38.344564</td>\n",
              "      <td>2.741259</td>\n",
              "      <td>3.029253</td>\n",
              "      <td>1.110365</td>\n",
              "      <td>7.581252</td>\n",
              "      <td>0.0</td>\n",
              "      <td>38.122624</td>\n",
              "      <td>...</td>\n",
              "      <td>9.396443</td>\n",
              "      <td>205.534600</td>\n",
              "      <td>339.757433</td>\n",
              "      <td>561.066446</td>\n",
              "      <td>435.932303</td>\n",
              "      <td>1.097489</td>\n",
              "      <td>NaN</td>\n",
              "      <td>NaN</td>\n",
              "      <td>0.000609</td>\n",
              "      <td>27.464519</td>\n",
              "    </tr>\n",
              "    <tr>\n",
              "      <th>Taxi</th>\n",
              "      <td>270605.859722</td>\n",
              "      <td>1.623501e+06</td>\n",
              "      <td>224.925853</td>\n",
              "      <td>29.744323</td>\n",
              "      <td>1.398211</td>\n",
              "      <td>2.161288</td>\n",
              "      <td>1.166092</td>\n",
              "      <td>2.183238</td>\n",
              "      <td>0.0</td>\n",
              "      <td>33.480420</td>\n",
              "      <td>...</td>\n",
              "      <td>1.296748</td>\n",
              "      <td>261.604315</td>\n",
              "      <td>195.238016</td>\n",
              "      <td>540.821350</td>\n",
              "      <td>295.079220</td>\n",
              "      <td>NaN</td>\n",
              "      <td>NaN</td>\n",
              "      <td>NaN</td>\n",
              "      <td>0.000000</td>\n",
              "      <td>26.437740</td>\n",
              "    </tr>\n",
              "  </tbody>\n",
              "</table>\n",
              "<p>3 rows × 51 columns</p>\n",
              "</div>\n",
              "      <button class=\"colab-df-convert\" onclick=\"convertToInteractive('df-1387f741-81b9-44a6-94d4-3b6c21cd4c80')\"\n",
              "              title=\"Convert this dataframe to an interactive table.\"\n",
              "              style=\"display:none;\">\n",
              "        \n",
              "  <svg xmlns=\"http://www.w3.org/2000/svg\" height=\"24px\"viewBox=\"0 0 24 24\"\n",
              "       width=\"24px\">\n",
              "    <path d=\"M0 0h24v24H0V0z\" fill=\"none\"/>\n",
              "    <path d=\"M18.56 5.44l.94 2.06.94-2.06 2.06-.94-2.06-.94-.94-2.06-.94 2.06-2.06.94zm-11 1L8.5 8.5l.94-2.06 2.06-.94-2.06-.94L8.5 2.5l-.94 2.06-2.06.94zm10 10l.94 2.06.94-2.06 2.06-.94-2.06-.94-.94-2.06-.94 2.06-2.06.94z\"/><path d=\"M17.41 7.96l-1.37-1.37c-.4-.4-.92-.59-1.43-.59-.52 0-1.04.2-1.43.59L10.3 9.45l-7.72 7.72c-.78.78-.78 2.05 0 2.83L4 21.41c.39.39.9.59 1.41.59.51 0 1.02-.2 1.41-.59l7.78-7.78 2.81-2.81c.8-.78.8-2.07 0-2.86zM5.41 20L4 18.59l7.72-7.72 1.47 1.35L5.41 20z\"/>\n",
              "  </svg>\n",
              "      </button>\n",
              "      \n",
              "  <style>\n",
              "    .colab-df-container {\n",
              "      display:flex;\n",
              "      flex-wrap:wrap;\n",
              "      gap: 12px;\n",
              "    }\n",
              "\n",
              "    .colab-df-convert {\n",
              "      background-color: #E8F0FE;\n",
              "      border: none;\n",
              "      border-radius: 50%;\n",
              "      cursor: pointer;\n",
              "      display: none;\n",
              "      fill: #1967D2;\n",
              "      height: 32px;\n",
              "      padding: 0 0 0 0;\n",
              "      width: 32px;\n",
              "    }\n",
              "\n",
              "    .colab-df-convert:hover {\n",
              "      background-color: #E2EBFA;\n",
              "      box-shadow: 0px 1px 2px rgba(60, 64, 67, 0.3), 0px 1px 3px 1px rgba(60, 64, 67, 0.15);\n",
              "      fill: #174EA6;\n",
              "    }\n",
              "\n",
              "    [theme=dark] .colab-df-convert {\n",
              "      background-color: #3B4455;\n",
              "      fill: #D2E3FC;\n",
              "    }\n",
              "\n",
              "    [theme=dark] .colab-df-convert:hover {\n",
              "      background-color: #434B5C;\n",
              "      box-shadow: 0px 1px 3px 1px rgba(0, 0, 0, 0.15);\n",
              "      filter: drop-shadow(0px 1px 2px rgba(0, 0, 0, 0.3));\n",
              "      fill: #FFFFFF;\n",
              "    }\n",
              "  </style>\n",
              "\n",
              "      <script>\n",
              "        const buttonEl =\n",
              "          document.querySelector('#df-1387f741-81b9-44a6-94d4-3b6c21cd4c80 button.colab-df-convert');\n",
              "        buttonEl.style.display =\n",
              "          google.colab.kernel.accessAllowed ? 'block' : 'none';\n",
              "\n",
              "        async function convertToInteractive(key) {\n",
              "          const element = document.querySelector('#df-1387f741-81b9-44a6-94d4-3b6c21cd4c80');\n",
              "          const dataTable =\n",
              "            await google.colab.kernel.invokeFunction('convertToInteractive',\n",
              "                                                     [key], {});\n",
              "          if (!dataTable) return;\n",
              "\n",
              "          const docLinkHtml = 'Like what you see? Visit the ' +\n",
              "            '<a target=\"_blank\" href=https://colab.research.google.com/notebooks/data_table.ipynb>data table notebook</a>'\n",
              "            + ' to learn more about interactive tables.';\n",
              "          element.innerHTML = '';\n",
              "          dataTable['output_type'] = 'display_data';\n",
              "          await google.colab.output.renderOutput(dataTable, element);\n",
              "          const docLink = document.createElement('div');\n",
              "          docLink.innerHTML = docLinkHtml;\n",
              "          element.appendChild(docLink);\n",
              "        }\n",
              "      </script>\n",
              "    </div>\n",
              "  </div>\n",
              "  "
            ]
          },
          "metadata": {},
          "execution_count": 13
        },
        {
          "output_type": "stream",
          "name": "stdout",
          "text": [
            "Warning: Total number of columns (51) exceeds max_columns (20) limiting to first (20) columns.\n"
          ]
        }
      ]
    },
    {
      "cell_type": "markdown",
      "source": [
        "We see what standart deviation of Duration and PhoneUsage in passanger track data more whan in drivers track data, so we can add duration to inc_point dataframe."
      ],
      "metadata": {
        "id": "jGC6g3ScF-Aa"
      }
    },
    {
      "cell_type": "code",
      "source": [
        "# Create DF with rich_tracks_2 data\n",
        "ID_t = pd.DataFrame({'IncomingTrackId':RT['IncomingTrackId'],'TrackOrigin':RT['TrackOrigin'],'PhoneUsage':RT['PhoneUsage'],'Duration':RT['Duration']})"
      ],
      "metadata": {
        "id": "inVVy3D9Vq6D"
      },
      "execution_count": 14,
      "outputs": []
    },
    {
      "cell_type": "code",
      "source": [
        "# Create DB with track mean data\n",
        "TrackDB = TC.groupby('IncomingTrackId').mean()\n",
        "TrackDB = TrackDB.drop(['Latitude','Longitude','Height','TickTimestamp'], axis=1)\n",
        "TrackDB = TrackDB.rename(columns = {'Speed' : 'Mean_Speed', 'Acceleration' : 'Mean_Acceleration',\n",
        "                                    'Deceleration' : 'Mean_Deceleration',\n",
        "                                    'AccelerationXOriginal' : 'Mean_AccelerationX', \n",
        "                                    'AccelerationYOriginal' : 'Mean_AccelerationY',\n",
        "                                    'AccelerationZOriginal' : 'Mean_AccelerationZ'})"
      ],
      "metadata": {
        "id": "8NAO79W6758v"
      },
      "execution_count": 15,
      "outputs": []
    },
    {
      "cell_type": "code",
      "source": [
        "TrackDB.head()"
      ],
      "metadata": {
        "id": "w0X0Z3xYa_DY",
        "outputId": "5a14bffe-1dd7-4fde-8de8-acdce8bacd66",
        "colab": {
          "base_uri": "https://localhost:8080/",
          "height": 237
        }
      },
      "execution_count": 16,
      "outputs": [
        {
          "output_type": "execute_result",
          "data": {
            "text/plain": [
              "                 Mean_Speed  Mean_Acceleration  Mean_Deceleration  \\\n",
              "IncomingTrackId                                                     \n",
              "19888387           9.988912           0.000000           0.000000   \n",
              "19889292          37.824928           0.000000           0.000000   \n",
              "19890131          17.821795           0.000000           0.000000   \n",
              "19891937          23.292324           0.046806           0.459169   \n",
              "19892757          10.610393           0.023560           0.231124   \n",
              "\n",
              "                 Mean_AccelerationX  Mean_AccelerationY  Mean_AccelerationZ  \n",
              "IncomingTrackId                                                              \n",
              "19888387                  -0.391479           -0.142500           -0.217251  \n",
              "19889292                   0.046761           -0.856863           -0.262711  \n",
              "19890131                   0.365235           -0.020190            0.101735  \n",
              "19891937                  -0.017538            0.174889            0.843765  \n",
              "19892757                   0.068676           -0.241727            0.548682  "
            ],
            "text/html": [
              "\n",
              "  <div id=\"df-cd843f83-b5e7-497f-8ffc-3a24c442cab9\">\n",
              "    <div class=\"colab-df-container\">\n",
              "      <div>\n",
              "<style scoped>\n",
              "    .dataframe tbody tr th:only-of-type {\n",
              "        vertical-align: middle;\n",
              "    }\n",
              "\n",
              "    .dataframe tbody tr th {\n",
              "        vertical-align: top;\n",
              "    }\n",
              "\n",
              "    .dataframe thead th {\n",
              "        text-align: right;\n",
              "    }\n",
              "</style>\n",
              "<table border=\"1\" class=\"dataframe\">\n",
              "  <thead>\n",
              "    <tr style=\"text-align: right;\">\n",
              "      <th></th>\n",
              "      <th>Mean_Speed</th>\n",
              "      <th>Mean_Acceleration</th>\n",
              "      <th>Mean_Deceleration</th>\n",
              "      <th>Mean_AccelerationX</th>\n",
              "      <th>Mean_AccelerationY</th>\n",
              "      <th>Mean_AccelerationZ</th>\n",
              "    </tr>\n",
              "    <tr>\n",
              "      <th>IncomingTrackId</th>\n",
              "      <th></th>\n",
              "      <th></th>\n",
              "      <th></th>\n",
              "      <th></th>\n",
              "      <th></th>\n",
              "      <th></th>\n",
              "    </tr>\n",
              "  </thead>\n",
              "  <tbody>\n",
              "    <tr>\n",
              "      <th>19888387</th>\n",
              "      <td>9.988912</td>\n",
              "      <td>0.000000</td>\n",
              "      <td>0.000000</td>\n",
              "      <td>-0.391479</td>\n",
              "      <td>-0.142500</td>\n",
              "      <td>-0.217251</td>\n",
              "    </tr>\n",
              "    <tr>\n",
              "      <th>19889292</th>\n",
              "      <td>37.824928</td>\n",
              "      <td>0.000000</td>\n",
              "      <td>0.000000</td>\n",
              "      <td>0.046761</td>\n",
              "      <td>-0.856863</td>\n",
              "      <td>-0.262711</td>\n",
              "    </tr>\n",
              "    <tr>\n",
              "      <th>19890131</th>\n",
              "      <td>17.821795</td>\n",
              "      <td>0.000000</td>\n",
              "      <td>0.000000</td>\n",
              "      <td>0.365235</td>\n",
              "      <td>-0.020190</td>\n",
              "      <td>0.101735</td>\n",
              "    </tr>\n",
              "    <tr>\n",
              "      <th>19891937</th>\n",
              "      <td>23.292324</td>\n",
              "      <td>0.046806</td>\n",
              "      <td>0.459169</td>\n",
              "      <td>-0.017538</td>\n",
              "      <td>0.174889</td>\n",
              "      <td>0.843765</td>\n",
              "    </tr>\n",
              "    <tr>\n",
              "      <th>19892757</th>\n",
              "      <td>10.610393</td>\n",
              "      <td>0.023560</td>\n",
              "      <td>0.231124</td>\n",
              "      <td>0.068676</td>\n",
              "      <td>-0.241727</td>\n",
              "      <td>0.548682</td>\n",
              "    </tr>\n",
              "  </tbody>\n",
              "</table>\n",
              "</div>\n",
              "      <button class=\"colab-df-convert\" onclick=\"convertToInteractive('df-cd843f83-b5e7-497f-8ffc-3a24c442cab9')\"\n",
              "              title=\"Convert this dataframe to an interactive table.\"\n",
              "              style=\"display:none;\">\n",
              "        \n",
              "  <svg xmlns=\"http://www.w3.org/2000/svg\" height=\"24px\"viewBox=\"0 0 24 24\"\n",
              "       width=\"24px\">\n",
              "    <path d=\"M0 0h24v24H0V0z\" fill=\"none\"/>\n",
              "    <path d=\"M18.56 5.44l.94 2.06.94-2.06 2.06-.94-2.06-.94-.94-2.06-.94 2.06-2.06.94zm-11 1L8.5 8.5l.94-2.06 2.06-.94-2.06-.94L8.5 2.5l-.94 2.06-2.06.94zm10 10l.94 2.06.94-2.06 2.06-.94-2.06-.94-.94-2.06-.94 2.06-2.06.94z\"/><path d=\"M17.41 7.96l-1.37-1.37c-.4-.4-.92-.59-1.43-.59-.52 0-1.04.2-1.43.59L10.3 9.45l-7.72 7.72c-.78.78-.78 2.05 0 2.83L4 21.41c.39.39.9.59 1.41.59.51 0 1.02-.2 1.41-.59l7.78-7.78 2.81-2.81c.8-.78.8-2.07 0-2.86zM5.41 20L4 18.59l7.72-7.72 1.47 1.35L5.41 20z\"/>\n",
              "  </svg>\n",
              "      </button>\n",
              "      \n",
              "  <style>\n",
              "    .colab-df-container {\n",
              "      display:flex;\n",
              "      flex-wrap:wrap;\n",
              "      gap: 12px;\n",
              "    }\n",
              "\n",
              "    .colab-df-convert {\n",
              "      background-color: #E8F0FE;\n",
              "      border: none;\n",
              "      border-radius: 50%;\n",
              "      cursor: pointer;\n",
              "      display: none;\n",
              "      fill: #1967D2;\n",
              "      height: 32px;\n",
              "      padding: 0 0 0 0;\n",
              "      width: 32px;\n",
              "    }\n",
              "\n",
              "    .colab-df-convert:hover {\n",
              "      background-color: #E2EBFA;\n",
              "      box-shadow: 0px 1px 2px rgba(60, 64, 67, 0.3), 0px 1px 3px 1px rgba(60, 64, 67, 0.15);\n",
              "      fill: #174EA6;\n",
              "    }\n",
              "\n",
              "    [theme=dark] .colab-df-convert {\n",
              "      background-color: #3B4455;\n",
              "      fill: #D2E3FC;\n",
              "    }\n",
              "\n",
              "    [theme=dark] .colab-df-convert:hover {\n",
              "      background-color: #434B5C;\n",
              "      box-shadow: 0px 1px 3px 1px rgba(0, 0, 0, 0.15);\n",
              "      filter: drop-shadow(0px 1px 2px rgba(0, 0, 0, 0.3));\n",
              "      fill: #FFFFFF;\n",
              "    }\n",
              "  </style>\n",
              "\n",
              "      <script>\n",
              "        const buttonEl =\n",
              "          document.querySelector('#df-cd843f83-b5e7-497f-8ffc-3a24c442cab9 button.colab-df-convert');\n",
              "        buttonEl.style.display =\n",
              "          google.colab.kernel.accessAllowed ? 'block' : 'none';\n",
              "\n",
              "        async function convertToInteractive(key) {\n",
              "          const element = document.querySelector('#df-cd843f83-b5e7-497f-8ffc-3a24c442cab9');\n",
              "          const dataTable =\n",
              "            await google.colab.kernel.invokeFunction('convertToInteractive',\n",
              "                                                     [key], {});\n",
              "          if (!dataTable) return;\n",
              "\n",
              "          const docLinkHtml = 'Like what you see? Visit the ' +\n",
              "            '<a target=\"_blank\" href=https://colab.research.google.com/notebooks/data_table.ipynb>data table notebook</a>'\n",
              "            + ' to learn more about interactive tables.';\n",
              "          element.innerHTML = '';\n",
              "          dataTable['output_type'] = 'display_data';\n",
              "          await google.colab.output.renderOutput(dataTable, element);\n",
              "          const docLink = document.createElement('div');\n",
              "          docLink.innerHTML = docLinkHtml;\n",
              "          element.appendChild(docLink);\n",
              "        }\n",
              "      </script>\n",
              "    </div>\n",
              "  </div>\n",
              "  "
            ]
          },
          "metadata": {},
          "execution_count": 16
        }
      ]
    },
    {
      "cell_type": "code",
      "source": [
        "# Merge ID_t with TrackDB\n",
        "TrackDB = pd.merge(TrackDB, ID_t, on='IncomingTrackId')"
      ],
      "metadata": {
        "id": "0gnlPDYUaytr"
      },
      "execution_count": 18,
      "outputs": []
    },
    {
      "cell_type": "code",
      "source": [
        "TrackDB\n"
      ],
      "metadata": {
        "id": "wkCCpFfybaOl",
        "outputId": "0bb950cc-7b29-4c33-e2df-9b20eb066ec2",
        "colab": {
          "base_uri": "https://localhost:8080/",
          "height": 424
        }
      },
      "execution_count": 20,
      "outputs": [
        {
          "output_type": "execute_result",
          "data": {
            "text/plain": [
              "      IncomingTrackId  Mean_Speed  Mean_Acceleration  Mean_Deceleration  \\\n",
              "0            19888387    9.988912           0.000000           0.000000   \n",
              "1            19889292   37.824928           0.000000           0.000000   \n",
              "2            19890131   17.821795           0.000000           0.000000   \n",
              "3            19891937   23.292324           0.046806           0.459169   \n",
              "4            19892757   10.610393           0.023560           0.231124   \n",
              "...               ...         ...                ...                ...   \n",
              "2582         21497153   73.502072           0.000000           0.000000   \n",
              "2583         21499241    7.670491           0.000000           0.000000   \n",
              "2584         21503950   17.323939           0.012181           0.119491   \n",
              "2585         21512169   24.370539           0.048752           0.478255   \n",
              "2586         21514828   10.515108           0.012499           0.122619   \n",
              "\n",
              "      Mean_AccelerationX  Mean_AccelerationY  Mean_AccelerationZ  \\\n",
              "0              -0.391479           -0.142500           -0.217251   \n",
              "1               0.046761           -0.856863           -0.262711   \n",
              "2               0.365235           -0.020190            0.101735   \n",
              "3              -0.017538            0.174889            0.843765   \n",
              "4               0.068676           -0.241727            0.548682   \n",
              "...                  ...                 ...                 ...   \n",
              "2582           -0.038120            0.304370           -0.826014   \n",
              "2583            0.060988           -0.484137            0.452728   \n",
              "2584            0.008285           -0.747005            0.297953   \n",
              "2585            0.267653            0.063431           -0.669810   \n",
              "2586            0.083376            0.465496           -0.813008   \n",
              "\n",
              "         TrackOrigin  PhoneUsage   Duration  \n",
              "0          Passanger    0.000000   1.683333  \n",
              "1          Passanger    0.000000  18.183333  \n",
              "2          Passanger    1.166667  24.050000  \n",
              "3          Passanger    0.333333  81.783333  \n",
              "4          Passanger    0.316667  24.383333  \n",
              "...              ...         ...        ...  \n",
              "2582  OriginalDriver    0.000000  44.950000  \n",
              "2583       Passanger    0.000000   2.250000  \n",
              "2584       Passanger    0.000000   8.066667  \n",
              "2585       Passanger    0.550000  16.166667  \n",
              "2586       Passanger    0.000000  -0.333333  \n",
              "\n",
              "[2587 rows x 10 columns]"
            ],
            "text/html": [
              "\n",
              "  <div id=\"df-3b33f097-ae13-4352-9397-af7d6bf262f5\">\n",
              "    <div class=\"colab-df-container\">\n",
              "      <div>\n",
              "<style scoped>\n",
              "    .dataframe tbody tr th:only-of-type {\n",
              "        vertical-align: middle;\n",
              "    }\n",
              "\n",
              "    .dataframe tbody tr th {\n",
              "        vertical-align: top;\n",
              "    }\n",
              "\n",
              "    .dataframe thead th {\n",
              "        text-align: right;\n",
              "    }\n",
              "</style>\n",
              "<table border=\"1\" class=\"dataframe\">\n",
              "  <thead>\n",
              "    <tr style=\"text-align: right;\">\n",
              "      <th></th>\n",
              "      <th>IncomingTrackId</th>\n",
              "      <th>Mean_Speed</th>\n",
              "      <th>Mean_Acceleration</th>\n",
              "      <th>Mean_Deceleration</th>\n",
              "      <th>Mean_AccelerationX</th>\n",
              "      <th>Mean_AccelerationY</th>\n",
              "      <th>Mean_AccelerationZ</th>\n",
              "      <th>TrackOrigin</th>\n",
              "      <th>PhoneUsage</th>\n",
              "      <th>Duration</th>\n",
              "    </tr>\n",
              "  </thead>\n",
              "  <tbody>\n",
              "    <tr>\n",
              "      <th>0</th>\n",
              "      <td>19888387</td>\n",
              "      <td>9.988912</td>\n",
              "      <td>0.000000</td>\n",
              "      <td>0.000000</td>\n",
              "      <td>-0.391479</td>\n",
              "      <td>-0.142500</td>\n",
              "      <td>-0.217251</td>\n",
              "      <td>Passanger</td>\n",
              "      <td>0.000000</td>\n",
              "      <td>1.683333</td>\n",
              "    </tr>\n",
              "    <tr>\n",
              "      <th>1</th>\n",
              "      <td>19889292</td>\n",
              "      <td>37.824928</td>\n",
              "      <td>0.000000</td>\n",
              "      <td>0.000000</td>\n",
              "      <td>0.046761</td>\n",
              "      <td>-0.856863</td>\n",
              "      <td>-0.262711</td>\n",
              "      <td>Passanger</td>\n",
              "      <td>0.000000</td>\n",
              "      <td>18.183333</td>\n",
              "    </tr>\n",
              "    <tr>\n",
              "      <th>2</th>\n",
              "      <td>19890131</td>\n",
              "      <td>17.821795</td>\n",
              "      <td>0.000000</td>\n",
              "      <td>0.000000</td>\n",
              "      <td>0.365235</td>\n",
              "      <td>-0.020190</td>\n",
              "      <td>0.101735</td>\n",
              "      <td>Passanger</td>\n",
              "      <td>1.166667</td>\n",
              "      <td>24.050000</td>\n",
              "    </tr>\n",
              "    <tr>\n",
              "      <th>3</th>\n",
              "      <td>19891937</td>\n",
              "      <td>23.292324</td>\n",
              "      <td>0.046806</td>\n",
              "      <td>0.459169</td>\n",
              "      <td>-0.017538</td>\n",
              "      <td>0.174889</td>\n",
              "      <td>0.843765</td>\n",
              "      <td>Passanger</td>\n",
              "      <td>0.333333</td>\n",
              "      <td>81.783333</td>\n",
              "    </tr>\n",
              "    <tr>\n",
              "      <th>4</th>\n",
              "      <td>19892757</td>\n",
              "      <td>10.610393</td>\n",
              "      <td>0.023560</td>\n",
              "      <td>0.231124</td>\n",
              "      <td>0.068676</td>\n",
              "      <td>-0.241727</td>\n",
              "      <td>0.548682</td>\n",
              "      <td>Passanger</td>\n",
              "      <td>0.316667</td>\n",
              "      <td>24.383333</td>\n",
              "    </tr>\n",
              "    <tr>\n",
              "      <th>...</th>\n",
              "      <td>...</td>\n",
              "      <td>...</td>\n",
              "      <td>...</td>\n",
              "      <td>...</td>\n",
              "      <td>...</td>\n",
              "      <td>...</td>\n",
              "      <td>...</td>\n",
              "      <td>...</td>\n",
              "      <td>...</td>\n",
              "      <td>...</td>\n",
              "    </tr>\n",
              "    <tr>\n",
              "      <th>2582</th>\n",
              "      <td>21497153</td>\n",
              "      <td>73.502072</td>\n",
              "      <td>0.000000</td>\n",
              "      <td>0.000000</td>\n",
              "      <td>-0.038120</td>\n",
              "      <td>0.304370</td>\n",
              "      <td>-0.826014</td>\n",
              "      <td>OriginalDriver</td>\n",
              "      <td>0.000000</td>\n",
              "      <td>44.950000</td>\n",
              "    </tr>\n",
              "    <tr>\n",
              "      <th>2583</th>\n",
              "      <td>21499241</td>\n",
              "      <td>7.670491</td>\n",
              "      <td>0.000000</td>\n",
              "      <td>0.000000</td>\n",
              "      <td>0.060988</td>\n",
              "      <td>-0.484137</td>\n",
              "      <td>0.452728</td>\n",
              "      <td>Passanger</td>\n",
              "      <td>0.000000</td>\n",
              "      <td>2.250000</td>\n",
              "    </tr>\n",
              "    <tr>\n",
              "      <th>2584</th>\n",
              "      <td>21503950</td>\n",
              "      <td>17.323939</td>\n",
              "      <td>0.012181</td>\n",
              "      <td>0.119491</td>\n",
              "      <td>0.008285</td>\n",
              "      <td>-0.747005</td>\n",
              "      <td>0.297953</td>\n",
              "      <td>Passanger</td>\n",
              "      <td>0.000000</td>\n",
              "      <td>8.066667</td>\n",
              "    </tr>\n",
              "    <tr>\n",
              "      <th>2585</th>\n",
              "      <td>21512169</td>\n",
              "      <td>24.370539</td>\n",
              "      <td>0.048752</td>\n",
              "      <td>0.478255</td>\n",
              "      <td>0.267653</td>\n",
              "      <td>0.063431</td>\n",
              "      <td>-0.669810</td>\n",
              "      <td>Passanger</td>\n",
              "      <td>0.550000</td>\n",
              "      <td>16.166667</td>\n",
              "    </tr>\n",
              "    <tr>\n",
              "      <th>2586</th>\n",
              "      <td>21514828</td>\n",
              "      <td>10.515108</td>\n",
              "      <td>0.012499</td>\n",
              "      <td>0.122619</td>\n",
              "      <td>0.083376</td>\n",
              "      <td>0.465496</td>\n",
              "      <td>-0.813008</td>\n",
              "      <td>Passanger</td>\n",
              "      <td>0.000000</td>\n",
              "      <td>-0.333333</td>\n",
              "    </tr>\n",
              "  </tbody>\n",
              "</table>\n",
              "<p>2587 rows × 10 columns</p>\n",
              "</div>\n",
              "      <button class=\"colab-df-convert\" onclick=\"convertToInteractive('df-3b33f097-ae13-4352-9397-af7d6bf262f5')\"\n",
              "              title=\"Convert this dataframe to an interactive table.\"\n",
              "              style=\"display:none;\">\n",
              "        \n",
              "  <svg xmlns=\"http://www.w3.org/2000/svg\" height=\"24px\"viewBox=\"0 0 24 24\"\n",
              "       width=\"24px\">\n",
              "    <path d=\"M0 0h24v24H0V0z\" fill=\"none\"/>\n",
              "    <path d=\"M18.56 5.44l.94 2.06.94-2.06 2.06-.94-2.06-.94-.94-2.06-.94 2.06-2.06.94zm-11 1L8.5 8.5l.94-2.06 2.06-.94-2.06-.94L8.5 2.5l-.94 2.06-2.06.94zm10 10l.94 2.06.94-2.06 2.06-.94-2.06-.94-.94-2.06-.94 2.06-2.06.94z\"/><path d=\"M17.41 7.96l-1.37-1.37c-.4-.4-.92-.59-1.43-.59-.52 0-1.04.2-1.43.59L10.3 9.45l-7.72 7.72c-.78.78-.78 2.05 0 2.83L4 21.41c.39.39.9.59 1.41.59.51 0 1.02-.2 1.41-.59l7.78-7.78 2.81-2.81c.8-.78.8-2.07 0-2.86zM5.41 20L4 18.59l7.72-7.72 1.47 1.35L5.41 20z\"/>\n",
              "  </svg>\n",
              "      </button>\n",
              "      \n",
              "  <style>\n",
              "    .colab-df-container {\n",
              "      display:flex;\n",
              "      flex-wrap:wrap;\n",
              "      gap: 12px;\n",
              "    }\n",
              "\n",
              "    .colab-df-convert {\n",
              "      background-color: #E8F0FE;\n",
              "      border: none;\n",
              "      border-radius: 50%;\n",
              "      cursor: pointer;\n",
              "      display: none;\n",
              "      fill: #1967D2;\n",
              "      height: 32px;\n",
              "      padding: 0 0 0 0;\n",
              "      width: 32px;\n",
              "    }\n",
              "\n",
              "    .colab-df-convert:hover {\n",
              "      background-color: #E2EBFA;\n",
              "      box-shadow: 0px 1px 2px rgba(60, 64, 67, 0.3), 0px 1px 3px 1px rgba(60, 64, 67, 0.15);\n",
              "      fill: #174EA6;\n",
              "    }\n",
              "\n",
              "    [theme=dark] .colab-df-convert {\n",
              "      background-color: #3B4455;\n",
              "      fill: #D2E3FC;\n",
              "    }\n",
              "\n",
              "    [theme=dark] .colab-df-convert:hover {\n",
              "      background-color: #434B5C;\n",
              "      box-shadow: 0px 1px 3px 1px rgba(0, 0, 0, 0.15);\n",
              "      filter: drop-shadow(0px 1px 2px rgba(0, 0, 0, 0.3));\n",
              "      fill: #FFFFFF;\n",
              "    }\n",
              "  </style>\n",
              "\n",
              "      <script>\n",
              "        const buttonEl =\n",
              "          document.querySelector('#df-3b33f097-ae13-4352-9397-af7d6bf262f5 button.colab-df-convert');\n",
              "        buttonEl.style.display =\n",
              "          google.colab.kernel.accessAllowed ? 'block' : 'none';\n",
              "\n",
              "        async function convertToInteractive(key) {\n",
              "          const element = document.querySelector('#df-3b33f097-ae13-4352-9397-af7d6bf262f5');\n",
              "          const dataTable =\n",
              "            await google.colab.kernel.invokeFunction('convertToInteractive',\n",
              "                                                     [key], {});\n",
              "          if (!dataTable) return;\n",
              "\n",
              "          const docLinkHtml = 'Like what you see? Visit the ' +\n",
              "            '<a target=\"_blank\" href=https://colab.research.google.com/notebooks/data_table.ipynb>data table notebook</a>'\n",
              "            + ' to learn more about interactive tables.';\n",
              "          element.innerHTML = '';\n",
              "          dataTable['output_type'] = 'display_data';\n",
              "          await google.colab.output.renderOutput(dataTable, element);\n",
              "          const docLink = document.createElement('div');\n",
              "          docLink.innerHTML = docLinkHtml;\n",
              "          element.appendChild(docLink);\n",
              "        }\n",
              "      </script>\n",
              "    </div>\n",
              "  </div>\n",
              "  "
            ]
          },
          "metadata": {},
          "execution_count": 20
        }
      ]
    },
    {
      "cell_type": "code",
      "source": [
        "#Delete IncomingTrackId column\n",
        "TrackDB = TrackDB.drop(['IncomingTrackId'], axis=1)"
      ],
      "metadata": {
        "id": "mbcXGimKb9z0"
      },
      "execution_count": 22,
      "outputs": []
    },
    {
      "cell_type": "code",
      "source": [
        "# 'OriginalDriver' and 'Taxi' - 'Driver'\n",
        "TrackDB = TrackDB.replace({'TrackOrigin':{'OriginalDriver':'Driver', 'Taxi':'Driver'}})"
      ],
      "metadata": {
        "id": "yshiIfwUl_Vv"
      },
      "execution_count": 23,
      "outputs": []
    },
    {
      "cell_type": "code",
      "source": [
        "TrackDB.loc[:,'TrackOrigin'].unique()"
      ],
      "metadata": {
        "colab": {
          "base_uri": "https://localhost:8080/"
        },
        "id": "sAWvirF4nCDx",
        "outputId": "c1ae63d5-95a8-45ef-9108-6179a8b790a2"
      },
      "execution_count": 24,
      "outputs": [
        {
          "output_type": "execute_result",
          "data": {
            "text/plain": [
              "array(['Passanger', 'Driver'], dtype=object)"
            ]
          },
          "metadata": {},
          "execution_count": 24
        }
      ]
    },
    {
      "cell_type": "code",
      "source": [
        "#Prepare data\n",
        "X = TrackDB.loc[:,TrackDB.columns != 'TrackOrigin']\n",
        "y = TrackDB.loc[:,'TrackOrigin']\n",
        "X_train, X_test, y_train, y_test = train_test_split(X, y, test_size=0.2, random_state=1)"
      ],
      "metadata": {
        "id": "cT4TqXB_fLcc"
      },
      "execution_count": 25,
      "outputs": []
    },
    {
      "cell_type": "code",
      "source": [
        "# DecisionTreeClassifier model\n",
        "tree = DecisionTreeClassifier(criterion='entropy', max_depth=26, min_samples_leaf=4, splitter=\"random\", random_state=1)"
      ],
      "metadata": {
        "id": "DwJqnBTieY3J"
      },
      "execution_count": 26,
      "outputs": []
    },
    {
      "cell_type": "code",
      "source": [
        "# DecisionTreeClassifier model train\n",
        "tree.fit(X_train, y_train)"
      ],
      "metadata": {
        "id": "x0vj2vSnECIv",
        "outputId": "f6f39891-abd0-4edd-cd5d-f2cb9012e4ed",
        "colab": {
          "base_uri": "https://localhost:8080/"
        }
      },
      "execution_count": 27,
      "outputs": [
        {
          "output_type": "execute_result",
          "data": {
            "text/plain": [
              "DecisionTreeClassifier(criterion='entropy', max_depth=26, min_samples_leaf=4,\n",
              "                       random_state=1, splitter='random')"
            ]
          },
          "metadata": {},
          "execution_count": 27
        }
      ]
    },
    {
      "cell_type": "code",
      "source": [
        "# DecisionTreeClassifier model prediction\n",
        "DTC_pred = tree.predict(X_test)"
      ],
      "metadata": {
        "id": "PVdLdHpeknV7"
      },
      "execution_count": 28,
      "outputs": []
    },
    {
      "cell_type": "code",
      "source": [
        "# Accuracy score DecisionTreeClassifier\n",
        "print(accuracy_score(DTC_pred, y_test))"
      ],
      "metadata": {
        "colab": {
          "base_uri": "https://localhost:8080/"
        },
        "id": "itHSLLNElb9A",
        "outputId": "808b2093-c1bd-4cec-d8b9-35feca12653a"
      },
      "execution_count": 29,
      "outputs": [
        {
          "output_type": "stream",
          "name": "stdout",
          "text": [
            "0.7818532818532818\n"
          ]
        }
      ]
    },
    {
      "cell_type": "markdown",
      "source": [
        "Accuracy 0.7818532818532818"
      ],
      "metadata": {
        "id": "0FGILWmwQ0Fq"
      }
    },
    {
      "cell_type": "code",
      "source": [
        "# get importance\n",
        "fi = pd.DataFrame({'feature': list(X.columns),\n",
        "                   'importance': tree.feature_importances_}).\\\n",
        "                    sort_values('importance', ascending = False)\n",
        "\n",
        "fi"
      ],
      "metadata": {
        "colab": {
          "base_uri": "https://localhost:8080/",
          "height": 300
        },
        "id": "6iWuNcZ0lK_4",
        "outputId": "5c004506-2bea-4f97-9e1e-fd6bd385ce61"
      },
      "execution_count": 30,
      "outputs": [
        {
          "output_type": "execute_result",
          "data": {
            "text/plain": [
              "              feature  importance\n",
              "0          Mean_Speed    0.295810\n",
              "4  Mean_AccelerationY    0.162108\n",
              "7            Duration    0.145628\n",
              "5  Mean_AccelerationZ    0.140546\n",
              "3  Mean_AccelerationX    0.092198\n",
              "1   Mean_Acceleration    0.058901\n",
              "6          PhoneUsage    0.054877\n",
              "2   Mean_Deceleration    0.049932"
            ],
            "text/html": [
              "\n",
              "  <div id=\"df-1d067620-70e1-4832-bc7f-9871beb3a576\">\n",
              "    <div class=\"colab-df-container\">\n",
              "      <div>\n",
              "<style scoped>\n",
              "    .dataframe tbody tr th:only-of-type {\n",
              "        vertical-align: middle;\n",
              "    }\n",
              "\n",
              "    .dataframe tbody tr th {\n",
              "        vertical-align: top;\n",
              "    }\n",
              "\n",
              "    .dataframe thead th {\n",
              "        text-align: right;\n",
              "    }\n",
              "</style>\n",
              "<table border=\"1\" class=\"dataframe\">\n",
              "  <thead>\n",
              "    <tr style=\"text-align: right;\">\n",
              "      <th></th>\n",
              "      <th>feature</th>\n",
              "      <th>importance</th>\n",
              "    </tr>\n",
              "  </thead>\n",
              "  <tbody>\n",
              "    <tr>\n",
              "      <th>0</th>\n",
              "      <td>Mean_Speed</td>\n",
              "      <td>0.295810</td>\n",
              "    </tr>\n",
              "    <tr>\n",
              "      <th>4</th>\n",
              "      <td>Mean_AccelerationY</td>\n",
              "      <td>0.162108</td>\n",
              "    </tr>\n",
              "    <tr>\n",
              "      <th>7</th>\n",
              "      <td>Duration</td>\n",
              "      <td>0.145628</td>\n",
              "    </tr>\n",
              "    <tr>\n",
              "      <th>5</th>\n",
              "      <td>Mean_AccelerationZ</td>\n",
              "      <td>0.140546</td>\n",
              "    </tr>\n",
              "    <tr>\n",
              "      <th>3</th>\n",
              "      <td>Mean_AccelerationX</td>\n",
              "      <td>0.092198</td>\n",
              "    </tr>\n",
              "    <tr>\n",
              "      <th>1</th>\n",
              "      <td>Mean_Acceleration</td>\n",
              "      <td>0.058901</td>\n",
              "    </tr>\n",
              "    <tr>\n",
              "      <th>6</th>\n",
              "      <td>PhoneUsage</td>\n",
              "      <td>0.054877</td>\n",
              "    </tr>\n",
              "    <tr>\n",
              "      <th>2</th>\n",
              "      <td>Mean_Deceleration</td>\n",
              "      <td>0.049932</td>\n",
              "    </tr>\n",
              "  </tbody>\n",
              "</table>\n",
              "</div>\n",
              "      <button class=\"colab-df-convert\" onclick=\"convertToInteractive('df-1d067620-70e1-4832-bc7f-9871beb3a576')\"\n",
              "              title=\"Convert this dataframe to an interactive table.\"\n",
              "              style=\"display:none;\">\n",
              "        \n",
              "  <svg xmlns=\"http://www.w3.org/2000/svg\" height=\"24px\"viewBox=\"0 0 24 24\"\n",
              "       width=\"24px\">\n",
              "    <path d=\"M0 0h24v24H0V0z\" fill=\"none\"/>\n",
              "    <path d=\"M18.56 5.44l.94 2.06.94-2.06 2.06-.94-2.06-.94-.94-2.06-.94 2.06-2.06.94zm-11 1L8.5 8.5l.94-2.06 2.06-.94-2.06-.94L8.5 2.5l-.94 2.06-2.06.94zm10 10l.94 2.06.94-2.06 2.06-.94-2.06-.94-.94-2.06-.94 2.06-2.06.94z\"/><path d=\"M17.41 7.96l-1.37-1.37c-.4-.4-.92-.59-1.43-.59-.52 0-1.04.2-1.43.59L10.3 9.45l-7.72 7.72c-.78.78-.78 2.05 0 2.83L4 21.41c.39.39.9.59 1.41.59.51 0 1.02-.2 1.41-.59l7.78-7.78 2.81-2.81c.8-.78.8-2.07 0-2.86zM5.41 20L4 18.59l7.72-7.72 1.47 1.35L5.41 20z\"/>\n",
              "  </svg>\n",
              "      </button>\n",
              "      \n",
              "  <style>\n",
              "    .colab-df-container {\n",
              "      display:flex;\n",
              "      flex-wrap:wrap;\n",
              "      gap: 12px;\n",
              "    }\n",
              "\n",
              "    .colab-df-convert {\n",
              "      background-color: #E8F0FE;\n",
              "      border: none;\n",
              "      border-radius: 50%;\n",
              "      cursor: pointer;\n",
              "      display: none;\n",
              "      fill: #1967D2;\n",
              "      height: 32px;\n",
              "      padding: 0 0 0 0;\n",
              "      width: 32px;\n",
              "    }\n",
              "\n",
              "    .colab-df-convert:hover {\n",
              "      background-color: #E2EBFA;\n",
              "      box-shadow: 0px 1px 2px rgba(60, 64, 67, 0.3), 0px 1px 3px 1px rgba(60, 64, 67, 0.15);\n",
              "      fill: #174EA6;\n",
              "    }\n",
              "\n",
              "    [theme=dark] .colab-df-convert {\n",
              "      background-color: #3B4455;\n",
              "      fill: #D2E3FC;\n",
              "    }\n",
              "\n",
              "    [theme=dark] .colab-df-convert:hover {\n",
              "      background-color: #434B5C;\n",
              "      box-shadow: 0px 1px 3px 1px rgba(0, 0, 0, 0.15);\n",
              "      filter: drop-shadow(0px 1px 2px rgba(0, 0, 0, 0.3));\n",
              "      fill: #FFFFFF;\n",
              "    }\n",
              "  </style>\n",
              "\n",
              "      <script>\n",
              "        const buttonEl =\n",
              "          document.querySelector('#df-1d067620-70e1-4832-bc7f-9871beb3a576 button.colab-df-convert');\n",
              "        buttonEl.style.display =\n",
              "          google.colab.kernel.accessAllowed ? 'block' : 'none';\n",
              "\n",
              "        async function convertToInteractive(key) {\n",
              "          const element = document.querySelector('#df-1d067620-70e1-4832-bc7f-9871beb3a576');\n",
              "          const dataTable =\n",
              "            await google.colab.kernel.invokeFunction('convertToInteractive',\n",
              "                                                     [key], {});\n",
              "          if (!dataTable) return;\n",
              "\n",
              "          const docLinkHtml = 'Like what you see? Visit the ' +\n",
              "            '<a target=\"_blank\" href=https://colab.research.google.com/notebooks/data_table.ipynb>data table notebook</a>'\n",
              "            + ' to learn more about interactive tables.';\n",
              "          element.innerHTML = '';\n",
              "          dataTable['output_type'] = 'display_data';\n",
              "          await google.colab.output.renderOutput(dataTable, element);\n",
              "          const docLink = document.createElement('div');\n",
              "          docLink.innerHTML = docLinkHtml;\n",
              "          element.appendChild(docLink);\n",
              "        }\n",
              "      </script>\n",
              "    </div>\n",
              "  </div>\n",
              "  "
            ]
          },
          "metadata": {},
          "execution_count": 30
        }
      ]
    },
    {
      "cell_type": "code",
      "source": [
        "# BaggingClassifier with tree model train\n",
        "model = BaggingClassifier(DecisionTreeClassifier(splitter='random'), n_estimators=56, random_state=1)\n",
        "model.fit(X_train, y_train)"
      ],
      "metadata": {
        "colab": {
          "base_uri": "https://localhost:8080/"
        },
        "id": "7pHJjEAQD-u9",
        "outputId": "95cbd35e-b0eb-47c5-acdc-9a87ec47b350"
      },
      "execution_count": 31,
      "outputs": [
        {
          "output_type": "execute_result",
          "data": {
            "text/plain": [
              "BaggingClassifier(base_estimator=DecisionTreeClassifier(splitter='random'),\n",
              "                  n_estimators=56, random_state=1)"
            ]
          },
          "metadata": {},
          "execution_count": 31
        }
      ]
    },
    {
      "cell_type": "code",
      "source": [
        "# BaggingClassifier with tree model prediction\n",
        "BC_pred = model.predict(X_test)"
      ],
      "metadata": {
        "id": "hKDGevLvR1tO"
      },
      "execution_count": 32,
      "outputs": []
    },
    {
      "cell_type": "code",
      "source": [
        "# Accuracy score BaggingClassifier with tree\n",
        "print(accuracy_score(BC_pred, y_test))"
      ],
      "metadata": {
        "colab": {
          "base_uri": "https://localhost:8080/"
        },
        "id": "F_6HOzYnSA_7",
        "outputId": "deaf04d4-adad-4415-db61-7532e099ef6e"
      },
      "execution_count": 33,
      "outputs": [
        {
          "output_type": "stream",
          "name": "stdout",
          "text": [
            "0.8127413127413128\n"
          ]
        }
      ]
    },
    {
      "cell_type": "markdown",
      "source": [
        "Accuracy 0.8127413127413128 (n_estimators=56)"
      ],
      "metadata": {
        "id": "X3vA48BxRNbi"
      }
    },
    {
      "cell_type": "code",
      "source": [
        "# Search parametrs RandomForestClassifier with RandomizedSearchCV\n",
        "n_estimators = [int(x) for x in np.linspace(start = 100, stop = 1000, num = 10)]\n",
        "max_features = ['log2', 'sqrt']\n",
        "max_depth = [int(x) for x in np.linspace(start = 1, stop = 15, num = 15)]\n",
        "min_samples_split = [int(x) for x in np.linspace(start = 2, stop = 50, num = 10)]\n",
        "min_samples_leaf = [int(x) for x in np.linspace(start = 2, stop = 50, num = 10)]\n",
        "bootstrap = [True, False]\n",
        "param_dist = {'n_estimators': n_estimators,\n",
        "               'max_features': max_features,\n",
        "               'max_depth': max_depth,\n",
        "               'min_samples_split': min_samples_split,\n",
        "               'min_samples_leaf': min_samples_leaf,\n",
        "               'bootstrap': bootstrap}\n",
        "rs = RandomizedSearchCV(RandomForestClassifier(), \n",
        "                        param_dist, \n",
        "                        n_iter = 100, \n",
        "                        cv = 3, \n",
        "                        verbose = 1, \n",
        "                        n_jobs=-1, \n",
        "                        random_state=0)\n",
        "rs.fit(X_train, y_train)\n",
        "rs.best_params_"
      ],
      "metadata": {
        "id": "yX4wKKMjl0LT",
        "outputId": "a547f3a5-1ba1-4652-8abc-108c2fcb7d39",
        "colab": {
          "base_uri": "https://localhost:8080/"
        }
      },
      "execution_count": 37,
      "outputs": [
        {
          "output_type": "stream",
          "name": "stdout",
          "text": [
            "Fitting 3 folds for each of 100 candidates, totalling 300 fits\n"
          ]
        },
        {
          "output_type": "execute_result",
          "data": {
            "text/plain": [
              "{'bootstrap': False,\n",
              " 'max_depth': 15,\n",
              " 'max_features': 'sqrt',\n",
              " 'min_samples_leaf': 2,\n",
              " 'min_samples_split': 23,\n",
              " 'n_estimators': 600}"
            ]
          },
          "metadata": {},
          "execution_count": 37
        }
      ]
    },
    {
      "cell_type": "code",
      "source": [
        "# RandomForestClassifier model prediction\n",
        "RFCs_pred = rs.predict(X_test)"
      ],
      "metadata": {
        "id": "c1EJ6Ii_xFgt"
      },
      "execution_count": 38,
      "outputs": []
    },
    {
      "cell_type": "code",
      "source": [
        "# Accuracy score RandomForestClassifier\n",
        "print(accuracy_score(RFCs_pred, y_test))"
      ],
      "metadata": {
        "id": "2aSCypeFxfLt",
        "outputId": "6618aee7-2ad2-41a7-d301-bf89d796912d",
        "colab": {
          "base_uri": "https://localhost:8080/"
        }
      },
      "execution_count": 39,
      "outputs": [
        {
          "output_type": "stream",
          "name": "stdout",
          "text": [
            "0.8127413127413128\n"
          ]
        }
      ]
    },
    {
      "cell_type": "markdown",
      "source": [
        "Accuracy 0.8127413127413128"
      ],
      "metadata": {
        "id": "pgbZ_TpC-4qC"
      }
    },
    {
      "cell_type": "code",
      "source": [
        "# Search parametrs RandomForestClassifier with GridSearchCV\n",
        "n_estimators = [400,600,800]\n",
        "max_features = ['sqrt']\n",
        "max_depth = [13,15,17]\n",
        "min_samples_split = [22,23,24]\n",
        "min_samples_leaf = [2,3,4,5,6,7]\n",
        "bootstrap = [False]\n",
        "param_grid = {'n_estimators': n_estimators,\n",
        "               'max_features': max_features,\n",
        "               'max_depth': max_depth,\n",
        "               'min_samples_split': min_samples_split,\n",
        "               'min_samples_leaf': min_samples_leaf,\n",
        "               'bootstrap': bootstrap}\n",
        "gs = GridSearchCV(RandomForestClassifier(), param_grid, cv = 3, verbose = 1, n_jobs=-1)\n",
        "gs.fit(X_train, y_train)\n",
        "rfc_3 = gs.best_estimator_\n",
        "gs.best_params_"
      ],
      "metadata": {
        "id": "K_KPFMbOjL3W",
        "outputId": "4c5969ba-559c-4b8d-bbdb-9ef840fc5a7c",
        "colab": {
          "base_uri": "https://localhost:8080/"
        }
      },
      "execution_count": 47,
      "outputs": [
        {
          "output_type": "stream",
          "name": "stdout",
          "text": [
            "Fitting 3 folds for each of 162 candidates, totalling 486 fits\n"
          ]
        },
        {
          "output_type": "execute_result",
          "data": {
            "text/plain": [
              "{'bootstrap': False,\n",
              " 'max_depth': 15,\n",
              " 'max_features': 'sqrt',\n",
              " 'min_samples_leaf': 5,\n",
              " 'min_samples_split': 24,\n",
              " 'n_estimators': 400}"
            ]
          },
          "metadata": {},
          "execution_count": 47
        }
      ]
    },
    {
      "cell_type": "code",
      "source": [
        "# RandomForestClassifier model prediction\n",
        "RFCg_pred = gs.predict(X_test)"
      ],
      "metadata": {
        "id": "dqDuY-mMoGdT"
      },
      "execution_count": 49,
      "outputs": []
    },
    {
      "cell_type": "code",
      "source": [
        "# Accuracy score RandomForestClassifier\n",
        "print(accuracy_score(RFCg_pred, y_test))"
      ],
      "metadata": {
        "id": "VrNThtQtoNUS",
        "outputId": "710ecaef-0c0e-48f6-bbbe-ddbcb11697a8",
        "colab": {
          "base_uri": "https://localhost:8080/"
        }
      },
      "execution_count": 50,
      "outputs": [
        {
          "output_type": "stream",
          "name": "stdout",
          "text": [
            "0.8223938223938224\n"
          ]
        }
      ]
    },
    {
      "cell_type": "markdown",
      "source": [
        "Accuracy 0.8223938223938224"
      ],
      "metadata": {
        "id": "jKJW0TZmoeP5"
      }
    },
    {
      "cell_type": "code",
      "source": [
        "# ExtraTreesClassifier model train\n",
        "Eforest = ExtraTreesClassifier(n_estimators=600, n_jobs=-1, random_state=1)\n",
        "Eforest.fit(X_train, y_train)"
      ],
      "metadata": {
        "id": "E5drTZ5qZgQ1",
        "colab": {
          "base_uri": "https://localhost:8080/"
        },
        "outputId": "e7cb729a-463d-4952-c9d4-412ec050203e"
      },
      "execution_count": 41,
      "outputs": [
        {
          "output_type": "execute_result",
          "data": {
            "text/plain": [
              "ExtraTreesClassifier(n_estimators=600, n_jobs=-1, random_state=1)"
            ]
          },
          "metadata": {},
          "execution_count": 41
        }
      ]
    },
    {
      "cell_type": "code",
      "source": [
        "# ExtraTreesClassifier model prediction\n",
        "EFC_pred = Eforest.predict(X_test)"
      ],
      "metadata": {
        "id": "BLRnAHOEb6lN"
      },
      "execution_count": 42,
      "outputs": []
    },
    {
      "cell_type": "code",
      "source": [
        "# Accuracy score ExtraTreesClassifier\n",
        "print(accuracy_score(EFC_pred, y_test))"
      ],
      "metadata": {
        "id": "uYoQ8-X6cQ03",
        "outputId": "c306a439-be5a-4918-e0dd-88659a427f43",
        "colab": {
          "base_uri": "https://localhost:8080/"
        }
      },
      "execution_count": 43,
      "outputs": [
        {
          "output_type": "stream",
          "name": "stdout",
          "text": [
            "0.8185328185328186\n"
          ]
        }
      ]
    },
    {
      "cell_type": "markdown",
      "source": [
        "Accuracy 0.8185328185328186"
      ],
      "metadata": {
        "id": "Kjg_ivBXqx3M"
      }
    },
    {
      "cell_type": "code",
      "source": [
        "# AdaBoostClassifier model train\n",
        "AB = AdaBoostClassifier(n_estimators=600, random_state=1)\n",
        "AB.fit(X_train, y_train)"
      ],
      "metadata": {
        "id": "CNf7XhP9B32b",
        "outputId": "42d92845-147b-4eae-934b-87979a48b34f",
        "colab": {
          "base_uri": "https://localhost:8080/"
        }
      },
      "execution_count": 44,
      "outputs": [
        {
          "output_type": "execute_result",
          "data": {
            "text/plain": [
              "AdaBoostClassifier(n_estimators=600, random_state=1)"
            ]
          },
          "metadata": {},
          "execution_count": 44
        }
      ]
    },
    {
      "cell_type": "code",
      "source": [
        "# AdaBoostClassifier model prediction\n",
        "AB_pred = AB.predict(X_test)"
      ],
      "metadata": {
        "id": "R-TGaoZUD8VC"
      },
      "execution_count": 45,
      "outputs": []
    },
    {
      "cell_type": "code",
      "source": [
        "# Accuracy score AdaBoostClassifier\n",
        "print(accuracy_score(AB_pred, y_test))"
      ],
      "metadata": {
        "id": "f05f-j4sFNh7",
        "outputId": "1d527976-34f8-4da3-8b6a-3e458cadf4d0",
        "colab": {
          "base_uri": "https://localhost:8080/"
        }
      },
      "execution_count": 46,
      "outputs": [
        {
          "output_type": "stream",
          "name": "stdout",
          "text": [
            "0.8204633204633205\n"
          ]
        }
      ]
    },
    {
      "cell_type": "markdown",
      "source": [
        "Accuracy 0.8204633204633205"
      ],
      "metadata": {
        "id": "mLIIpC-xiuAP"
      }
    }
  ]
}