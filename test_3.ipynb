{
  "nbformat": 4,
  "nbformat_minor": 0,
  "metadata": {
    "colab": {
      "name": "test_3.ipynb",
      "provenance": [],
      "collapsed_sections": [],
      "mount_file_id": "https://github.com/Cepera90/test/blob/main/test_3.ipynb",
      "authorship_tag": "ABX9TyOueRRfrBUYK3bL6afp9qjZ",
      "include_colab_link": true
    },
    "kernelspec": {
      "name": "python3",
      "display_name": "Python 3"
    },
    "language_info": {
      "name": "python"
    }
  },
  "cells": [
    {
      "cell_type": "markdown",
      "metadata": {
        "id": "view-in-github",
        "colab_type": "text"
      },
      "source": [
        "<a href=\"https://colab.research.google.com/github/Cepera90/test/blob/main/test_3.ipynb\" target=\"_parent\"><img src=\"https://colab.research.google.com/assets/colab-badge.svg\" alt=\"Open In Colab\"/></a>"
      ]
    },
    {
      "cell_type": "code",
      "execution_count": 27,
      "metadata": {
        "id": "DYF3WTYwaZ2F"
      },
      "outputs": [],
      "source": [
        "# Import libraries\n",
        "import numpy as np\n",
        "import pandas as pd\n",
        "from sklearn.tree import DecisionTreeClassifier\n",
        "from sklearn.ensemble import BaggingClassifier\n",
        "from sklearn.ensemble import RandomForestClassifier\n",
        "from sklearn.metrics import accuracy_score\n",
        "from sklearn.model_selection import train_test_split\n",
        "import matplotlib.pyplot as plt\n",
        "import seaborn as sns"
      ]
    },
    {
      "cell_type": "code",
      "source": [
        "# Open inc_points_c\n",
        "TC = pd.read_csv(\"/content/drive/MyDrive/test/inc_points_c.csv\")"
      ],
      "metadata": {
        "id": "84e9ILGnaqd0"
      },
      "execution_count": 2,
      "outputs": []
    },
    {
      "cell_type": "code",
      "source": [
        "TC.columns"
      ],
      "metadata": {
        "colab": {
          "base_uri": "https://localhost:8080/"
        },
        "id": "wnGOpFTRbGzb",
        "outputId": "e5cea02e-b762-4987-8fea-727e38bcfd6b"
      },
      "execution_count": 3,
      "outputs": [
        {
          "output_type": "execute_result",
          "data": {
            "text/plain": [
              "Index(['Unnamed: 0', 'IncomingTrackId', 'Speed', 'Latitude', 'Longitude',\n",
              "       'PointDate', 'Height', 'Acceleration', 'Deceleration', 'TickTimestamp',\n",
              "       'AccelerationXOriginal', 'AccelerationYOriginal',\n",
              "       'AccelerationZOriginal', 'TrackOrigin', 'os_version'],\n",
              "      dtype='object')"
            ]
          },
          "metadata": {},
          "execution_count": 3
        }
      ]
    },
    {
      "cell_type": "code",
      "source": [
        "#Leave the numeric data inc point, IncomingTrackId and track origin\n",
        "TC = TC.drop(['Unnamed: 0','os_version','TickTimestamp','PointDate', 'IncomingTrackId'], axis=1)"
      ],
      "metadata": {
        "id": "mbcXGimKb9z0"
      },
      "execution_count": 3,
      "outputs": []
    },
    {
      "cell_type": "code",
      "source": [
        "#Leave the Latitude, Longitude and Height columns for anonimized data\n",
        "TC = TC.drop(['Latitude','Longitude','Height'], axis=1)"
      ],
      "metadata": {
        "id": "wv85LcSZ17hh"
      },
      "execution_count": 4,
      "outputs": []
    },
    {
      "cell_type": "code",
      "source": [
        "#Prepare data\n",
        "X = TC.loc[:,TC.columns != 'TrackOrigin']\n",
        "y = TC.loc[:,'TrackOrigin']\n",
        "X_train, X_test, y_train, y_test = train_test_split(X, y, test_size=0.2, random_state=1)"
      ],
      "metadata": {
        "id": "cT4TqXB_fLcc"
      },
      "execution_count": 5,
      "outputs": []
    },
    {
      "cell_type": "code",
      "source": [
        "# DecisionTreeClassifier model train\n",
        "tree = DecisionTreeClassifier(splitter=\"random\")\n",
        "tree.fit(X_train, y_train)"
      ],
      "metadata": {
        "colab": {
          "base_uri": "https://localhost:8080/"
        },
        "id": "DwJqnBTieY3J",
        "outputId": "1524f35b-f467-41f4-af4c-a0e53cf2bf08"
      },
      "execution_count": 21,
      "outputs": [
        {
          "output_type": "execute_result",
          "data": {
            "text/plain": [
              "DecisionTreeClassifier(splitter='random')"
            ]
          },
          "metadata": {},
          "execution_count": 21
        }
      ]
    },
    {
      "cell_type": "code",
      "source": [
        "# DecisionTreeClassifier model prediction\n",
        "DTC_pred = tree.predict(X_test)"
      ],
      "metadata": {
        "id": "PVdLdHpeknV7"
      },
      "execution_count": 22,
      "outputs": []
    },
    {
      "cell_type": "code",
      "source": [
        "# Accuracy score DecisionTreeClassifier\n",
        "print(accuracy_score(DTC_pred, y_test))"
      ],
      "metadata": {
        "colab": {
          "base_uri": "https://localhost:8080/"
        },
        "id": "itHSLLNElb9A",
        "outputId": "06769932-0bb3-4cfe-885a-e70d2c214a71"
      },
      "execution_count": 23,
      "outputs": [
        {
          "output_type": "stream",
          "name": "stdout",
          "text": [
            "0.7429911920663198\n"
          ]
        }
      ]
    },
    {
      "cell_type": "code",
      "source": [
        "# BaggingClassifier with tree model train\n",
        "model = BaggingClassifier(tree, n_estimators=10, random_state=1)\n",
        "model.fit(X_train, y_train)"
      ],
      "metadata": {
        "id": "7pHJjEAQD-u9",
        "outputId": "e99817c2-f275-4fc0-f5ec-07786a184c3d",
        "colab": {
          "base_uri": "https://localhost:8080/"
        }
      },
      "execution_count": 24,
      "outputs": [
        {
          "output_type": "execute_result",
          "data": {
            "text/plain": [
              "BaggingClassifier(base_estimator=DecisionTreeClassifier(splitter='random'),\n",
              "                  random_state=1)"
            ]
          },
          "metadata": {},
          "execution_count": 24
        }
      ]
    },
    {
      "cell_type": "code",
      "source": [
        "# BaggingClassifier with tree model prediction\n",
        "BC_pred = model.predict(X_test)"
      ],
      "metadata": {
        "id": "hKDGevLvR1tO"
      },
      "execution_count": 25,
      "outputs": []
    },
    {
      "cell_type": "code",
      "source": [
        "# Accuracy score BaggingClassifier with tree\n",
        "print(accuracy_score(BC_pred, y_test))"
      ],
      "metadata": {
        "id": "F_6HOzYnSA_7",
        "outputId": "a381794f-e1f8-48a9-a31f-a54b0a2ac8f7",
        "colab": {
          "base_uri": "https://localhost:8080/"
        }
      },
      "execution_count": 26,
      "outputs": [
        {
          "output_type": "stream",
          "name": "stdout",
          "text": [
            "0.8148934389134354\n"
          ]
        }
      ]
    },
    {
      "cell_type": "code",
      "source": [
        "# RandomForestClassifier model train\n",
        "forest = RandomForestClassifier()\n",
        "forest.fit(X_train, y_train)"
      ],
      "metadata": {
        "id": "ihw-ZJfkWLk2",
        "outputId": "3aa0def8-ad07-4ede-d553-adc6d6b4a99b",
        "colab": {
          "base_uri": "https://localhost:8080/"
        }
      },
      "execution_count": 31,
      "outputs": [
        {
          "output_type": "execute_result",
          "data": {
            "text/plain": [
              "RandomForestClassifier()"
            ]
          },
          "metadata": {},
          "execution_count": 31
        }
      ]
    },
    {
      "cell_type": "code",
      "source": [
        "# RandomForestClassifier model prediction\n",
        "RFC_pred = forest.predict(X_test)"
      ],
      "metadata": {
        "id": "ceDq16HbW7OF"
      },
      "execution_count": 32,
      "outputs": []
    },
    {
      "cell_type": "code",
      "source": [
        "# Accuracy score RandomForestClassifier\n",
        "print(accuracy_score(RFC_pred, y_test))"
      ],
      "metadata": {
        "id": "Jef8o2_DXHwp",
        "outputId": "107c9e53-44a8-468f-dc90-6ce591ec20c0",
        "colab": {
          "base_uri": "https://localhost:8080/"
        }
      },
      "execution_count": 33,
      "outputs": [
        {
          "output_type": "stream",
          "name": "stdout",
          "text": [
            "0.8273218597375147\n"
          ]
        }
      ]
    }
  ]
}