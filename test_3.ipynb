{
  "nbformat": 4,
  "nbformat_minor": 0,
  "metadata": {
    "colab": {
      "name": "test_3.ipynb",
      "provenance": [],
      "collapsed_sections": [],
      "mount_file_id": "https://github.com/Cepera90/test/blob/main/test_3.ipynb",
      "authorship_tag": "ABX9TyMfFZGzztugTCwLnxP7rV/w",
      "include_colab_link": true
    },
    "kernelspec": {
      "name": "python3",
      "display_name": "Python 3"
    },
    "language_info": {
      "name": "python"
    }
  },
  "cells": [
    {
      "cell_type": "markdown",
      "metadata": {
        "id": "view-in-github",
        "colab_type": "text"
      },
      "source": [
        "<a href=\"https://colab.research.google.com/github/Cepera90/test/blob/main/test_3.ipynb\" target=\"_parent\"><img src=\"https://colab.research.google.com/assets/colab-badge.svg\" alt=\"Open In Colab\"/></a>"
      ]
    },
    {
      "cell_type": "code",
      "execution_count": 11,
      "metadata": {
        "id": "DYF3WTYwaZ2F"
      },
      "outputs": [],
      "source": [
        "# Import libraries\n",
        "import numpy as np\n",
        "import pandas as pd\n",
        "from sklearn.tree import DecisionTreeClassifier\n",
        "from sklearn.ensemble import BaggingClassifier, RandomForestClassifier, ExtraTreesClassifier\n",
        "from sklearn.metrics import accuracy_score\n",
        "from sklearn.model_selection import train_test_split, GridSearchCV, RandomizedSearchCV\n",
        "import matplotlib.pyplot as plt\n",
        "import seaborn as sns"
      ]
    },
    {
      "cell_type": "code",
      "source": [
        "# Open inc_points_c\n",
        "TC = pd.read_csv(\"/content/drive/MyDrive/test/inc_points_c.csv\")"
      ],
      "metadata": {
        "id": "84e9ILGnaqd0"
      },
      "execution_count": null,
      "outputs": []
    },
    {
      "cell_type": "code",
      "source": [
        "# See median values for drivers and passangers\n",
        "TC.groupby('TrackOrigin').median()"
      ],
      "metadata": {
        "colab": {
          "base_uri": "https://localhost:8080/",
          "height": 189
        },
        "id": "wnGOpFTRbGzb",
        "outputId": "64bfeee5-d7fa-472f-df4d-d656f568e405"
      },
      "execution_count": null,
      "outputs": [
        {
          "output_type": "execute_result",
          "data": {
            "text/plain": [
              "                Unnamed: 0  IncomingTrackId      Speed   Latitude  Longitude  \\\n",
              "TrackOrigin                                                                    \n",
              "OriginalDriver   1383425.0       20681420.0   8.780098  53.214530  45.930267   \n",
              "Passanger        3310451.0       20800891.0  31.359722  51.774608  55.232452   \n",
              "Taxi             3233483.0       20713602.0  18.775861  55.717843  37.575511   \n",
              "\n",
              "                  Height  Acceleration  Deceleration  TickTimestamp  \\\n",
              "TrackOrigin                                                           \n",
              "OriginalDriver  107091.0           0.0           0.0   1.571309e+09   \n",
              "Passanger       110196.0           0.0           0.0   1.571386e+09   \n",
              "Taxi            155900.0           0.0           0.0   1.571312e+09   \n",
              "\n",
              "                AccelerationXOriginal  AccelerationYOriginal  \\\n",
              "TrackOrigin                                                    \n",
              "OriginalDriver               0.066023               0.162759   \n",
              "Passanger                    0.065380               0.166199   \n",
              "Taxi                         0.065457               0.159593   \n",
              "\n",
              "                AccelerationZOriginal  \n",
              "TrackOrigin                            \n",
              "OriginalDriver              -0.040007  \n",
              "Passanger                   -0.041804  \n",
              "Taxi                        -0.020491  "
            ],
            "text/html": [
              "\n",
              "  <div id=\"df-3d3e0af9-302e-4fa6-a484-d416dd4d4b7d\">\n",
              "    <div class=\"colab-df-container\">\n",
              "      <div>\n",
              "<style scoped>\n",
              "    .dataframe tbody tr th:only-of-type {\n",
              "        vertical-align: middle;\n",
              "    }\n",
              "\n",
              "    .dataframe tbody tr th {\n",
              "        vertical-align: top;\n",
              "    }\n",
              "\n",
              "    .dataframe thead th {\n",
              "        text-align: right;\n",
              "    }\n",
              "</style>\n",
              "<table border=\"1\" class=\"dataframe\">\n",
              "  <thead>\n",
              "    <tr style=\"text-align: right;\">\n",
              "      <th></th>\n",
              "      <th>Unnamed: 0</th>\n",
              "      <th>IncomingTrackId</th>\n",
              "      <th>Speed</th>\n",
              "      <th>Latitude</th>\n",
              "      <th>Longitude</th>\n",
              "      <th>Height</th>\n",
              "      <th>Acceleration</th>\n",
              "      <th>Deceleration</th>\n",
              "      <th>TickTimestamp</th>\n",
              "      <th>AccelerationXOriginal</th>\n",
              "      <th>AccelerationYOriginal</th>\n",
              "      <th>AccelerationZOriginal</th>\n",
              "    </tr>\n",
              "    <tr>\n",
              "      <th>TrackOrigin</th>\n",
              "      <th></th>\n",
              "      <th></th>\n",
              "      <th></th>\n",
              "      <th></th>\n",
              "      <th></th>\n",
              "      <th></th>\n",
              "      <th></th>\n",
              "      <th></th>\n",
              "      <th></th>\n",
              "      <th></th>\n",
              "      <th></th>\n",
              "      <th></th>\n",
              "    </tr>\n",
              "  </thead>\n",
              "  <tbody>\n",
              "    <tr>\n",
              "      <th>OriginalDriver</th>\n",
              "      <td>1383425.0</td>\n",
              "      <td>20681420.0</td>\n",
              "      <td>8.780098</td>\n",
              "      <td>53.214530</td>\n",
              "      <td>45.930267</td>\n",
              "      <td>107091.0</td>\n",
              "      <td>0.0</td>\n",
              "      <td>0.0</td>\n",
              "      <td>1.571309e+09</td>\n",
              "      <td>0.066023</td>\n",
              "      <td>0.162759</td>\n",
              "      <td>-0.040007</td>\n",
              "    </tr>\n",
              "    <tr>\n",
              "      <th>Passanger</th>\n",
              "      <td>3310451.0</td>\n",
              "      <td>20800891.0</td>\n",
              "      <td>31.359722</td>\n",
              "      <td>51.774608</td>\n",
              "      <td>55.232452</td>\n",
              "      <td>110196.0</td>\n",
              "      <td>0.0</td>\n",
              "      <td>0.0</td>\n",
              "      <td>1.571386e+09</td>\n",
              "      <td>0.065380</td>\n",
              "      <td>0.166199</td>\n",
              "      <td>-0.041804</td>\n",
              "    </tr>\n",
              "    <tr>\n",
              "      <th>Taxi</th>\n",
              "      <td>3233483.0</td>\n",
              "      <td>20713602.0</td>\n",
              "      <td>18.775861</td>\n",
              "      <td>55.717843</td>\n",
              "      <td>37.575511</td>\n",
              "      <td>155900.0</td>\n",
              "      <td>0.0</td>\n",
              "      <td>0.0</td>\n",
              "      <td>1.571312e+09</td>\n",
              "      <td>0.065457</td>\n",
              "      <td>0.159593</td>\n",
              "      <td>-0.020491</td>\n",
              "    </tr>\n",
              "  </tbody>\n",
              "</table>\n",
              "</div>\n",
              "      <button class=\"colab-df-convert\" onclick=\"convertToInteractive('df-3d3e0af9-302e-4fa6-a484-d416dd4d4b7d')\"\n",
              "              title=\"Convert this dataframe to an interactive table.\"\n",
              "              style=\"display:none;\">\n",
              "        \n",
              "  <svg xmlns=\"http://www.w3.org/2000/svg\" height=\"24px\"viewBox=\"0 0 24 24\"\n",
              "       width=\"24px\">\n",
              "    <path d=\"M0 0h24v24H0V0z\" fill=\"none\"/>\n",
              "    <path d=\"M18.56 5.44l.94 2.06.94-2.06 2.06-.94-2.06-.94-.94-2.06-.94 2.06-2.06.94zm-11 1L8.5 8.5l.94-2.06 2.06-.94-2.06-.94L8.5 2.5l-.94 2.06-2.06.94zm10 10l.94 2.06.94-2.06 2.06-.94-2.06-.94-.94-2.06-.94 2.06-2.06.94z\"/><path d=\"M17.41 7.96l-1.37-1.37c-.4-.4-.92-.59-1.43-.59-.52 0-1.04.2-1.43.59L10.3 9.45l-7.72 7.72c-.78.78-.78 2.05 0 2.83L4 21.41c.39.39.9.59 1.41.59.51 0 1.02-.2 1.41-.59l7.78-7.78 2.81-2.81c.8-.78.8-2.07 0-2.86zM5.41 20L4 18.59l7.72-7.72 1.47 1.35L5.41 20z\"/>\n",
              "  </svg>\n",
              "      </button>\n",
              "      \n",
              "  <style>\n",
              "    .colab-df-container {\n",
              "      display:flex;\n",
              "      flex-wrap:wrap;\n",
              "      gap: 12px;\n",
              "    }\n",
              "\n",
              "    .colab-df-convert {\n",
              "      background-color: #E8F0FE;\n",
              "      border: none;\n",
              "      border-radius: 50%;\n",
              "      cursor: pointer;\n",
              "      display: none;\n",
              "      fill: #1967D2;\n",
              "      height: 32px;\n",
              "      padding: 0 0 0 0;\n",
              "      width: 32px;\n",
              "    }\n",
              "\n",
              "    .colab-df-convert:hover {\n",
              "      background-color: #E2EBFA;\n",
              "      box-shadow: 0px 1px 2px rgba(60, 64, 67, 0.3), 0px 1px 3px 1px rgba(60, 64, 67, 0.15);\n",
              "      fill: #174EA6;\n",
              "    }\n",
              "\n",
              "    [theme=dark] .colab-df-convert {\n",
              "      background-color: #3B4455;\n",
              "      fill: #D2E3FC;\n",
              "    }\n",
              "\n",
              "    [theme=dark] .colab-df-convert:hover {\n",
              "      background-color: #434B5C;\n",
              "      box-shadow: 0px 1px 3px 1px rgba(0, 0, 0, 0.15);\n",
              "      filter: drop-shadow(0px 1px 2px rgba(0, 0, 0, 0.3));\n",
              "      fill: #FFFFFF;\n",
              "    }\n",
              "  </style>\n",
              "\n",
              "      <script>\n",
              "        const buttonEl =\n",
              "          document.querySelector('#df-3d3e0af9-302e-4fa6-a484-d416dd4d4b7d button.colab-df-convert');\n",
              "        buttonEl.style.display =\n",
              "          google.colab.kernel.accessAllowed ? 'block' : 'none';\n",
              "\n",
              "        async function convertToInteractive(key) {\n",
              "          const element = document.querySelector('#df-3d3e0af9-302e-4fa6-a484-d416dd4d4b7d');\n",
              "          const dataTable =\n",
              "            await google.colab.kernel.invokeFunction('convertToInteractive',\n",
              "                                                     [key], {});\n",
              "          if (!dataTable) return;\n",
              "\n",
              "          const docLinkHtml = 'Like what you see? Visit the ' +\n",
              "            '<a target=\"_blank\" href=https://colab.research.google.com/notebooks/data_table.ipynb>data table notebook</a>'\n",
              "            + ' to learn more about interactive tables.';\n",
              "          element.innerHTML = '';\n",
              "          dataTable['output_type'] = 'display_data';\n",
              "          await google.colab.output.renderOutput(dataTable, element);\n",
              "          const docLink = document.createElement('div');\n",
              "          docLink.innerHTML = docLinkHtml;\n",
              "          element.appendChild(docLink);\n",
              "        }\n",
              "      </script>\n",
              "    </div>\n",
              "  </div>\n",
              "  "
            ]
          },
          "metadata": {},
          "execution_count": 3
        }
      ]
    },
    {
      "cell_type": "markdown",
      "source": [
        "We see what median passanger user speed more when drivers speed (I think because professional drivers have strict speed limit)"
      ],
      "metadata": {
        "id": "rTK7AdbgBRXQ"
      }
    },
    {
      "cell_type": "code",
      "source": [
        "# Open rich_tracks_2\n",
        "RT = pd.read_csv(\"/content/drive/MyDrive/test/rich_tracks_2.csv\")"
      ],
      "metadata": {
        "id": "JjUGZ8TgFWPk"
      },
      "execution_count": null,
      "outputs": []
    },
    {
      "cell_type": "code",
      "source": [
        "# See standart deviation values for drivers and passangers\n",
        "RT.groupby('TrackOrigin').std()"
      ],
      "metadata": {
        "id": "QMB8KxQvFbt3",
        "outputId": "258ef69e-f62a-4d7c-b5af-f0f5dfc3d65e",
        "colab": {
          "base_uri": "https://localhost:8080/",
          "height": 206
        }
      },
      "execution_count": null,
      "outputs": [
        {
          "output_type": "execute_result",
          "data": {
            "text/plain": [
              "                           Id  IncomingTrackId    Distance   Duration  \\\n",
              "TrackOrigin                                                             \n",
              "OriginalDriver    4801.492524     7.024230e+04  400.357699  28.220975   \n",
              "Passanger       259711.240231     1.585408e+06  375.529387  38.344564   \n",
              "Taxi            270605.859722     1.623501e+06  224.925853  29.744323   \n",
              "\n",
              "                AccelerationCount  DecelerationCount    Rating  PhoneUsage  \\\n",
              "TrackOrigin                                                                  \n",
              "OriginalDriver           2.439093           3.154929  1.139604    2.468450   \n",
              "Passanger                2.741259           3.029253  1.110365    7.581252   \n",
              "Taxi                     1.398211           2.161288  1.166092    2.183238   \n",
              "\n",
              "                OriginChanged  DistanceGPS  ...  CorneringDuration  \\\n",
              "TrackOrigin                                 ...                      \n",
              "OriginalDriver            0.0    20.389829  ...           1.515978   \n",
              "Passanger                 0.0    38.122624  ...           9.396443   \n",
              "Taxi                      0.0    33.480420  ...           1.296748   \n",
              "\n",
              "                AccelerationICount  DecelerationICount  AccelerationIDuration  \\\n",
              "TrackOrigin                                                                     \n",
              "OriginalDriver          115.376788          220.519050             184.963118   \n",
              "Passanger               205.534600          339.757433             561.066446   \n",
              "Taxi                    261.604315          195.238016             540.821350   \n",
              "\n",
              "                DecelerationIDuration  RatingCornering  VehicleId  BeaconId  \\\n",
              "TrackOrigin                                                                   \n",
              "OriginalDriver             297.982948         0.701323        NaN       NaN   \n",
              "Passanger                  435.932303         1.097489        NaN       NaN   \n",
              "Taxi                       295.079220              NaN        NaN       NaN   \n",
              "\n",
              "                DeviationRatio  DeviationMeters  \n",
              "TrackOrigin                                      \n",
              "OriginalDriver        0.000675        21.208906  \n",
              "Passanger             0.000609        27.464519  \n",
              "Taxi                  0.000000        26.437740  \n",
              "\n",
              "[3 rows x 51 columns]"
            ],
            "text/html": [
              "\n",
              "  <div id=\"df-523e067e-eccd-4ef9-b5e2-014f1184a82e\">\n",
              "    <div class=\"colab-df-container\">\n",
              "      <div>\n",
              "<style scoped>\n",
              "    .dataframe tbody tr th:only-of-type {\n",
              "        vertical-align: middle;\n",
              "    }\n",
              "\n",
              "    .dataframe tbody tr th {\n",
              "        vertical-align: top;\n",
              "    }\n",
              "\n",
              "    .dataframe thead th {\n",
              "        text-align: right;\n",
              "    }\n",
              "</style>\n",
              "<table border=\"1\" class=\"dataframe\">\n",
              "  <thead>\n",
              "    <tr style=\"text-align: right;\">\n",
              "      <th></th>\n",
              "      <th>Id</th>\n",
              "      <th>IncomingTrackId</th>\n",
              "      <th>Distance</th>\n",
              "      <th>Duration</th>\n",
              "      <th>AccelerationCount</th>\n",
              "      <th>DecelerationCount</th>\n",
              "      <th>Rating</th>\n",
              "      <th>PhoneUsage</th>\n",
              "      <th>OriginChanged</th>\n",
              "      <th>DistanceGPS</th>\n",
              "      <th>...</th>\n",
              "      <th>CorneringDuration</th>\n",
              "      <th>AccelerationICount</th>\n",
              "      <th>DecelerationICount</th>\n",
              "      <th>AccelerationIDuration</th>\n",
              "      <th>DecelerationIDuration</th>\n",
              "      <th>RatingCornering</th>\n",
              "      <th>VehicleId</th>\n",
              "      <th>BeaconId</th>\n",
              "      <th>DeviationRatio</th>\n",
              "      <th>DeviationMeters</th>\n",
              "    </tr>\n",
              "    <tr>\n",
              "      <th>TrackOrigin</th>\n",
              "      <th></th>\n",
              "      <th></th>\n",
              "      <th></th>\n",
              "      <th></th>\n",
              "      <th></th>\n",
              "      <th></th>\n",
              "      <th></th>\n",
              "      <th></th>\n",
              "      <th></th>\n",
              "      <th></th>\n",
              "      <th></th>\n",
              "      <th></th>\n",
              "      <th></th>\n",
              "      <th></th>\n",
              "      <th></th>\n",
              "      <th></th>\n",
              "      <th></th>\n",
              "      <th></th>\n",
              "      <th></th>\n",
              "      <th></th>\n",
              "      <th></th>\n",
              "    </tr>\n",
              "  </thead>\n",
              "  <tbody>\n",
              "    <tr>\n",
              "      <th>OriginalDriver</th>\n",
              "      <td>4801.492524</td>\n",
              "      <td>7.024230e+04</td>\n",
              "      <td>400.357699</td>\n",
              "      <td>28.220975</td>\n",
              "      <td>2.439093</td>\n",
              "      <td>3.154929</td>\n",
              "      <td>1.139604</td>\n",
              "      <td>2.468450</td>\n",
              "      <td>0.0</td>\n",
              "      <td>20.389829</td>\n",
              "      <td>...</td>\n",
              "      <td>1.515978</td>\n",
              "      <td>115.376788</td>\n",
              "      <td>220.519050</td>\n",
              "      <td>184.963118</td>\n",
              "      <td>297.982948</td>\n",
              "      <td>0.701323</td>\n",
              "      <td>NaN</td>\n",
              "      <td>NaN</td>\n",
              "      <td>0.000675</td>\n",
              "      <td>21.208906</td>\n",
              "    </tr>\n",
              "    <tr>\n",
              "      <th>Passanger</th>\n",
              "      <td>259711.240231</td>\n",
              "      <td>1.585408e+06</td>\n",
              "      <td>375.529387</td>\n",
              "      <td>38.344564</td>\n",
              "      <td>2.741259</td>\n",
              "      <td>3.029253</td>\n",
              "      <td>1.110365</td>\n",
              "      <td>7.581252</td>\n",
              "      <td>0.0</td>\n",
              "      <td>38.122624</td>\n",
              "      <td>...</td>\n",
              "      <td>9.396443</td>\n",
              "      <td>205.534600</td>\n",
              "      <td>339.757433</td>\n",
              "      <td>561.066446</td>\n",
              "      <td>435.932303</td>\n",
              "      <td>1.097489</td>\n",
              "      <td>NaN</td>\n",
              "      <td>NaN</td>\n",
              "      <td>0.000609</td>\n",
              "      <td>27.464519</td>\n",
              "    </tr>\n",
              "    <tr>\n",
              "      <th>Taxi</th>\n",
              "      <td>270605.859722</td>\n",
              "      <td>1.623501e+06</td>\n",
              "      <td>224.925853</td>\n",
              "      <td>29.744323</td>\n",
              "      <td>1.398211</td>\n",
              "      <td>2.161288</td>\n",
              "      <td>1.166092</td>\n",
              "      <td>2.183238</td>\n",
              "      <td>0.0</td>\n",
              "      <td>33.480420</td>\n",
              "      <td>...</td>\n",
              "      <td>1.296748</td>\n",
              "      <td>261.604315</td>\n",
              "      <td>195.238016</td>\n",
              "      <td>540.821350</td>\n",
              "      <td>295.079220</td>\n",
              "      <td>NaN</td>\n",
              "      <td>NaN</td>\n",
              "      <td>NaN</td>\n",
              "      <td>0.000000</td>\n",
              "      <td>26.437740</td>\n",
              "    </tr>\n",
              "  </tbody>\n",
              "</table>\n",
              "<p>3 rows × 51 columns</p>\n",
              "</div>\n",
              "      <button class=\"colab-df-convert\" onclick=\"convertToInteractive('df-523e067e-eccd-4ef9-b5e2-014f1184a82e')\"\n",
              "              title=\"Convert this dataframe to an interactive table.\"\n",
              "              style=\"display:none;\">\n",
              "        \n",
              "  <svg xmlns=\"http://www.w3.org/2000/svg\" height=\"24px\"viewBox=\"0 0 24 24\"\n",
              "       width=\"24px\">\n",
              "    <path d=\"M0 0h24v24H0V0z\" fill=\"none\"/>\n",
              "    <path d=\"M18.56 5.44l.94 2.06.94-2.06 2.06-.94-2.06-.94-.94-2.06-.94 2.06-2.06.94zm-11 1L8.5 8.5l.94-2.06 2.06-.94-2.06-.94L8.5 2.5l-.94 2.06-2.06.94zm10 10l.94 2.06.94-2.06 2.06-.94-2.06-.94-.94-2.06-.94 2.06-2.06.94z\"/><path d=\"M17.41 7.96l-1.37-1.37c-.4-.4-.92-.59-1.43-.59-.52 0-1.04.2-1.43.59L10.3 9.45l-7.72 7.72c-.78.78-.78 2.05 0 2.83L4 21.41c.39.39.9.59 1.41.59.51 0 1.02-.2 1.41-.59l7.78-7.78 2.81-2.81c.8-.78.8-2.07 0-2.86zM5.41 20L4 18.59l7.72-7.72 1.47 1.35L5.41 20z\"/>\n",
              "  </svg>\n",
              "      </button>\n",
              "      \n",
              "  <style>\n",
              "    .colab-df-container {\n",
              "      display:flex;\n",
              "      flex-wrap:wrap;\n",
              "      gap: 12px;\n",
              "    }\n",
              "\n",
              "    .colab-df-convert {\n",
              "      background-color: #E8F0FE;\n",
              "      border: none;\n",
              "      border-radius: 50%;\n",
              "      cursor: pointer;\n",
              "      display: none;\n",
              "      fill: #1967D2;\n",
              "      height: 32px;\n",
              "      padding: 0 0 0 0;\n",
              "      width: 32px;\n",
              "    }\n",
              "\n",
              "    .colab-df-convert:hover {\n",
              "      background-color: #E2EBFA;\n",
              "      box-shadow: 0px 1px 2px rgba(60, 64, 67, 0.3), 0px 1px 3px 1px rgba(60, 64, 67, 0.15);\n",
              "      fill: #174EA6;\n",
              "    }\n",
              "\n",
              "    [theme=dark] .colab-df-convert {\n",
              "      background-color: #3B4455;\n",
              "      fill: #D2E3FC;\n",
              "    }\n",
              "\n",
              "    [theme=dark] .colab-df-convert:hover {\n",
              "      background-color: #434B5C;\n",
              "      box-shadow: 0px 1px 3px 1px rgba(0, 0, 0, 0.15);\n",
              "      filter: drop-shadow(0px 1px 2px rgba(0, 0, 0, 0.3));\n",
              "      fill: #FFFFFF;\n",
              "    }\n",
              "  </style>\n",
              "\n",
              "      <script>\n",
              "        const buttonEl =\n",
              "          document.querySelector('#df-523e067e-eccd-4ef9-b5e2-014f1184a82e button.colab-df-convert');\n",
              "        buttonEl.style.display =\n",
              "          google.colab.kernel.accessAllowed ? 'block' : 'none';\n",
              "\n",
              "        async function convertToInteractive(key) {\n",
              "          const element = document.querySelector('#df-523e067e-eccd-4ef9-b5e2-014f1184a82e');\n",
              "          const dataTable =\n",
              "            await google.colab.kernel.invokeFunction('convertToInteractive',\n",
              "                                                     [key], {});\n",
              "          if (!dataTable) return;\n",
              "\n",
              "          const docLinkHtml = 'Like what you see? Visit the ' +\n",
              "            '<a target=\"_blank\" href=https://colab.research.google.com/notebooks/data_table.ipynb>data table notebook</a>'\n",
              "            + ' to learn more about interactive tables.';\n",
              "          element.innerHTML = '';\n",
              "          dataTable['output_type'] = 'display_data';\n",
              "          await google.colab.output.renderOutput(dataTable, element);\n",
              "          const docLink = document.createElement('div');\n",
              "          docLink.innerHTML = docLinkHtml;\n",
              "          element.appendChild(docLink);\n",
              "        }\n",
              "      </script>\n",
              "    </div>\n",
              "  </div>\n",
              "  "
            ]
          },
          "metadata": {},
          "execution_count": 11
        },
        {
          "output_type": "stream",
          "name": "stdout",
          "text": [
            "Warning: Total number of columns (51) exceeds max_columns (20) limiting to first (20) columns.\n"
          ]
        }
      ]
    },
    {
      "cell_type": "markdown",
      "source": [
        "We see what standart deviation duration for passanger track more whan drivers track, so we can calculate duration from the TickTimestamp data in inc_point."
      ],
      "metadata": {
        "id": "jGC6g3ScF-Aa"
      }
    },
    {
      "cell_type": "code",
      "source": [
        "# Create new column Duration\n",
        "TC['Duration'] = TC.groupby('IncomingTrackId').cumcount()"
      ],
      "metadata": {
        "id": "pzZrvSV7hYWq"
      },
      "execution_count": 14,
      "outputs": []
    },
    {
      "cell_type": "code",
      "source": [
        "#See variance values for drivers and passangers\n",
        "RT.groupby('TrackOrigin').var()"
      ],
      "metadata": {
        "id": "WCGoGaJzILRM",
        "outputId": "9ac7f406-4bf4-4b91-e1a2-63e8b1f7fb66",
        "colab": {
          "base_uri": "https://localhost:8080/",
          "height": 206
        }
      },
      "execution_count": null,
      "outputs": [
        {
          "output_type": "execute_result",
          "data": {
            "text/plain": [
              "                          Id  IncomingTrackId       Distance     Duration  \\\n",
              "TrackOrigin                                                                 \n",
              "OriginalDriver  2.305433e+07     4.933981e+09  160286.287334   796.423423   \n",
              "Passanger       6.744993e+10     2.513518e+12  141022.320872  1470.305551   \n",
              "Taxi            7.322753e+10     2.635756e+12   50591.639241   884.724723   \n",
              "\n",
              "                AccelerationCount  DecelerationCount    Rating  PhoneUsage  \\\n",
              "TrackOrigin                                                                  \n",
              "OriginalDriver           5.949172           9.953577  1.298698    6.093244   \n",
              "Passanger                7.514501           9.176376  1.232911   57.475385   \n",
              "Taxi                     1.954993           4.671165  1.359771    4.766529   \n",
              "\n",
              "                OriginChanged  DistanceGPS  ...  CorneringDuration  \\\n",
              "TrackOrigin                                 ...                      \n",
              "OriginalDriver            0.0   415.745136  ...           2.298189   \n",
              "Passanger                 0.0  1453.334452  ...          88.293137   \n",
              "Taxi                      0.0  1120.938501  ...           1.681556   \n",
              "\n",
              "                AccelerationICount  DecelerationICount  AccelerationIDuration  \\\n",
              "TrackOrigin                                                                     \n",
              "OriginalDriver        13311.803181        48628.651597           34211.355162   \n",
              "Passanger             42244.471671       115435.113452          314795.556318   \n",
              "Taxi                  68436.817409        38117.882897          292487.732281   \n",
              "\n",
              "                DecelerationIDuration  RatingCornering  VehicleId  BeaconId  \\\n",
              "TrackOrigin                                                                   \n",
              "OriginalDriver           88793.837078         0.491854        NaN       NaN   \n",
              "Passanger               190036.972438         1.204483        NaN       NaN   \n",
              "Taxi                     87071.746019              NaN        NaN       NaN   \n",
              "\n",
              "                DeviationRatio  DeviationMeters  \n",
              "TrackOrigin                                      \n",
              "OriginalDriver    4.556751e-07       449.817703  \n",
              "Passanger         3.712220e-07       754.299818  \n",
              "Taxi              0.000000e+00       698.954078  \n",
              "\n",
              "[3 rows x 51 columns]"
            ],
            "text/html": [
              "\n",
              "  <div id=\"df-4ba19500-ae3e-4363-a67d-9f985ea748d2\">\n",
              "    <div class=\"colab-df-container\">\n",
              "      <div>\n",
              "<style scoped>\n",
              "    .dataframe tbody tr th:only-of-type {\n",
              "        vertical-align: middle;\n",
              "    }\n",
              "\n",
              "    .dataframe tbody tr th {\n",
              "        vertical-align: top;\n",
              "    }\n",
              "\n",
              "    .dataframe thead th {\n",
              "        text-align: right;\n",
              "    }\n",
              "</style>\n",
              "<table border=\"1\" class=\"dataframe\">\n",
              "  <thead>\n",
              "    <tr style=\"text-align: right;\">\n",
              "      <th></th>\n",
              "      <th>Id</th>\n",
              "      <th>IncomingTrackId</th>\n",
              "      <th>Distance</th>\n",
              "      <th>Duration</th>\n",
              "      <th>AccelerationCount</th>\n",
              "      <th>DecelerationCount</th>\n",
              "      <th>Rating</th>\n",
              "      <th>PhoneUsage</th>\n",
              "      <th>OriginChanged</th>\n",
              "      <th>DistanceGPS</th>\n",
              "      <th>...</th>\n",
              "      <th>CorneringDuration</th>\n",
              "      <th>AccelerationICount</th>\n",
              "      <th>DecelerationICount</th>\n",
              "      <th>AccelerationIDuration</th>\n",
              "      <th>DecelerationIDuration</th>\n",
              "      <th>RatingCornering</th>\n",
              "      <th>VehicleId</th>\n",
              "      <th>BeaconId</th>\n",
              "      <th>DeviationRatio</th>\n",
              "      <th>DeviationMeters</th>\n",
              "    </tr>\n",
              "    <tr>\n",
              "      <th>TrackOrigin</th>\n",
              "      <th></th>\n",
              "      <th></th>\n",
              "      <th></th>\n",
              "      <th></th>\n",
              "      <th></th>\n",
              "      <th></th>\n",
              "      <th></th>\n",
              "      <th></th>\n",
              "      <th></th>\n",
              "      <th></th>\n",
              "      <th></th>\n",
              "      <th></th>\n",
              "      <th></th>\n",
              "      <th></th>\n",
              "      <th></th>\n",
              "      <th></th>\n",
              "      <th></th>\n",
              "      <th></th>\n",
              "      <th></th>\n",
              "      <th></th>\n",
              "      <th></th>\n",
              "    </tr>\n",
              "  </thead>\n",
              "  <tbody>\n",
              "    <tr>\n",
              "      <th>OriginalDriver</th>\n",
              "      <td>2.305433e+07</td>\n",
              "      <td>4.933981e+09</td>\n",
              "      <td>160286.287334</td>\n",
              "      <td>796.423423</td>\n",
              "      <td>5.949172</td>\n",
              "      <td>9.953577</td>\n",
              "      <td>1.298698</td>\n",
              "      <td>6.093244</td>\n",
              "      <td>0.0</td>\n",
              "      <td>415.745136</td>\n",
              "      <td>...</td>\n",
              "      <td>2.298189</td>\n",
              "      <td>13311.803181</td>\n",
              "      <td>48628.651597</td>\n",
              "      <td>34211.355162</td>\n",
              "      <td>88793.837078</td>\n",
              "      <td>0.491854</td>\n",
              "      <td>NaN</td>\n",
              "      <td>NaN</td>\n",
              "      <td>4.556751e-07</td>\n",
              "      <td>449.817703</td>\n",
              "    </tr>\n",
              "    <tr>\n",
              "      <th>Passanger</th>\n",
              "      <td>6.744993e+10</td>\n",
              "      <td>2.513518e+12</td>\n",
              "      <td>141022.320872</td>\n",
              "      <td>1470.305551</td>\n",
              "      <td>7.514501</td>\n",
              "      <td>9.176376</td>\n",
              "      <td>1.232911</td>\n",
              "      <td>57.475385</td>\n",
              "      <td>0.0</td>\n",
              "      <td>1453.334452</td>\n",
              "      <td>...</td>\n",
              "      <td>88.293137</td>\n",
              "      <td>42244.471671</td>\n",
              "      <td>115435.113452</td>\n",
              "      <td>314795.556318</td>\n",
              "      <td>190036.972438</td>\n",
              "      <td>1.204483</td>\n",
              "      <td>NaN</td>\n",
              "      <td>NaN</td>\n",
              "      <td>3.712220e-07</td>\n",
              "      <td>754.299818</td>\n",
              "    </tr>\n",
              "    <tr>\n",
              "      <th>Taxi</th>\n",
              "      <td>7.322753e+10</td>\n",
              "      <td>2.635756e+12</td>\n",
              "      <td>50591.639241</td>\n",
              "      <td>884.724723</td>\n",
              "      <td>1.954993</td>\n",
              "      <td>4.671165</td>\n",
              "      <td>1.359771</td>\n",
              "      <td>4.766529</td>\n",
              "      <td>0.0</td>\n",
              "      <td>1120.938501</td>\n",
              "      <td>...</td>\n",
              "      <td>1.681556</td>\n",
              "      <td>68436.817409</td>\n",
              "      <td>38117.882897</td>\n",
              "      <td>292487.732281</td>\n",
              "      <td>87071.746019</td>\n",
              "      <td>NaN</td>\n",
              "      <td>NaN</td>\n",
              "      <td>NaN</td>\n",
              "      <td>0.000000e+00</td>\n",
              "      <td>698.954078</td>\n",
              "    </tr>\n",
              "  </tbody>\n",
              "</table>\n",
              "<p>3 rows × 51 columns</p>\n",
              "</div>\n",
              "      <button class=\"colab-df-convert\" onclick=\"convertToInteractive('df-4ba19500-ae3e-4363-a67d-9f985ea748d2')\"\n",
              "              title=\"Convert this dataframe to an interactive table.\"\n",
              "              style=\"display:none;\">\n",
              "        \n",
              "  <svg xmlns=\"http://www.w3.org/2000/svg\" height=\"24px\"viewBox=\"0 0 24 24\"\n",
              "       width=\"24px\">\n",
              "    <path d=\"M0 0h24v24H0V0z\" fill=\"none\"/>\n",
              "    <path d=\"M18.56 5.44l.94 2.06.94-2.06 2.06-.94-2.06-.94-.94-2.06-.94 2.06-2.06.94zm-11 1L8.5 8.5l.94-2.06 2.06-.94-2.06-.94L8.5 2.5l-.94 2.06-2.06.94zm10 10l.94 2.06.94-2.06 2.06-.94-2.06-.94-.94-2.06-.94 2.06-2.06.94z\"/><path d=\"M17.41 7.96l-1.37-1.37c-.4-.4-.92-.59-1.43-.59-.52 0-1.04.2-1.43.59L10.3 9.45l-7.72 7.72c-.78.78-.78 2.05 0 2.83L4 21.41c.39.39.9.59 1.41.59.51 0 1.02-.2 1.41-.59l7.78-7.78 2.81-2.81c.8-.78.8-2.07 0-2.86zM5.41 20L4 18.59l7.72-7.72 1.47 1.35L5.41 20z\"/>\n",
              "  </svg>\n",
              "      </button>\n",
              "      \n",
              "  <style>\n",
              "    .colab-df-container {\n",
              "      display:flex;\n",
              "      flex-wrap:wrap;\n",
              "      gap: 12px;\n",
              "    }\n",
              "\n",
              "    .colab-df-convert {\n",
              "      background-color: #E8F0FE;\n",
              "      border: none;\n",
              "      border-radius: 50%;\n",
              "      cursor: pointer;\n",
              "      display: none;\n",
              "      fill: #1967D2;\n",
              "      height: 32px;\n",
              "      padding: 0 0 0 0;\n",
              "      width: 32px;\n",
              "    }\n",
              "\n",
              "    .colab-df-convert:hover {\n",
              "      background-color: #E2EBFA;\n",
              "      box-shadow: 0px 1px 2px rgba(60, 64, 67, 0.3), 0px 1px 3px 1px rgba(60, 64, 67, 0.15);\n",
              "      fill: #174EA6;\n",
              "    }\n",
              "\n",
              "    [theme=dark] .colab-df-convert {\n",
              "      background-color: #3B4455;\n",
              "      fill: #D2E3FC;\n",
              "    }\n",
              "\n",
              "    [theme=dark] .colab-df-convert:hover {\n",
              "      background-color: #434B5C;\n",
              "      box-shadow: 0px 1px 3px 1px rgba(0, 0, 0, 0.15);\n",
              "      filter: drop-shadow(0px 1px 2px rgba(0, 0, 0, 0.3));\n",
              "      fill: #FFFFFF;\n",
              "    }\n",
              "  </style>\n",
              "\n",
              "      <script>\n",
              "        const buttonEl =\n",
              "          document.querySelector('#df-4ba19500-ae3e-4363-a67d-9f985ea748d2 button.colab-df-convert');\n",
              "        buttonEl.style.display =\n",
              "          google.colab.kernel.accessAllowed ? 'block' : 'none';\n",
              "\n",
              "        async function convertToInteractive(key) {\n",
              "          const element = document.querySelector('#df-4ba19500-ae3e-4363-a67d-9f985ea748d2');\n",
              "          const dataTable =\n",
              "            await google.colab.kernel.invokeFunction('convertToInteractive',\n",
              "                                                     [key], {});\n",
              "          if (!dataTable) return;\n",
              "\n",
              "          const docLinkHtml = 'Like what you see? Visit the ' +\n",
              "            '<a target=\"_blank\" href=https://colab.research.google.com/notebooks/data_table.ipynb>data table notebook</a>'\n",
              "            + ' to learn more about interactive tables.';\n",
              "          element.innerHTML = '';\n",
              "          dataTable['output_type'] = 'display_data';\n",
              "          await google.colab.output.renderOutput(dataTable, element);\n",
              "          const docLink = document.createElement('div');\n",
              "          docLink.innerHTML = docLinkHtml;\n",
              "          element.appendChild(docLink);\n",
              "        }\n",
              "      </script>\n",
              "    </div>\n",
              "  </div>\n",
              "  "
            ]
          },
          "metadata": {},
          "execution_count": 12
        },
        {
          "output_type": "stream",
          "name": "stdout",
          "text": [
            "Warning: Total number of columns (51) exceeds max_columns (20) limiting to first (20) columns.\n"
          ]
        }
      ]
    },
    {
      "cell_type": "markdown",
      "source": [
        "We see what variance of over speed mileage for passangers user more than drivers user, so we can add columns in inc_point data frame with over speed values."
      ],
      "metadata": {
        "id": "K99dzeEAKB1r"
      }
    },
    {
      "cell_type": "code",
      "source": [
        "#Delete the numeric data inc point, IncomingTrackId and track origin\n",
        "TC = TC.drop(['Unnamed: 0','os_version','TickTimestamp','PointDate', 'IncomingTrackId'], axis=1)"
      ],
      "metadata": {
        "id": "mbcXGimKb9z0"
      },
      "execution_count": 17,
      "outputs": []
    },
    {
      "cell_type": "code",
      "source": [
        "#Delete the Latitude, Longitude and Height columns for anonimized data\n",
        "TC = TC.drop(['Latitude','Longitude','Height'], axis=1)"
      ],
      "metadata": {
        "id": "wv85LcSZ17hh"
      },
      "execution_count": 18,
      "outputs": []
    },
    {
      "cell_type": "code",
      "source": [
        "# 'OriginalDriver' and 'Taxi' - 'Driver'\n",
        "TC = TC.replace({'TrackOrigin':{'OriginalDriver':'Driver', 'Taxi':'Driver'}})"
      ],
      "metadata": {
        "id": "yshiIfwUl_Vv"
      },
      "execution_count": 19,
      "outputs": []
    },
    {
      "cell_type": "code",
      "source": [
        "TC.loc[:,'TrackOrigin'].unique()"
      ],
      "metadata": {
        "colab": {
          "base_uri": "https://localhost:8080/"
        },
        "id": "sAWvirF4nCDx",
        "outputId": "b748c7e8-d5af-4b2b-f9f9-22e8943127ea"
      },
      "execution_count": null,
      "outputs": [
        {
          "output_type": "execute_result",
          "data": {
            "text/plain": [
              "array(['Driver', 'Passanger'], dtype=object)"
            ]
          },
          "metadata": {},
          "execution_count": 8
        }
      ]
    },
    {
      "cell_type": "code",
      "source": [
        "#Prepare data\n",
        "X = TC.loc[:,TC.columns != 'TrackOrigin']\n",
        "y = TC.loc[:,'TrackOrigin']\n",
        "X_train, X_test, y_train, y_test = train_test_split(X, y, test_size=0.2, random_state=1)"
      ],
      "metadata": {
        "id": "cT4TqXB_fLcc"
      },
      "execution_count": 20,
      "outputs": []
    },
    {
      "cell_type": "code",
      "source": [
        "# DecisionTreeClassifier model\n",
        "tree = DecisionTreeClassifier(criterion='entropy', max_depth=26, min_samples_leaf=4, splitter=\"random\", random_state=1)"
      ],
      "metadata": {
        "id": "DwJqnBTieY3J"
      },
      "execution_count": 21,
      "outputs": []
    },
    {
      "cell_type": "code",
      "source": [
        "# DecisionTreeClassifier model train\n",
        "tree.fit(X_train, y_train)"
      ],
      "metadata": {
        "id": "x0vj2vSnECIv",
        "outputId": "11242707-4bde-4559-c2ec-e9db715548c1",
        "colab": {
          "base_uri": "https://localhost:8080/"
        }
      },
      "execution_count": 22,
      "outputs": [
        {
          "output_type": "execute_result",
          "data": {
            "text/plain": [
              "DecisionTreeClassifier(criterion='entropy', max_depth=26, min_samples_leaf=4,\n",
              "                       random_state=1, splitter='random')"
            ]
          },
          "metadata": {},
          "execution_count": 22
        }
      ]
    },
    {
      "cell_type": "markdown",
      "source": [
        "Execution time 17s"
      ],
      "metadata": {
        "id": "EuVjuwpnO-Lj"
      }
    },
    {
      "cell_type": "code",
      "source": [
        "# DecisionTreeClassifier model prediction\n",
        "DTC_pred = tree.predict(X_test)"
      ],
      "metadata": {
        "id": "PVdLdHpeknV7"
      },
      "execution_count": 23,
      "outputs": []
    },
    {
      "cell_type": "code",
      "source": [
        "# Accuracy score DecisionTreeClassifier\n",
        "print(accuracy_score(DTC_pred, y_test))"
      ],
      "metadata": {
        "colab": {
          "base_uri": "https://localhost:8080/"
        },
        "id": "itHSLLNElb9A",
        "outputId": "aad67921-37f2-4076-edb3-dd177a3b116b"
      },
      "execution_count": 24,
      "outputs": [
        {
          "output_type": "stream",
          "name": "stdout",
          "text": [
            "0.8397071172394309\n"
          ]
        }
      ]
    },
    {
      "cell_type": "markdown",
      "source": [
        "Accuracy 0.8397071172394309"
      ],
      "metadata": {
        "id": "0FGILWmwQ0Fq"
      }
    },
    {
      "cell_type": "code",
      "source": [
        "# BaggingClassifier with tree model train\n",
        "model = BaggingClassifier(DecisionTreeClassifier(splitter='random'), n_estimators=34, random_state=1)\n",
        "model.fit(X_train, y_train)"
      ],
      "metadata": {
        "colab": {
          "base_uri": "https://localhost:8080/"
        },
        "id": "7pHJjEAQD-u9",
        "outputId": "dd53796d-fcd4-4972-9b1a-899312dd9c75"
      },
      "execution_count": 25,
      "outputs": [
        {
          "output_type": "execute_result",
          "data": {
            "text/plain": [
              "BaggingClassifier(base_estimator=DecisionTreeClassifier(splitter='random'),\n",
              "                  n_estimators=34, random_state=1)"
            ]
          },
          "metadata": {},
          "execution_count": 25
        }
      ]
    },
    {
      "cell_type": "markdown",
      "source": [
        "Execution time 5m (n_estimators=34)"
      ],
      "metadata": {
        "id": "r2gVxsj2QrIq"
      }
    },
    {
      "cell_type": "code",
      "source": [
        "# BaggingClassifier with tree model prediction\n",
        "BC_pred = model.predict(X_test)"
      ],
      "metadata": {
        "id": "hKDGevLvR1tO"
      },
      "execution_count": 26,
      "outputs": []
    },
    {
      "cell_type": "code",
      "source": [
        "# Accuracy score BaggingClassifier with tree\n",
        "print(accuracy_score(BC_pred, y_test))"
      ],
      "metadata": {
        "colab": {
          "base_uri": "https://localhost:8080/"
        },
        "id": "F_6HOzYnSA_7",
        "outputId": "ebf8930d-923b-49c5-fb50-0308dbf875bb"
      },
      "execution_count": 27,
      "outputs": [
        {
          "output_type": "stream",
          "name": "stdout",
          "text": [
            "0.9105786762724678\n"
          ]
        }
      ]
    },
    {
      "cell_type": "markdown",
      "source": [
        "Accuracy 0.9105786762724678(n_estimators=34)"
      ],
      "metadata": {
        "id": "X3vA48BxRNbi"
      }
    },
    {
      "cell_type": "code",
      "source": [
        "# Search parametrs RandomForestClassifier with RandomizedSearchCV\n",
        "n_estimators = [int(x) for x in np.linspace(start = 30, stop = 50, num = 10)]\n",
        "min_samples_split = [int(x) for x in np.linspace(start = 30, stop = 50, num = 10)]\n",
        "min_samples_leaf = [int(x) for x in np.linspace(start = 10, stop = 30, num = 10)]\n",
        "\n",
        "param_dist = {'n_estimators': n_estimators,\n",
        "               'min_samples_split': min_samples_split,\n",
        "               'min_samples_leaf': min_samples_leaf}\n",
        "\n",
        "rs = RandomizedSearchCV(RandomForestClassifier(), \n",
        "                        param_dist, \n",
        "                        n_iter = 4, \n",
        "                        cv = 2, \n",
        "                        verbose = 1, \n",
        "                        n_jobs=-1, \n",
        "                        random_state=0)\n",
        "rs.fit(X_train, y_train)\n",
        "rs.best_params_"
      ],
      "metadata": {
        "id": "yX4wKKMjl0LT",
        "outputId": "d951be38-bc2f-4850-818e-cf0928dd678b",
        "colab": {
          "base_uri": "https://localhost:8080/"
        }
      },
      "execution_count": null,
      "outputs": [
        {
          "output_type": "stream",
          "name": "stdout",
          "text": [
            "Fitting 2 folds for each of 4 candidates, totalling 8 fits\n"
          ]
        },
        {
          "output_type": "execute_result",
          "data": {
            "text/plain": [
              "{'min_samples_leaf': 12, 'min_samples_split': 50, 'n_estimators': 34}"
            ]
          },
          "metadata": {},
          "execution_count": 17
        }
      ]
    },
    {
      "cell_type": "code",
      "source": [
        "# RandomForestClassifier model prediction\n",
        "RFCs_pred = rs.predict(X_test)"
      ],
      "metadata": {
        "id": "c1EJ6Ii_xFgt"
      },
      "execution_count": null,
      "outputs": []
    },
    {
      "cell_type": "code",
      "source": [
        "# Accuracy score RandomForestClassifier\n",
        "print(accuracy_score(RFCs_pred, y_test))"
      ],
      "metadata": {
        "id": "2aSCypeFxfLt",
        "outputId": "5309ede2-4307-44bf-9cc5-5fdf1ceea76c",
        "colab": {
          "base_uri": "https://localhost:8080/"
        }
      },
      "execution_count": null,
      "outputs": [
        {
          "output_type": "stream",
          "name": "stdout",
          "text": [
            "0.8376392017139763\n"
          ]
        }
      ]
    },
    {
      "cell_type": "code",
      "source": [
        "# RandomForestClassifier model train\n",
        "forest = RandomForestClassifier(n_estimators=34, n_jobs=-1, random_state=1)\n",
        "forest.fit(X_train, y_train)"
      ],
      "metadata": {
        "id": "ihw-ZJfkWLk2",
        "outputId": "50692e70-546e-4273-8dbc-5fe056db6684",
        "colab": {
          "base_uri": "https://localhost:8080/"
        }
      },
      "execution_count": null,
      "outputs": [
        {
          "output_type": "execute_result",
          "data": {
            "text/plain": [
              "RandomForestClassifier(n_estimators=34, n_jobs=-1, random_state=1)"
            ]
          },
          "metadata": {},
          "execution_count": 20
        }
      ]
    },
    {
      "cell_type": "markdown",
      "source": [
        "Execution time 7m"
      ],
      "metadata": {
        "id": "wiP_wwkDWXov"
      }
    },
    {
      "cell_type": "code",
      "source": [
        "# RandomForestClassifier model prediction\n",
        "RFC_pred = forest.predict(X_test)"
      ],
      "metadata": {
        "id": "ceDq16HbW7OF"
      },
      "execution_count": null,
      "outputs": []
    },
    {
      "cell_type": "code",
      "source": [
        "# Accuracy score RandomForestClassifier\n",
        "print(accuracy_score(RFC_pred, y_test))"
      ],
      "metadata": {
        "colab": {
          "base_uri": "https://localhost:8080/"
        },
        "id": "Jef8o2_DXHwp",
        "outputId": "587280f9-6e9c-439d-e21f-7d711512bcf5"
      },
      "execution_count": null,
      "outputs": [
        {
          "output_type": "stream",
          "name": "stdout",
          "text": [
            "0.8466917275531105\n"
          ]
        }
      ]
    },
    {
      "cell_type": "markdown",
      "source": [
        "Accuracy 0.8466917275531105"
      ],
      "metadata": {
        "id": "iQmpTtwJWgi6"
      }
    },
    {
      "cell_type": "code",
      "source": [
        "# ExtraTreesClassifier model train\n",
        "Eforest = ExtraTreesClassifier(n_estimators=34, n_jobs=-1, random_state=1)\n",
        "Eforest.fit(X_train, y_train)"
      ],
      "metadata": {
        "id": "E5drTZ5qZgQ1"
      },
      "execution_count": null,
      "outputs": []
    },
    {
      "cell_type": "markdown",
      "source": [
        "Execution time 3m"
      ],
      "metadata": {
        "id": "Zre_7aWkbxhJ"
      }
    },
    {
      "cell_type": "code",
      "source": [
        "# ExtraTreesClassifier model prediction\n",
        "EFC_pred = Eforest.predict(X_test)"
      ],
      "metadata": {
        "id": "BLRnAHOEb6lN"
      },
      "execution_count": null,
      "outputs": []
    },
    {
      "cell_type": "code",
      "source": [
        "# Accuracy score ExtraTreesClassifier\n",
        "print(accuracy_score(EFC_pred, y_test))"
      ],
      "metadata": {
        "id": "uYoQ8-X6cQ03",
        "outputId": "c217391e-0edd-4670-b13a-97d93e3da8a0",
        "colab": {
          "base_uri": "https://localhost:8080/"
        }
      },
      "execution_count": null,
      "outputs": [
        {
          "output_type": "stream",
          "name": "stdout",
          "text": [
            "0.824581642769882\n"
          ]
        }
      ]
    }
  ]
}